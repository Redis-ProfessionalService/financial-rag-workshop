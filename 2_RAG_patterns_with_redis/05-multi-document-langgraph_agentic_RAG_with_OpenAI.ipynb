{
 "cells": [
  {
   "cell_type": "markdown",
   "id": "425fb020-e864-40ce-a31f-8da40c73d14b",
   "metadata": {},
   "source": [
    "<div align=\"center\">\n",
    "    <div><img src=\"../assets/redis_logo.svg\" style=\"width: 130px\"> </div>\n",
    "    <div style=\"display: inline-block; text-align: center; margin-bottom: 10px;\">\n",
    "        <span style=\"font-size: 36px;\"><b>Multi-document RAG based on LangGraph and Redis Retrieval Agent using OpenAI LLMs</b></span>\n",
    "        <br />\n",
    "    </div>\n",
    "    <br />\n",
    "</div>\n",
    "\n",
    "In this notebook, we will utilize agents to improve upon the simple RAG application showcased in the last example (04). The key distinction with Agents is they utilize a language model to determine which steps to perform next as opposed to chains which execute the same flow regardless of input. \n",
    "\n",
    "Specifically we will implement a [Retrieval Agent](https://python.langchain.com/docs/use_cases/question_answering/conversational_retrieval_agents) and incorporate it into a [LangGraph](https://python.langchain.com/docs/langgraph).\n",
    "\n",
    "To implement a Redis retrieval agent, we simply need to give an LLM access to a Redis retriever tool. By doing this the agent layer will only invoke the retriever when necessary preventing unnecessary, unrelated, and/or unwanted interactions with our financial chat tool."
   ]
  },
  {
   "cell_type": "markdown",
   "id": "d00d2e7c9bd14805",
   "metadata": {},
   "source": [
    "## Environment Setup"
   ]
  },
  {
   "cell_type": "code",
   "execution_count": 1,
   "id": "ca1a020325b51b3d",
   "metadata": {
    "ExecuteTime": {
     "end_time": "2024-06-18T20:25:46.421380Z",
     "start_time": "2024-06-18T20:25:45.234554Z"
    }
   },
   "outputs": [
    {
     "name": "stdout",
     "output_type": "stream",
     "text": [
      "Requirement already satisfied: python-dotenv in /Users/robert.shelton/.pyenv/versions/3.11.9/lib/python3.11/site-packages (1.0.1)\n",
      "\n",
      "\u001b[1m[\u001b[0m\u001b[34;49mnotice\u001b[0m\u001b[1;39;49m]\u001b[0m\u001b[39;49m A new release of pip is available: \u001b[0m\u001b[31;49m24.0\u001b[0m\u001b[39;49m -> \u001b[0m\u001b[32;49m24.2\u001b[0m\n",
      "\u001b[1m[\u001b[0m\u001b[34;49mnotice\u001b[0m\u001b[1;39;49m]\u001b[0m\u001b[39;49m To update, run: \u001b[0m\u001b[32;49mpip install --upgrade pip\u001b[0m\n",
      "Note: you may need to restart the kernel to use updated packages.\n"
     ]
    }
   ],
   "source": [
    "%pip install python-dotenv"
   ]
  },
  {
   "cell_type": "code",
   "execution_count": 2,
   "id": "d146be7205049851",
   "metadata": {
    "ExecuteTime": {
     "end_time": "2024-06-18T20:26:01.949555Z",
     "start_time": "2024-06-18T20:26:01.938877Z"
    }
   },
   "outputs": [
    {
     "name": "stdout",
     "output_type": "stream",
     "text": [
      "========== ENVIRONMENT VARIABLES ==========\n",
      "Current Directory=/Users/robert.shelton/Documents/financial-rag-workshop/2_RAG_patterns_with_redis\n",
      "Parent Directory=/Users/robert.shelton/Documents/financial-rag-workshop\n",
      "System path=['/Users/robert.shelton/Documents/financial-rag-workshop/helpers', '/Users/robert.shelton/.pyenv/versions/3.11.9/lib/python311.zip', '/Users/robert.shelton/.pyenv/versions/3.11.9/lib/python3.11', '/Users/robert.shelton/.pyenv/versions/3.11.9/lib/python3.11/lib-dynload', '', '/Users/robert.shelton/.pyenv/versions/3.11.9/lib/python3.11/site-packages']\n",
      "---------------------------------\n",
      "LLM Engine: ollama\n",
      "LOCAL_VLLM_MODEL: meta-llama/Meta-Llama-3-8B-Instruct\n",
      "LOCAL_OLLAMA_MODEL: llama3:8b\n",
      "VLLM_URL: http://localhost:8000/v1\n",
      "---------------------------------\n",
      "NLTK_DATA=\n"
     ]
    }
   ],
   "source": [
    "import sys\n",
    "import os\n",
    "import warnings\n",
    "import dotenv\n",
    "# load env vars from .env file\n",
    "dotenv.load_dotenv()\n",
    "\n",
    "warnings.filterwarnings('ignore')\n",
    "dir_path = os.getcwd()\n",
    "parent_directory = os.path.dirname(dir_path)\n",
    "sys.path.insert(0, f'{parent_directory}/helpers')\n",
    "os.environ[\"ROOT_DIR\"] = parent_directory\n",
    "REDIS_URL = os.getenv(\"REDIS_URL\")\n",
    "\n",
    "print(\"========== ENVIRONMENT VARIABLES ==========\")\n",
    "print(f\"Current Directory={dir_path}\")\n",
    "print(f\"Parent Directory={parent_directory}\")\n",
    "print(f\"System path={sys.path}\")\n",
    "print(\"---------------------------------\")\n",
    "print(f'LLM Engine: {os.getenv(\"LOCAL_LLM_ENGINE\")}')\n",
    "print(f'LOCAL_VLLM_MODEL: {os.getenv(\"LOCAL_VLLM_MODEL\")}')\n",
    "print(f'LOCAL_OLLAMA_MODEL: {os.getenv(\"LOCAL_OLLAMA_MODEL\")}')\n",
    "print(f'VLLM_URL: {os.getenv(\"VLLM_URL\")}')\n",
    "print(\"---------------------------------\")\n",
    "print(f\"NLTK_DATA={os.getenv('NLTK_DATA')}\")"
   ]
  },
  {
   "cell_type": "markdown",
   "id": "42aea03f6978ce00",
   "metadata": {},
   "source": [
    "### Install Python Dependencies"
   ]
  },
  {
   "cell_type": "code",
   "execution_count": 3,
   "id": "fe27d19af62e7bc5",
   "metadata": {
    "ExecuteTime": {
     "end_time": "2024-06-18T20:26:49.561927Z",
     "start_time": "2024-06-18T20:26:47.191865Z"
    }
   },
   "outputs": [
    {
     "name": "stdout",
     "output_type": "stream",
     "text": [
      "Requirement already satisfied: python-dotenv in /Users/robert.shelton/.pyenv/versions/3.11.9/lib/python3.11/site-packages (from -r /Users/robert.shelton/Documents/financial-rag-workshop/requirements.txt (line 1)) (1.0.1)\n",
      "Requirement already satisfied: tiktoken in /Users/robert.shelton/.pyenv/versions/3.11.9/lib/python3.11/site-packages (from -r /Users/robert.shelton/Documents/financial-rag-workshop/requirements.txt (line 2)) (0.7.0)\n",
      "Requirement already satisfied: langchain in /Users/robert.shelton/.pyenv/versions/3.11.9/lib/python3.11/site-packages (from -r /Users/robert.shelton/Documents/financial-rag-workshop/requirements.txt (line 3)) (0.2.1)\n",
      "Requirement already satisfied: langchain-community in /Users/robert.shelton/.pyenv/versions/3.11.9/lib/python3.11/site-packages (from -r /Users/robert.shelton/Documents/financial-rag-workshop/requirements.txt (line 4)) (0.2.1)\n",
      "Requirement already satisfied: sentence-transformers in /Users/robert.shelton/.pyenv/versions/3.11.9/lib/python3.11/site-packages (from -r /Users/robert.shelton/Documents/financial-rag-workshop/requirements.txt (line 6)) (2.7.0)\n",
      "Requirement already satisfied: pandas in /Users/robert.shelton/.pyenv/versions/3.11.9/lib/python3.11/site-packages (from -r /Users/robert.shelton/Documents/financial-rag-workshop/requirements.txt (line 7)) (2.2.2)\n",
      "Requirement already satisfied: pdf2image in /Users/robert.shelton/.pyenv/versions/3.11.9/lib/python3.11/site-packages (from -r /Users/robert.shelton/Documents/financial-rag-workshop/requirements.txt (line 8)) (1.17.0)\n",
      "Requirement already satisfied: spacy in /Users/robert.shelton/.pyenv/versions/3.11.9/lib/python3.11/site-packages (from -r /Users/robert.shelton/Documents/financial-rag-workshop/requirements.txt (line 9)) (3.7.4)\n",
      "Requirement already satisfied: langgraph in /Users/robert.shelton/.pyenv/versions/3.11.9/lib/python3.11/site-packages (from -r /Users/robert.shelton/Documents/financial-rag-workshop/requirements.txt (line 10)) (0.0.66)\n",
      "Requirement already satisfied: redis in /Users/robert.shelton/.pyenv/versions/3.11.9/lib/python3.11/site-packages (from -r /Users/robert.shelton/Documents/financial-rag-workshop/requirements.txt (line 11)) (5.0.7)\n",
      "Requirement already satisfied: redisvl in /Users/robert.shelton/.pyenv/versions/3.11.9/lib/python3.11/site-packages (from -r /Users/robert.shelton/Documents/financial-rag-workshop/requirements.txt (line 12)) (0.1.3)\n",
      "Requirement already satisfied: langchain-openai in /Users/robert.shelton/.pyenv/versions/3.11.9/lib/python3.11/site-packages (from -r /Users/robert.shelton/Documents/financial-rag-workshop/requirements.txt (line 13)) (0.1.13)\n",
      "Requirement already satisfied: openai in /Users/robert.shelton/.pyenv/versions/3.11.9/lib/python3.11/site-packages (from -r /Users/robert.shelton/Documents/financial-rag-workshop/requirements.txt (line 14)) (1.35.8)\n",
      "Requirement already satisfied: unstructured[pdf] in /Users/robert.shelton/.pyenv/versions/3.11.9/lib/python3.11/site-packages (from -r /Users/robert.shelton/Documents/financial-rag-workshop/requirements.txt (line 5)) (0.13.7)\n",
      "Requirement already satisfied: regex>=2022.1.18 in /Users/robert.shelton/.pyenv/versions/3.11.9/lib/python3.11/site-packages (from tiktoken->-r /Users/robert.shelton/Documents/financial-rag-workshop/requirements.txt (line 2)) (2024.4.28)\n",
      "Requirement already satisfied: requests>=2.26.0 in /Users/robert.shelton/.pyenv/versions/3.11.9/lib/python3.11/site-packages (from tiktoken->-r /Users/robert.shelton/Documents/financial-rag-workshop/requirements.txt (line 2)) (2.31.0)\n",
      "Requirement already satisfied: PyYAML>=5.3 in /Users/robert.shelton/.pyenv/versions/3.11.9/lib/python3.11/site-packages (from langchain->-r /Users/robert.shelton/Documents/financial-rag-workshop/requirements.txt (line 3)) (6.0.1)\n",
      "Requirement already satisfied: SQLAlchemy<3,>=1.4 in /Users/robert.shelton/.pyenv/versions/3.11.9/lib/python3.11/site-packages (from langchain->-r /Users/robert.shelton/Documents/financial-rag-workshop/requirements.txt (line 3)) (2.0.30)\n",
      "Requirement already satisfied: aiohttp<4.0.0,>=3.8.3 in /Users/robert.shelton/.pyenv/versions/3.11.9/lib/python3.11/site-packages (from langchain->-r /Users/robert.shelton/Documents/financial-rag-workshop/requirements.txt (line 3)) (3.9.5)\n",
      "Requirement already satisfied: langchain-core<0.3.0,>=0.2.0 in /Users/robert.shelton/.pyenv/versions/3.11.9/lib/python3.11/site-packages (from langchain->-r /Users/robert.shelton/Documents/financial-rag-workshop/requirements.txt (line 3)) (0.2.3)\n",
      "Requirement already satisfied: langchain-text-splitters<0.3.0,>=0.2.0 in /Users/robert.shelton/.pyenv/versions/3.11.9/lib/python3.11/site-packages (from langchain->-r /Users/robert.shelton/Documents/financial-rag-workshop/requirements.txt (line 3)) (0.2.0)\n",
      "Requirement already satisfied: langsmith<0.2.0,>=0.1.17 in /Users/robert.shelton/.pyenv/versions/3.11.9/lib/python3.11/site-packages (from langchain->-r /Users/robert.shelton/Documents/financial-rag-workshop/requirements.txt (line 3)) (0.1.65)\n",
      "Requirement already satisfied: numpy<2,>=1 in /Users/robert.shelton/.pyenv/versions/3.11.9/lib/python3.11/site-packages (from langchain->-r /Users/robert.shelton/Documents/financial-rag-workshop/requirements.txt (line 3)) (1.26.4)\n",
      "Requirement already satisfied: pydantic<3,>=1 in /Users/robert.shelton/.pyenv/versions/3.11.9/lib/python3.11/site-packages (from langchain->-r /Users/robert.shelton/Documents/financial-rag-workshop/requirements.txt (line 3)) (2.7.1)\n",
      "Requirement already satisfied: tenacity<9.0.0,>=8.1.0 in /Users/robert.shelton/.pyenv/versions/3.11.9/lib/python3.11/site-packages (from langchain->-r /Users/robert.shelton/Documents/financial-rag-workshop/requirements.txt (line 3)) (8.3.0)\n",
      "Requirement already satisfied: dataclasses-json<0.7,>=0.5.7 in /Users/robert.shelton/.pyenv/versions/3.11.9/lib/python3.11/site-packages (from langchain-community->-r /Users/robert.shelton/Documents/financial-rag-workshop/requirements.txt (line 4)) (0.6.5)\n",
      "Requirement already satisfied: chardet in /Users/robert.shelton/.pyenv/versions/3.11.9/lib/python3.11/site-packages (from unstructured[pdf]->-r /Users/robert.shelton/Documents/financial-rag-workshop/requirements.txt (line 5)) (5.2.0)\n",
      "Requirement already satisfied: filetype in /Users/robert.shelton/.pyenv/versions/3.11.9/lib/python3.11/site-packages (from unstructured[pdf]->-r /Users/robert.shelton/Documents/financial-rag-workshop/requirements.txt (line 5)) (1.2.0)\n",
      "Requirement already satisfied: python-magic in /Users/robert.shelton/.pyenv/versions/3.11.9/lib/python3.11/site-packages (from unstructured[pdf]->-r /Users/robert.shelton/Documents/financial-rag-workshop/requirements.txt (line 5)) (0.4.27)\n",
      "Requirement already satisfied: lxml in /Users/robert.shelton/.pyenv/versions/3.11.9/lib/python3.11/site-packages (from unstructured[pdf]->-r /Users/robert.shelton/Documents/financial-rag-workshop/requirements.txt (line 5)) (5.2.1)\n",
      "Requirement already satisfied: nltk in /Users/robert.shelton/.pyenv/versions/3.11.9/lib/python3.11/site-packages (from unstructured[pdf]->-r /Users/robert.shelton/Documents/financial-rag-workshop/requirements.txt (line 5)) (3.8.1)\n",
      "Requirement already satisfied: tabulate in /Users/robert.shelton/.pyenv/versions/3.11.9/lib/python3.11/site-packages (from unstructured[pdf]->-r /Users/robert.shelton/Documents/financial-rag-workshop/requirements.txt (line 5)) (0.9.0)\n",
      "Requirement already satisfied: beautifulsoup4 in /Users/robert.shelton/.pyenv/versions/3.11.9/lib/python3.11/site-packages (from unstructured[pdf]->-r /Users/robert.shelton/Documents/financial-rag-workshop/requirements.txt (line 5)) (4.12.3)\n",
      "Requirement already satisfied: emoji in /Users/robert.shelton/.pyenv/versions/3.11.9/lib/python3.11/site-packages (from unstructured[pdf]->-r /Users/robert.shelton/Documents/financial-rag-workshop/requirements.txt (line 5)) (2.11.1)\n",
      "Requirement already satisfied: python-iso639 in /Users/robert.shelton/.pyenv/versions/3.11.9/lib/python3.11/site-packages (from unstructured[pdf]->-r /Users/robert.shelton/Documents/financial-rag-workshop/requirements.txt (line 5)) (2024.4.27)\n",
      "Requirement already satisfied: langdetect in /Users/robert.shelton/.pyenv/versions/3.11.9/lib/python3.11/site-packages (from unstructured[pdf]->-r /Users/robert.shelton/Documents/financial-rag-workshop/requirements.txt (line 5)) (1.0.9)\n",
      "Requirement already satisfied: rapidfuzz in /Users/robert.shelton/.pyenv/versions/3.11.9/lib/python3.11/site-packages (from unstructured[pdf]->-r /Users/robert.shelton/Documents/financial-rag-workshop/requirements.txt (line 5)) (3.9.0)\n",
      "Requirement already satisfied: backoff in /Users/robert.shelton/.pyenv/versions/3.11.9/lib/python3.11/site-packages (from unstructured[pdf]->-r /Users/robert.shelton/Documents/financial-rag-workshop/requirements.txt (line 5)) (2.2.1)\n",
      "Requirement already satisfied: typing-extensions in /Users/robert.shelton/.pyenv/versions/3.11.9/lib/python3.11/site-packages (from unstructured[pdf]->-r /Users/robert.shelton/Documents/financial-rag-workshop/requirements.txt (line 5)) (4.11.0)\n",
      "Requirement already satisfied: unstructured-client in /Users/robert.shelton/.pyenv/versions/3.11.9/lib/python3.11/site-packages (from unstructured[pdf]->-r /Users/robert.shelton/Documents/financial-rag-workshop/requirements.txt (line 5)) (0.22.0)\n",
      "Requirement already satisfied: wrapt in /Users/robert.shelton/.pyenv/versions/3.11.9/lib/python3.11/site-packages (from unstructured[pdf]->-r /Users/robert.shelton/Documents/financial-rag-workshop/requirements.txt (line 5)) (1.16.0)\n",
      "Requirement already satisfied: onnx in /Users/robert.shelton/.pyenv/versions/3.11.9/lib/python3.11/site-packages (from unstructured[pdf]->-r /Users/robert.shelton/Documents/financial-rag-workshop/requirements.txt (line 5)) (1.16.0)\n",
      "Requirement already satisfied: pdfminer.six in /Users/robert.shelton/.pyenv/versions/3.11.9/lib/python3.11/site-packages (from unstructured[pdf]->-r /Users/robert.shelton/Documents/financial-rag-workshop/requirements.txt (line 5)) (20231228)\n",
      "Requirement already satisfied: pikepdf in /Users/robert.shelton/.pyenv/versions/3.11.9/lib/python3.11/site-packages (from unstructured[pdf]->-r /Users/robert.shelton/Documents/financial-rag-workshop/requirements.txt (line 5)) (8.15.1)\n",
      "Requirement already satisfied: pillow-heif in /Users/robert.shelton/.pyenv/versions/3.11.9/lib/python3.11/site-packages (from unstructured[pdf]->-r /Users/robert.shelton/Documents/financial-rag-workshop/requirements.txt (line 5)) (0.16.0)\n",
      "Requirement already satisfied: pypdf in /Users/robert.shelton/.pyenv/versions/3.11.9/lib/python3.11/site-packages (from unstructured[pdf]->-r /Users/robert.shelton/Documents/financial-rag-workshop/requirements.txt (line 5)) (4.2.0)\n",
      "Requirement already satisfied: unstructured-inference==0.7.31 in /Users/robert.shelton/.pyenv/versions/3.11.9/lib/python3.11/site-packages (from unstructured[pdf]->-r /Users/robert.shelton/Documents/financial-rag-workshop/requirements.txt (line 5)) (0.7.31)\n",
      "Requirement already satisfied: unstructured.pytesseract>=0.3.12 in /Users/robert.shelton/.pyenv/versions/3.11.9/lib/python3.11/site-packages (from unstructured[pdf]->-r /Users/robert.shelton/Documents/financial-rag-workshop/requirements.txt (line 5)) (0.3.12)\n",
      "Requirement already satisfied: google-cloud-vision in /Users/robert.shelton/.pyenv/versions/3.11.9/lib/python3.11/site-packages (from unstructured[pdf]->-r /Users/robert.shelton/Documents/financial-rag-workshop/requirements.txt (line 5)) (3.7.2)\n",
      "Requirement already satisfied: layoutparser[layoutmodels,tesseract] in /Users/robert.shelton/.pyenv/versions/3.11.9/lib/python3.11/site-packages (from unstructured-inference==0.7.31->unstructured[pdf]->-r /Users/robert.shelton/Documents/financial-rag-workshop/requirements.txt (line 5)) (0.3.4)\n",
      "Requirement already satisfied: python-multipart in /Users/robert.shelton/.pyenv/versions/3.11.9/lib/python3.11/site-packages (from unstructured-inference==0.7.31->unstructured[pdf]->-r /Users/robert.shelton/Documents/financial-rag-workshop/requirements.txt (line 5)) (0.0.9)\n",
      "Requirement already satisfied: huggingface-hub in /Users/robert.shelton/.pyenv/versions/3.11.9/lib/python3.11/site-packages (from unstructured-inference==0.7.31->unstructured[pdf]->-r /Users/robert.shelton/Documents/financial-rag-workshop/requirements.txt (line 5)) (0.23.2)\n",
      "Requirement already satisfied: opencv-python!=4.7.0.68 in /Users/robert.shelton/.pyenv/versions/3.11.9/lib/python3.11/site-packages (from unstructured-inference==0.7.31->unstructured[pdf]->-r /Users/robert.shelton/Documents/financial-rag-workshop/requirements.txt (line 5)) (4.9.0.80)\n",
      "Requirement already satisfied: onnxruntime>=1.17.0 in /Users/robert.shelton/.pyenv/versions/3.11.9/lib/python3.11/site-packages (from unstructured-inference==0.7.31->unstructured[pdf]->-r /Users/robert.shelton/Documents/financial-rag-workshop/requirements.txt (line 5)) (1.17.3)\n",
      "Requirement already satisfied: transformers>=4.25.1 in /Users/robert.shelton/.pyenv/versions/3.11.9/lib/python3.11/site-packages (from unstructured-inference==0.7.31->unstructured[pdf]->-r /Users/robert.shelton/Documents/financial-rag-workshop/requirements.txt (line 5)) (4.40.2)\n",
      "Requirement already satisfied: tqdm in /Users/robert.shelton/.pyenv/versions/3.11.9/lib/python3.11/site-packages (from sentence-transformers->-r /Users/robert.shelton/Documents/financial-rag-workshop/requirements.txt (line 6)) (4.66.4)\n",
      "Requirement already satisfied: torch>=1.11.0 in /Users/robert.shelton/.pyenv/versions/3.11.9/lib/python3.11/site-packages (from sentence-transformers->-r /Users/robert.shelton/Documents/financial-rag-workshop/requirements.txt (line 6)) (2.3.0)\n",
      "Requirement already satisfied: scikit-learn in /Users/robert.shelton/.pyenv/versions/3.11.9/lib/python3.11/site-packages (from sentence-transformers->-r /Users/robert.shelton/Documents/financial-rag-workshop/requirements.txt (line 6)) (1.4.2)\n",
      "Requirement already satisfied: scipy in /Users/robert.shelton/.pyenv/versions/3.11.9/lib/python3.11/site-packages (from sentence-transformers->-r /Users/robert.shelton/Documents/financial-rag-workshop/requirements.txt (line 6)) (1.13.0)\n",
      "Requirement already satisfied: Pillow in /Users/robert.shelton/.pyenv/versions/3.11.9/lib/python3.11/site-packages (from sentence-transformers->-r /Users/robert.shelton/Documents/financial-rag-workshop/requirements.txt (line 6)) (10.3.0)\n",
      "Requirement already satisfied: python-dateutil>=2.8.2 in /Users/robert.shelton/.pyenv/versions/3.11.9/lib/python3.11/site-packages (from pandas->-r /Users/robert.shelton/Documents/financial-rag-workshop/requirements.txt (line 7)) (2.9.0.post0)\n",
      "Requirement already satisfied: pytz>=2020.1 in /Users/robert.shelton/.pyenv/versions/3.11.9/lib/python3.11/site-packages (from pandas->-r /Users/robert.shelton/Documents/financial-rag-workshop/requirements.txt (line 7)) (2024.1)\n",
      "Requirement already satisfied: tzdata>=2022.7 in /Users/robert.shelton/.pyenv/versions/3.11.9/lib/python3.11/site-packages (from pandas->-r /Users/robert.shelton/Documents/financial-rag-workshop/requirements.txt (line 7)) (2024.1)\n",
      "Requirement already satisfied: spacy-legacy<3.1.0,>=3.0.11 in /Users/robert.shelton/.pyenv/versions/3.11.9/lib/python3.11/site-packages (from spacy->-r /Users/robert.shelton/Documents/financial-rag-workshop/requirements.txt (line 9)) (3.0.12)\n",
      "Requirement already satisfied: spacy-loggers<2.0.0,>=1.0.0 in /Users/robert.shelton/.pyenv/versions/3.11.9/lib/python3.11/site-packages (from spacy->-r /Users/robert.shelton/Documents/financial-rag-workshop/requirements.txt (line 9)) (1.0.5)\n",
      "Requirement already satisfied: murmurhash<1.1.0,>=0.28.0 in /Users/robert.shelton/.pyenv/versions/3.11.9/lib/python3.11/site-packages (from spacy->-r /Users/robert.shelton/Documents/financial-rag-workshop/requirements.txt (line 9)) (1.0.10)\n",
      "Requirement already satisfied: cymem<2.1.0,>=2.0.2 in /Users/robert.shelton/.pyenv/versions/3.11.9/lib/python3.11/site-packages (from spacy->-r /Users/robert.shelton/Documents/financial-rag-workshop/requirements.txt (line 9)) (2.0.8)\n",
      "Requirement already satisfied: preshed<3.1.0,>=3.0.2 in /Users/robert.shelton/.pyenv/versions/3.11.9/lib/python3.11/site-packages (from spacy->-r /Users/robert.shelton/Documents/financial-rag-workshop/requirements.txt (line 9)) (3.0.9)\n",
      "Requirement already satisfied: thinc<8.3.0,>=8.2.2 in /Users/robert.shelton/.pyenv/versions/3.11.9/lib/python3.11/site-packages (from spacy->-r /Users/robert.shelton/Documents/financial-rag-workshop/requirements.txt (line 9)) (8.2.3)\n",
      "Requirement already satisfied: wasabi<1.2.0,>=0.9.1 in /Users/robert.shelton/.pyenv/versions/3.11.9/lib/python3.11/site-packages (from spacy->-r /Users/robert.shelton/Documents/financial-rag-workshop/requirements.txt (line 9)) (1.1.2)\n",
      "Requirement already satisfied: srsly<3.0.0,>=2.4.3 in /Users/robert.shelton/.pyenv/versions/3.11.9/lib/python3.11/site-packages (from spacy->-r /Users/robert.shelton/Documents/financial-rag-workshop/requirements.txt (line 9)) (2.4.8)\n",
      "Requirement already satisfied: catalogue<2.1.0,>=2.0.6 in /Users/robert.shelton/.pyenv/versions/3.11.9/lib/python3.11/site-packages (from spacy->-r /Users/robert.shelton/Documents/financial-rag-workshop/requirements.txt (line 9)) (2.0.10)\n",
      "Requirement already satisfied: weasel<0.4.0,>=0.1.0 in /Users/robert.shelton/.pyenv/versions/3.11.9/lib/python3.11/site-packages (from spacy->-r /Users/robert.shelton/Documents/financial-rag-workshop/requirements.txt (line 9)) (0.3.4)\n",
      "Requirement already satisfied: typer<0.10.0,>=0.3.0 in /Users/robert.shelton/.pyenv/versions/3.11.9/lib/python3.11/site-packages (from spacy->-r /Users/robert.shelton/Documents/financial-rag-workshop/requirements.txt (line 9)) (0.9.4)\n",
      "Requirement already satisfied: smart-open<7.0.0,>=5.2.1 in /Users/robert.shelton/.pyenv/versions/3.11.9/lib/python3.11/site-packages (from spacy->-r /Users/robert.shelton/Documents/financial-rag-workshop/requirements.txt (line 9)) (6.4.0)\n",
      "Requirement already satisfied: jinja2 in /Users/robert.shelton/.pyenv/versions/3.11.9/lib/python3.11/site-packages (from spacy->-r /Users/robert.shelton/Documents/financial-rag-workshop/requirements.txt (line 9)) (3.1.4)\n",
      "Requirement already satisfied: setuptools in /Users/robert.shelton/.pyenv/versions/3.11.9/lib/python3.11/site-packages (from spacy->-r /Users/robert.shelton/Documents/financial-rag-workshop/requirements.txt (line 9)) (65.5.0)\n",
      "Requirement already satisfied: packaging>=20.0 in /Users/robert.shelton/.pyenv/versions/3.11.9/lib/python3.11/site-packages (from spacy->-r /Users/robert.shelton/Documents/financial-rag-workshop/requirements.txt (line 9)) (23.2)\n",
      "Requirement already satisfied: langcodes<4.0.0,>=3.2.0 in /Users/robert.shelton/.pyenv/versions/3.11.9/lib/python3.11/site-packages (from spacy->-r /Users/robert.shelton/Documents/financial-rag-workshop/requirements.txt (line 9)) (3.4.0)\n",
      "Requirement already satisfied: coloredlogs in /Users/robert.shelton/.pyenv/versions/3.11.9/lib/python3.11/site-packages (from redisvl->-r /Users/robert.shelton/Documents/financial-rag-workshop/requirements.txt (line 12)) (15.0.1)\n",
      "Requirement already satisfied: anyio<5,>=3.5.0 in /Users/robert.shelton/.pyenv/versions/3.11.9/lib/python3.11/site-packages (from openai->-r /Users/robert.shelton/Documents/financial-rag-workshop/requirements.txt (line 14)) (3.7.1)\n",
      "Requirement already satisfied: distro<2,>=1.7.0 in /Users/robert.shelton/.pyenv/versions/3.11.9/lib/python3.11/site-packages (from openai->-r /Users/robert.shelton/Documents/financial-rag-workshop/requirements.txt (line 14)) (1.9.0)\n",
      "Requirement already satisfied: httpx<1,>=0.23.0 in /Users/robert.shelton/.pyenv/versions/3.11.9/lib/python3.11/site-packages (from openai->-r /Users/robert.shelton/Documents/financial-rag-workshop/requirements.txt (line 14)) (0.27.0)\n",
      "Requirement already satisfied: sniffio in /Users/robert.shelton/.pyenv/versions/3.11.9/lib/python3.11/site-packages (from openai->-r /Users/robert.shelton/Documents/financial-rag-workshop/requirements.txt (line 14)) (1.3.1)\n",
      "Requirement already satisfied: aiosignal>=1.1.2 in /Users/robert.shelton/.pyenv/versions/3.11.9/lib/python3.11/site-packages (from aiohttp<4.0.0,>=3.8.3->langchain->-r /Users/robert.shelton/Documents/financial-rag-workshop/requirements.txt (line 3)) (1.3.1)\n",
      "Requirement already satisfied: attrs>=17.3.0 in /Users/robert.shelton/.pyenv/versions/3.11.9/lib/python3.11/site-packages (from aiohttp<4.0.0,>=3.8.3->langchain->-r /Users/robert.shelton/Documents/financial-rag-workshop/requirements.txt (line 3)) (23.2.0)\n",
      "Requirement already satisfied: frozenlist>=1.1.1 in /Users/robert.shelton/.pyenv/versions/3.11.9/lib/python3.11/site-packages (from aiohttp<4.0.0,>=3.8.3->langchain->-r /Users/robert.shelton/Documents/financial-rag-workshop/requirements.txt (line 3)) (1.4.1)\n",
      "Requirement already satisfied: multidict<7.0,>=4.5 in /Users/robert.shelton/.pyenv/versions/3.11.9/lib/python3.11/site-packages (from aiohttp<4.0.0,>=3.8.3->langchain->-r /Users/robert.shelton/Documents/financial-rag-workshop/requirements.txt (line 3)) (6.0.5)\n",
      "Requirement already satisfied: yarl<2.0,>=1.0 in /Users/robert.shelton/.pyenv/versions/3.11.9/lib/python3.11/site-packages (from aiohttp<4.0.0,>=3.8.3->langchain->-r /Users/robert.shelton/Documents/financial-rag-workshop/requirements.txt (line 3)) (1.9.4)\n",
      "Requirement already satisfied: idna>=2.8 in /Users/robert.shelton/.pyenv/versions/3.11.9/lib/python3.11/site-packages (from anyio<5,>=3.5.0->openai->-r /Users/robert.shelton/Documents/financial-rag-workshop/requirements.txt (line 14)) (3.7)\n",
      "Requirement already satisfied: marshmallow<4.0.0,>=3.18.0 in /Users/robert.shelton/.pyenv/versions/3.11.9/lib/python3.11/site-packages (from dataclasses-json<0.7,>=0.5.7->langchain-community->-r /Users/robert.shelton/Documents/financial-rag-workshop/requirements.txt (line 4)) (3.21.2)\n",
      "Requirement already satisfied: typing-inspect<1,>=0.4.0 in /Users/robert.shelton/.pyenv/versions/3.11.9/lib/python3.11/site-packages (from dataclasses-json<0.7,>=0.5.7->langchain-community->-r /Users/robert.shelton/Documents/financial-rag-workshop/requirements.txt (line 4)) (0.9.0)\n",
      "Requirement already satisfied: certifi in /Users/robert.shelton/.pyenv/versions/3.11.9/lib/python3.11/site-packages (from httpx<1,>=0.23.0->openai->-r /Users/robert.shelton/Documents/financial-rag-workshop/requirements.txt (line 14)) (2024.2.2)\n",
      "Requirement already satisfied: httpcore==1.* in /Users/robert.shelton/.pyenv/versions/3.11.9/lib/python3.11/site-packages (from httpx<1,>=0.23.0->openai->-r /Users/robert.shelton/Documents/financial-rag-workshop/requirements.txt (line 14)) (1.0.5)\n",
      "Requirement already satisfied: h11<0.15,>=0.13 in /Users/robert.shelton/.pyenv/versions/3.11.9/lib/python3.11/site-packages (from httpcore==1.*->httpx<1,>=0.23.0->openai->-r /Users/robert.shelton/Documents/financial-rag-workshop/requirements.txt (line 14)) (0.14.0)\n",
      "Requirement already satisfied: filelock in /Users/robert.shelton/.pyenv/versions/3.11.9/lib/python3.11/site-packages (from huggingface-hub->unstructured-inference==0.7.31->unstructured[pdf]->-r /Users/robert.shelton/Documents/financial-rag-workshop/requirements.txt (line 5)) (3.14.0)\n",
      "Requirement already satisfied: fsspec>=2023.5.0 in /Users/robert.shelton/.pyenv/versions/3.11.9/lib/python3.11/site-packages (from huggingface-hub->unstructured-inference==0.7.31->unstructured[pdf]->-r /Users/robert.shelton/Documents/financial-rag-workshop/requirements.txt (line 5)) (2024.3.1)\n",
      "Requirement already satisfied: jsonpatch<2.0,>=1.33 in /Users/robert.shelton/.pyenv/versions/3.11.9/lib/python3.11/site-packages (from langchain-core<0.3.0,>=0.2.0->langchain->-r /Users/robert.shelton/Documents/financial-rag-workshop/requirements.txt (line 3)) (1.33)\n",
      "Requirement already satisfied: language-data>=1.2 in /Users/robert.shelton/.pyenv/versions/3.11.9/lib/python3.11/site-packages (from langcodes<4.0.0,>=3.2.0->spacy->-r /Users/robert.shelton/Documents/financial-rag-workshop/requirements.txt (line 9)) (1.2.0)\n",
      "Requirement already satisfied: orjson<4.0.0,>=3.9.14 in /Users/robert.shelton/.pyenv/versions/3.11.9/lib/python3.11/site-packages (from langsmith<0.2.0,>=0.1.17->langchain->-r /Users/robert.shelton/Documents/financial-rag-workshop/requirements.txt (line 3)) (3.10.3)\n",
      "Requirement already satisfied: annotated-types>=0.4.0 in /Users/robert.shelton/.pyenv/versions/3.11.9/lib/python3.11/site-packages (from pydantic<3,>=1->langchain->-r /Users/robert.shelton/Documents/financial-rag-workshop/requirements.txt (line 3)) (0.6.0)\n",
      "Requirement already satisfied: pydantic-core==2.18.2 in /Users/robert.shelton/.pyenv/versions/3.11.9/lib/python3.11/site-packages (from pydantic<3,>=1->langchain->-r /Users/robert.shelton/Documents/financial-rag-workshop/requirements.txt (line 3)) (2.18.2)\n",
      "Requirement already satisfied: six>=1.5 in /Users/robert.shelton/.pyenv/versions/3.11.9/lib/python3.11/site-packages (from python-dateutil>=2.8.2->pandas->-r /Users/robert.shelton/Documents/financial-rag-workshop/requirements.txt (line 7)) (1.16.0)\n",
      "Requirement already satisfied: charset-normalizer<4,>=2 in /Users/robert.shelton/.pyenv/versions/3.11.9/lib/python3.11/site-packages (from requests>=2.26.0->tiktoken->-r /Users/robert.shelton/Documents/financial-rag-workshop/requirements.txt (line 2)) (3.3.2)\n",
      "Requirement already satisfied: urllib3<3,>=1.21.1 in /Users/robert.shelton/.pyenv/versions/3.11.9/lib/python3.11/site-packages (from requests>=2.26.0->tiktoken->-r /Users/robert.shelton/Documents/financial-rag-workshop/requirements.txt (line 2)) (2.2.1)\n",
      "Requirement already satisfied: blis<0.8.0,>=0.7.8 in /Users/robert.shelton/.pyenv/versions/3.11.9/lib/python3.11/site-packages (from thinc<8.3.0,>=8.2.2->spacy->-r /Users/robert.shelton/Documents/financial-rag-workshop/requirements.txt (line 9)) (0.7.11)\n",
      "Requirement already satisfied: confection<1.0.0,>=0.0.1 in /Users/robert.shelton/.pyenv/versions/3.11.9/lib/python3.11/site-packages (from thinc<8.3.0,>=8.2.2->spacy->-r /Users/robert.shelton/Documents/financial-rag-workshop/requirements.txt (line 9)) (0.1.4)\n",
      "Requirement already satisfied: sympy in /Users/robert.shelton/.pyenv/versions/3.11.9/lib/python3.11/site-packages (from torch>=1.11.0->sentence-transformers->-r /Users/robert.shelton/Documents/financial-rag-workshop/requirements.txt (line 6)) (1.12)\n",
      "Requirement already satisfied: networkx in /Users/robert.shelton/.pyenv/versions/3.11.9/lib/python3.11/site-packages (from torch>=1.11.0->sentence-transformers->-r /Users/robert.shelton/Documents/financial-rag-workshop/requirements.txt (line 6)) (3.3)\n",
      "Requirement already satisfied: tokenizers<0.20,>=0.19 in /Users/robert.shelton/.pyenv/versions/3.11.9/lib/python3.11/site-packages (from transformers>=4.25.1->unstructured-inference==0.7.31->unstructured[pdf]->-r /Users/robert.shelton/Documents/financial-rag-workshop/requirements.txt (line 5)) (0.19.1)\n",
      "Requirement already satisfied: safetensors>=0.4.1 in /Users/robert.shelton/.pyenv/versions/3.11.9/lib/python3.11/site-packages (from transformers>=4.25.1->unstructured-inference==0.7.31->unstructured[pdf]->-r /Users/robert.shelton/Documents/financial-rag-workshop/requirements.txt (line 5)) (0.4.3)\n",
      "Requirement already satisfied: click<9.0.0,>=7.1.1 in /Users/robert.shelton/.pyenv/versions/3.11.9/lib/python3.11/site-packages (from typer<0.10.0,>=0.3.0->spacy->-r /Users/robert.shelton/Documents/financial-rag-workshop/requirements.txt (line 9)) (8.1.7)\n",
      "Requirement already satisfied: cloudpathlib<0.17.0,>=0.7.0 in /Users/robert.shelton/.pyenv/versions/3.11.9/lib/python3.11/site-packages (from weasel<0.4.0,>=0.1.0->spacy->-r /Users/robert.shelton/Documents/financial-rag-workshop/requirements.txt (line 9)) (0.16.0)\n",
      "Requirement already satisfied: soupsieve>1.2 in /Users/robert.shelton/.pyenv/versions/3.11.9/lib/python3.11/site-packages (from beautifulsoup4->unstructured[pdf]->-r /Users/robert.shelton/Documents/financial-rag-workshop/requirements.txt (line 5)) (2.5)\n",
      "Requirement already satisfied: humanfriendly>=9.1 in /Users/robert.shelton/.pyenv/versions/3.11.9/lib/python3.11/site-packages (from coloredlogs->redisvl->-r /Users/robert.shelton/Documents/financial-rag-workshop/requirements.txt (line 12)) (10.0)\n",
      "Requirement already satisfied: google-api-core!=2.0.*,!=2.1.*,!=2.10.*,!=2.2.*,!=2.3.*,!=2.4.*,!=2.5.*,!=2.6.*,!=2.7.*,!=2.8.*,!=2.9.*,<3.0.0dev,>=1.34.1 in /Users/robert.shelton/.pyenv/versions/3.11.9/lib/python3.11/site-packages (from google-api-core[grpc]!=2.0.*,!=2.1.*,!=2.10.*,!=2.2.*,!=2.3.*,!=2.4.*,!=2.5.*,!=2.6.*,!=2.7.*,!=2.8.*,!=2.9.*,<3.0.0dev,>=1.34.1->google-cloud-vision->unstructured[pdf]->-r /Users/robert.shelton/Documents/financial-rag-workshop/requirements.txt (line 5)) (2.19.0)\n",
      "Requirement already satisfied: google-auth!=2.24.0,!=2.25.0,<3.0.0dev,>=2.14.1 in /Users/robert.shelton/.pyenv/versions/3.11.9/lib/python3.11/site-packages (from google-cloud-vision->unstructured[pdf]->-r /Users/robert.shelton/Documents/financial-rag-workshop/requirements.txt (line 5)) (2.29.0)\n",
      "Requirement already satisfied: proto-plus<2.0.0dev,>=1.22.3 in /Users/robert.shelton/.pyenv/versions/3.11.9/lib/python3.11/site-packages (from google-cloud-vision->unstructured[pdf]->-r /Users/robert.shelton/Documents/financial-rag-workshop/requirements.txt (line 5)) (1.23.0)\n",
      "Requirement already satisfied: protobuf!=3.20.0,!=3.20.1,!=4.21.0,!=4.21.1,!=4.21.2,!=4.21.3,!=4.21.4,!=4.21.5,<5.0.0dev,>=3.19.5 in /Users/robert.shelton/.pyenv/versions/3.11.9/lib/python3.11/site-packages (from google-cloud-vision->unstructured[pdf]->-r /Users/robert.shelton/Documents/financial-rag-workshop/requirements.txt (line 5)) (4.25.3)\n",
      "Requirement already satisfied: MarkupSafe>=2.0 in /Users/robert.shelton/.pyenv/versions/3.11.9/lib/python3.11/site-packages (from jinja2->spacy->-r /Users/robert.shelton/Documents/financial-rag-workshop/requirements.txt (line 9)) (2.1.5)\n",
      "Requirement already satisfied: joblib in /Users/robert.shelton/.pyenv/versions/3.11.9/lib/python3.11/site-packages (from nltk->unstructured[pdf]->-r /Users/robert.shelton/Documents/financial-rag-workshop/requirements.txt (line 5)) (1.4.2)\n",
      "Requirement already satisfied: cryptography>=36.0.0 in /Users/robert.shelton/.pyenv/versions/3.11.9/lib/python3.11/site-packages (from pdfminer.six->unstructured[pdf]->-r /Users/robert.shelton/Documents/financial-rag-workshop/requirements.txt (line 5)) (42.0.7)\n",
      "Requirement already satisfied: Deprecated in /Users/robert.shelton/.pyenv/versions/3.11.9/lib/python3.11/site-packages (from pikepdf->unstructured[pdf]->-r /Users/robert.shelton/Documents/financial-rag-workshop/requirements.txt (line 5)) (1.2.14)\n",
      "Requirement already satisfied: threadpoolctl>=2.0.0 in /Users/robert.shelton/.pyenv/versions/3.11.9/lib/python3.11/site-packages (from scikit-learn->sentence-transformers->-r /Users/robert.shelton/Documents/financial-rag-workshop/requirements.txt (line 6)) (3.5.0)\n",
      "Requirement already satisfied: deepdiff>=6.0 in /Users/robert.shelton/.pyenv/versions/3.11.9/lib/python3.11/site-packages (from unstructured-client->unstructured[pdf]->-r /Users/robert.shelton/Documents/financial-rag-workshop/requirements.txt (line 5)) (7.0.1)\n",
      "Requirement already satisfied: jsonpath-python>=1.0.6 in /Users/robert.shelton/.pyenv/versions/3.11.9/lib/python3.11/site-packages (from unstructured-client->unstructured[pdf]->-r /Users/robert.shelton/Documents/financial-rag-workshop/requirements.txt (line 5)) (1.0.6)\n",
      "Requirement already satisfied: mypy-extensions>=1.0.0 in /Users/robert.shelton/.pyenv/versions/3.11.9/lib/python3.11/site-packages (from unstructured-client->unstructured[pdf]->-r /Users/robert.shelton/Documents/financial-rag-workshop/requirements.txt (line 5)) (1.0.0)\n",
      "Requirement already satisfied: cffi>=1.12 in /Users/robert.shelton/.pyenv/versions/3.11.9/lib/python3.11/site-packages (from cryptography>=36.0.0->pdfminer.six->unstructured[pdf]->-r /Users/robert.shelton/Documents/financial-rag-workshop/requirements.txt (line 5)) (1.16.0)\n",
      "Requirement already satisfied: ordered-set<4.2.0,>=4.1.0 in /Users/robert.shelton/.pyenv/versions/3.11.9/lib/python3.11/site-packages (from deepdiff>=6.0->unstructured-client->unstructured[pdf]->-r /Users/robert.shelton/Documents/financial-rag-workshop/requirements.txt (line 5)) (4.1.0)\n",
      "Requirement already satisfied: googleapis-common-protos<2.0.dev0,>=1.56.2 in /Users/robert.shelton/.pyenv/versions/3.11.9/lib/python3.11/site-packages (from google-api-core!=2.0.*,!=2.1.*,!=2.10.*,!=2.2.*,!=2.3.*,!=2.4.*,!=2.5.*,!=2.6.*,!=2.7.*,!=2.8.*,!=2.9.*,<3.0.0dev,>=1.34.1->google-api-core[grpc]!=2.0.*,!=2.1.*,!=2.10.*,!=2.2.*,!=2.3.*,!=2.4.*,!=2.5.*,!=2.6.*,!=2.7.*,!=2.8.*,!=2.9.*,<3.0.0dev,>=1.34.1->google-cloud-vision->unstructured[pdf]->-r /Users/robert.shelton/Documents/financial-rag-workshop/requirements.txt (line 5)) (1.63.0)\n",
      "Requirement already satisfied: grpcio<2.0dev,>=1.33.2 in /Users/robert.shelton/.pyenv/versions/3.11.9/lib/python3.11/site-packages (from google-api-core[grpc]!=2.0.*,!=2.1.*,!=2.10.*,!=2.2.*,!=2.3.*,!=2.4.*,!=2.5.*,!=2.6.*,!=2.7.*,!=2.8.*,!=2.9.*,<3.0.0dev,>=1.34.1->google-cloud-vision->unstructured[pdf]->-r /Users/robert.shelton/Documents/financial-rag-workshop/requirements.txt (line 5)) (1.63.0)\n",
      "Requirement already satisfied: grpcio-status<2.0.dev0,>=1.33.2 in /Users/robert.shelton/.pyenv/versions/3.11.9/lib/python3.11/site-packages (from google-api-core[grpc]!=2.0.*,!=2.1.*,!=2.10.*,!=2.2.*,!=2.3.*,!=2.4.*,!=2.5.*,!=2.6.*,!=2.7.*,!=2.8.*,!=2.9.*,<3.0.0dev,>=1.34.1->google-cloud-vision->unstructured[pdf]->-r /Users/robert.shelton/Documents/financial-rag-workshop/requirements.txt (line 5)) (1.62.2)\n",
      "Requirement already satisfied: cachetools<6.0,>=2.0.0 in /Users/robert.shelton/.pyenv/versions/3.11.9/lib/python3.11/site-packages (from google-auth!=2.24.0,!=2.25.0,<3.0.0dev,>=2.14.1->google-cloud-vision->unstructured[pdf]->-r /Users/robert.shelton/Documents/financial-rag-workshop/requirements.txt (line 5)) (5.3.3)\n",
      "Requirement already satisfied: pyasn1-modules>=0.2.1 in /Users/robert.shelton/.pyenv/versions/3.11.9/lib/python3.11/site-packages (from google-auth!=2.24.0,!=2.25.0,<3.0.0dev,>=2.14.1->google-cloud-vision->unstructured[pdf]->-r /Users/robert.shelton/Documents/financial-rag-workshop/requirements.txt (line 5)) (0.4.0)\n",
      "Requirement already satisfied: rsa<5,>=3.1.4 in /Users/robert.shelton/.pyenv/versions/3.11.9/lib/python3.11/site-packages (from google-auth!=2.24.0,!=2.25.0,<3.0.0dev,>=2.14.1->google-cloud-vision->unstructured[pdf]->-r /Users/robert.shelton/Documents/financial-rag-workshop/requirements.txt (line 5)) (4.9)\n",
      "Requirement already satisfied: jsonpointer>=1.9 in /Users/robert.shelton/.pyenv/versions/3.11.9/lib/python3.11/site-packages (from jsonpatch<2.0,>=1.33->langchain-core<0.3.0,>=0.2.0->langchain->-r /Users/robert.shelton/Documents/financial-rag-workshop/requirements.txt (line 3)) (2.4)\n",
      "Requirement already satisfied: marisa-trie>=0.7.7 in /Users/robert.shelton/.pyenv/versions/3.11.9/lib/python3.11/site-packages (from language-data>=1.2->langcodes<4.0.0,>=3.2.0->spacy->-r /Users/robert.shelton/Documents/financial-rag-workshop/requirements.txt (line 9)) (1.1.1)\n",
      "Requirement already satisfied: flatbuffers in /Users/robert.shelton/.pyenv/versions/3.11.9/lib/python3.11/site-packages (from onnxruntime>=1.17.0->unstructured-inference==0.7.31->unstructured[pdf]->-r /Users/robert.shelton/Documents/financial-rag-workshop/requirements.txt (line 5)) (24.3.25)\n",
      "Requirement already satisfied: iopath in /Users/robert.shelton/.pyenv/versions/3.11.9/lib/python3.11/site-packages (from layoutparser[layoutmodels,tesseract]->unstructured-inference==0.7.31->unstructured[pdf]->-r /Users/robert.shelton/Documents/financial-rag-workshop/requirements.txt (line 5)) (0.1.10)\n",
      "Requirement already satisfied: pdfplumber in /Users/robert.shelton/.pyenv/versions/3.11.9/lib/python3.11/site-packages (from layoutparser[layoutmodels,tesseract]->unstructured-inference==0.7.31->unstructured[pdf]->-r /Users/robert.shelton/Documents/financial-rag-workshop/requirements.txt (line 5)) (0.11.0)\n",
      "Requirement already satisfied: torchvision in /Users/robert.shelton/.pyenv/versions/3.11.9/lib/python3.11/site-packages (from layoutparser[layoutmodels,tesseract]->unstructured-inference==0.7.31->unstructured[pdf]->-r /Users/robert.shelton/Documents/financial-rag-workshop/requirements.txt (line 5)) (0.18.0)\n",
      "Requirement already satisfied: effdet in /Users/robert.shelton/.pyenv/versions/3.11.9/lib/python3.11/site-packages (from layoutparser[layoutmodels,tesseract]->unstructured-inference==0.7.31->unstructured[pdf]->-r /Users/robert.shelton/Documents/financial-rag-workshop/requirements.txt (line 5)) (0.4.1)\n",
      "Requirement already satisfied: pytesseract in /Users/robert.shelton/.pyenv/versions/3.11.9/lib/python3.11/site-packages (from layoutparser[layoutmodels,tesseract]->unstructured-inference==0.7.31->unstructured[pdf]->-r /Users/robert.shelton/Documents/financial-rag-workshop/requirements.txt (line 5)) (0.3.10)\n",
      "Requirement already satisfied: mpmath>=0.19 in /Users/robert.shelton/.pyenv/versions/3.11.9/lib/python3.11/site-packages (from sympy->torch>=1.11.0->sentence-transformers->-r /Users/robert.shelton/Documents/financial-rag-workshop/requirements.txt (line 6)) (1.3.0)\n",
      "Requirement already satisfied: pycparser in /Users/robert.shelton/.pyenv/versions/3.11.9/lib/python3.11/site-packages (from cffi>=1.12->cryptography>=36.0.0->pdfminer.six->unstructured[pdf]->-r /Users/robert.shelton/Documents/financial-rag-workshop/requirements.txt (line 5)) (2.22)\n",
      "Requirement already satisfied: pyasn1<0.7.0,>=0.4.6 in /Users/robert.shelton/.pyenv/versions/3.11.9/lib/python3.11/site-packages (from pyasn1-modules>=0.2.1->google-auth!=2.24.0,!=2.25.0,<3.0.0dev,>=2.14.1->google-cloud-vision->unstructured[pdf]->-r /Users/robert.shelton/Documents/financial-rag-workshop/requirements.txt (line 5)) (0.6.0)\n",
      "Requirement already satisfied: timm>=0.9.2 in /Users/robert.shelton/.pyenv/versions/3.11.9/lib/python3.11/site-packages (from effdet->layoutparser[layoutmodels,tesseract]->unstructured-inference==0.7.31->unstructured[pdf]->-r /Users/robert.shelton/Documents/financial-rag-workshop/requirements.txt (line 5)) (0.9.16)\n",
      "Requirement already satisfied: pycocotools>=2.0.2 in /Users/robert.shelton/.pyenv/versions/3.11.9/lib/python3.11/site-packages (from effdet->layoutparser[layoutmodels,tesseract]->unstructured-inference==0.7.31->unstructured[pdf]->-r /Users/robert.shelton/Documents/financial-rag-workshop/requirements.txt (line 5)) (2.0.7)\n",
      "Requirement already satisfied: omegaconf>=2.0 in /Users/robert.shelton/.pyenv/versions/3.11.9/lib/python3.11/site-packages (from effdet->layoutparser[layoutmodels,tesseract]->unstructured-inference==0.7.31->unstructured[pdf]->-r /Users/robert.shelton/Documents/financial-rag-workshop/requirements.txt (line 5)) (2.3.0)\n",
      "Requirement already satisfied: portalocker in /Users/robert.shelton/.pyenv/versions/3.11.9/lib/python3.11/site-packages (from iopath->layoutparser[layoutmodels,tesseract]->unstructured-inference==0.7.31->unstructured[pdf]->-r /Users/robert.shelton/Documents/financial-rag-workshop/requirements.txt (line 5)) (2.8.2)\n",
      "Requirement already satisfied: pypdfium2>=4.18.0 in /Users/robert.shelton/.pyenv/versions/3.11.9/lib/python3.11/site-packages (from pdfplumber->layoutparser[layoutmodels,tesseract]->unstructured-inference==0.7.31->unstructured[pdf]->-r /Users/robert.shelton/Documents/financial-rag-workshop/requirements.txt (line 5)) (4.29.0)\n",
      "Requirement already satisfied: antlr4-python3-runtime==4.9.* in /Users/robert.shelton/.pyenv/versions/3.11.9/lib/python3.11/site-packages (from omegaconf>=2.0->effdet->layoutparser[layoutmodels,tesseract]->unstructured-inference==0.7.31->unstructured[pdf]->-r /Users/robert.shelton/Documents/financial-rag-workshop/requirements.txt (line 5)) (4.9.3)\n",
      "Requirement already satisfied: matplotlib>=2.1.0 in /Users/robert.shelton/.pyenv/versions/3.11.9/lib/python3.11/site-packages (from pycocotools>=2.0.2->effdet->layoutparser[layoutmodels,tesseract]->unstructured-inference==0.7.31->unstructured[pdf]->-r /Users/robert.shelton/Documents/financial-rag-workshop/requirements.txt (line 5)) (3.8.4)\n",
      "Requirement already satisfied: contourpy>=1.0.1 in /Users/robert.shelton/.pyenv/versions/3.11.9/lib/python3.11/site-packages (from matplotlib>=2.1.0->pycocotools>=2.0.2->effdet->layoutparser[layoutmodels,tesseract]->unstructured-inference==0.7.31->unstructured[pdf]->-r /Users/robert.shelton/Documents/financial-rag-workshop/requirements.txt (line 5)) (1.2.1)\n",
      "Requirement already satisfied: cycler>=0.10 in /Users/robert.shelton/.pyenv/versions/3.11.9/lib/python3.11/site-packages (from matplotlib>=2.1.0->pycocotools>=2.0.2->effdet->layoutparser[layoutmodels,tesseract]->unstructured-inference==0.7.31->unstructured[pdf]->-r /Users/robert.shelton/Documents/financial-rag-workshop/requirements.txt (line 5)) (0.12.1)\n",
      "Requirement already satisfied: fonttools>=4.22.0 in /Users/robert.shelton/.pyenv/versions/3.11.9/lib/python3.11/site-packages (from matplotlib>=2.1.0->pycocotools>=2.0.2->effdet->layoutparser[layoutmodels,tesseract]->unstructured-inference==0.7.31->unstructured[pdf]->-r /Users/robert.shelton/Documents/financial-rag-workshop/requirements.txt (line 5)) (4.51.0)\n",
      "Requirement already satisfied: kiwisolver>=1.3.1 in /Users/robert.shelton/.pyenv/versions/3.11.9/lib/python3.11/site-packages (from matplotlib>=2.1.0->pycocotools>=2.0.2->effdet->layoutparser[layoutmodels,tesseract]->unstructured-inference==0.7.31->unstructured[pdf]->-r /Users/robert.shelton/Documents/financial-rag-workshop/requirements.txt (line 5)) (1.4.5)\n",
      "Requirement already satisfied: pyparsing>=2.3.1 in /Users/robert.shelton/.pyenv/versions/3.11.9/lib/python3.11/site-packages (from matplotlib>=2.1.0->pycocotools>=2.0.2->effdet->layoutparser[layoutmodels,tesseract]->unstructured-inference==0.7.31->unstructured[pdf]->-r /Users/robert.shelton/Documents/financial-rag-workshop/requirements.txt (line 5)) (3.1.2)\n",
      "\n",
      "\u001b[1m[\u001b[0m\u001b[34;49mnotice\u001b[0m\u001b[1;39;49m]\u001b[0m\u001b[39;49m A new release of pip is available: \u001b[0m\u001b[31;49m24.0\u001b[0m\u001b[39;49m -> \u001b[0m\u001b[32;49m24.2\u001b[0m\n",
      "\u001b[1m[\u001b[0m\u001b[34;49mnotice\u001b[0m\u001b[1;39;49m]\u001b[0m\u001b[39;49m To update, run: \u001b[0m\u001b[32;49mpip install --upgrade pip\u001b[0m\n",
      "Note: you may need to restart the kernel to use updated packages.\n"
     ]
    }
   ],
   "source": [
    "%pip install -r $ROOT_DIR/requirements.txt"
   ]
  },
  {
   "cell_type": "code",
   "execution_count": 4,
   "id": "30bf21720ba00648",
   "metadata": {
    "ExecuteTime": {
     "end_time": "2024-06-18T20:27:17.598821Z",
     "start_time": "2024-06-18T20:27:13.559921Z"
    }
   },
   "outputs": [
    {
     "name": "stdout",
     "output_type": "stream",
     "text": [
      " ✅ Loaded doc info for  110 tickers...\n"
     ]
    }
   ],
   "source": [
    "from utils import *\n",
    "from ingestion import *"
   ]
  },
  {
   "cell_type": "markdown",
   "id": "c4e212c108b2cfcc",
   "metadata": {},
   "source": [
    "### Configure your Redis Stack\n"
   ]
  },
  {
   "cell_type": "code",
   "execution_count": 5,
   "id": "d2f9692e223d48c6",
   "metadata": {
    "ExecuteTime": {
     "end_time": "2024-06-18T20:27:30.187889Z",
     "start_time": "2024-06-18T20:27:30.186372Z"
    }
   },
   "outputs": [],
   "source": [
    "# If SSL is enabled on the endpoint, use redis:// as the URL prefix\n",
    "REDIS_URL = os.getenv(\"REDIS_URL\")"
   ]
  },
  {
   "cell_type": "markdown",
   "id": "749ada51a14b0b25",
   "metadata": {},
   "source": [
    "## Ingestion and Indexing"
   ]
  },
  {
   "cell_type": "markdown",
   "id": "9ba8eaf10e92f692",
   "metadata": {},
   "source": [
    "### SentenceTransformerEmbeddings Models Cache folder\n",
    "We are using `SentenceTransformerEmbeddings` in this demo and here we specify the cache folder. If you already downloaded the models in a local file system, set this folder here, otherwise the library tries to download the models in this folder if not available locally.\n",
    "\n",
    "In particular, this models will be downloaded if not present in the cache folder:\n",
    "\n",
    "models/models--sentence-transformers--all-MiniLM-L6-v2\n"
   ]
  },
  {
   "cell_type": "code",
   "execution_count": 7,
   "id": "c405bdf9381db835",
   "metadata": {
    "ExecuteTime": {
     "end_time": "2024-06-18T20:27:31.665303Z",
     "start_time": "2024-06-18T20:27:31.662498Z"
    }
   },
   "outputs": [],
   "source": [
    "#setting the local downloaded sentence transformer models folder\n",
    "os.environ[\"TRANSFORMERS_CACHE\"] = f\"{parent_directory}/models\""
   ]
  },
  {
   "cell_type": "code",
   "execution_count": 8,
   "id": "11190e3ee0b4ab1d",
   "metadata": {
    "ExecuteTime": {
     "end_time": "2024-06-18T20:27:33.819348Z",
     "start_time": "2024-06-18T20:27:32.538981Z"
    }
   },
   "outputs": [],
   "source": [
    "from langchain.embeddings.sentence_transformer import SentenceTransformerEmbeddings\n",
    "\n",
    "embeddings = SentenceTransformerEmbeddings(model_name=\"sentence-transformers/all-MiniLM-L6-v2\",\n",
    "                                           cache_folder=os.getenv(\"TRANSFORMERS_CACHE\", f\"{parent_directory}/models\"))"
   ]
  },
  {
   "cell_type": "markdown",
   "id": "30bd69c8360baaa0",
   "metadata": {},
   "source": [
    "### Create your Redis index \n",
    "Skip this section if you have already built your index in previous notebook.\n"
   ]
  },
  {
   "cell_type": "code",
   "execution_count": 9,
   "id": "78bbc21dd49fb15f",
   "metadata": {
    "ExecuteTime": {
     "end_time": "2024-06-18T20:27:51.402582Z",
     "start_time": "2024-06-18T20:27:51.300744Z"
    }
   },
   "outputs": [],
   "source": [
    "from redisvl.index import SearchIndex\n",
    "from redisvl.schema import IndexSchema\n",
    "from redis import Redis\n",
    "index_name = 'langchain'\n",
    "prefix = 'chunk'\n",
    "schema = IndexSchema.from_yaml('sec_index.yaml')\n",
    "client = Redis.from_url(REDIS_URL)\n",
    "# create an index from schema and the client\n",
    "index = SearchIndex(schema, client)\n",
    "index.create(overwrite=True, drop=True)"
   ]
  },
  {
   "cell_type": "markdown",
   "id": "82c7c12dd4107d2e",
   "metadata": {},
   "source": [
    "### Load the sample data from SEC"
   ]
  },
  {
   "cell_type": "code",
   "execution_count": 10,
   "id": "c1ab8cbe7cdea875",
   "metadata": {
    "ExecuteTime": {
     "end_time": "2024-06-18T20:27:52.757840Z",
     "start_time": "2024-06-18T20:27:52.752395Z"
    }
   },
   "outputs": [
    {
     "name": "stdout",
     "output_type": "stream",
     "text": [
      " ✅ Loaded doc info for  110 tickers...\n"
     ]
    }
   ],
   "source": [
    "# Skip if you have already populated your index.\n",
    "sec_data = get_sec_data()"
   ]
  },
  {
   "cell_type": "markdown",
   "id": "275288a645542bbe",
   "metadata": {},
   "source": [
    "### Ingest the data for the selected tickers"
   ]
  },
  {
   "cell_type": "code",
   "execution_count": 11,
   "id": "5b87b9c94d496bc5",
   "metadata": {
    "ExecuteTime": {
     "end_time": "2024-06-18T20:28:46.695007Z",
     "start_time": "2024-06-18T20:27:57.092131Z"
    }
   },
   "outputs": [
    {
     "name": "stdout",
     "output_type": "stream",
     "text": [
      "✅ Loaded 632 10K chunks for ticker=AAPL from AAPL-2021-10K.pdf\n",
      "✅ Loaded 561 10K chunks for ticker=AAPL from AAPL-2023-10K.pdf\n",
      "✅ Loaded 608 10K chunks for ticker=AAPL from AAPL-2022-10K.pdf\n",
      "✅ Loaded 130 earning_call chunks for ticker=AAPL from 2018-May-01-AAPL.txt\n",
      "✅ Loaded 158 earning_call chunks for ticker=AAPL from 2019-Oct-30-AAPL.txt\n",
      "✅ Loaded 164 earning_call chunks for ticker=AAPL from 2016-Jan-26-AAPL.txt\n",
      "✅ Loaded 167 earning_call chunks for ticker=AAPL from 2020-Jul-30-AAPL.txt\n",
      "✅ Loaded 151 earning_call chunks for ticker=AAPL from 2017-Aug-01-AAPL.txt\n",
      "✅ Loaded 146 earning_call chunks for ticker=AAPL from 2020-Jan-28-AAPL.txt\n",
      "✅ Loaded 163 earning_call chunks for ticker=AAPL from 2016-Apr-26-AAPL.txt\n",
      "✅ Loaded 149 earning_call chunks for ticker=AAPL from 2017-Jan-31-AAPL.txt\n",
      "✅ Loaded 149 earning_call chunks for ticker=AAPL from 2019-Apr-30-AAPL.txt\n",
      "✅ Loaded 123 earning_call chunks for ticker=AAPL from 2017-Nov-02-AAPL.txt\n",
      "✅ Loaded 151 earning_call chunks for ticker=AAPL from 2016-Oct-25-AAPL.txt\n",
      "✅ Loaded 136 earning_call chunks for ticker=AAPL from 2016-Jul-26-AAPL.txt\n",
      "✅ Loaded 146 earning_call chunks for ticker=AAPL from 2017-May-02-AAPL.txt\n",
      "✅ Loaded 160 earning_call chunks for ticker=AAPL from 2019-Jul-30-AAPL.txt\n",
      "✅ Loaded 143 earning_call chunks for ticker=AAPL from 2019-Jan-29-AAPL.txt\n",
      "✅ Loaded 142 earning_call chunks for ticker=AAPL from 2018-Jul-31-AAPL.txt\n",
      "✅ Loaded 157 earning_call chunks for ticker=AAPL from 2018-Feb-01-AAPL.txt\n",
      "✅ Loaded 145 earning_call chunks for ticker=AAPL from 2018-Nov-01-AAPL.txt\n",
      "✅ Loaded 155 earning_call chunks for ticker=AAPL from 2020-Apr-30-AAPL.txt\n",
      "✅ Loaded 736 10K chunks for ticker=AMZN from AMZN-2023-10K.pdf\n",
      "✅ Loaded 701 10K chunks for ticker=AMZN from AMZN-2022-10K.pdf\n",
      "✅ Loaded 721 10K chunks for ticker=AMZN from AMZN-2021-10K.pdf\n",
      "✅ Loaded 116 earning_call chunks for ticker=AMZN from 2020-Jan-30-AMZN.txt\n",
      "✅ Loaded 157 earning_call chunks for ticker=AMZN from 2016-Apr-28-AMZN.txt\n",
      "✅ Loaded 107 earning_call chunks for ticker=AMZN from 2019-Oct-24-AMZN.txt\n",
      "✅ Loaded 114 earning_call chunks for ticker=AMZN from 2020-Apr-30-AMZN.txt\n",
      "✅ Loaded 120 earning_call chunks for ticker=AMZN from 2019-Apr-25-AMZN.txt\n",
      "✅ Loaded 101 earning_call chunks for ticker=AMZN from 2017-Jul-27-AMZN.txt\n",
      "✅ Loaded 108 earning_call chunks for ticker=AMZN from 2018-Jul-26-AMZN.txt\n",
      "✅ Loaded 116 earning_call chunks for ticker=AMZN from 2018-Oct-25-AMZN.txt\n",
      "✅ Loaded 174 earning_call chunks for ticker=AMZN from 2016-Jan-28-AMZN.txt\n",
      "✅ Loaded 112 earning_call chunks for ticker=AMZN from 2018-Feb-01-AMZN.txt\n",
      "✅ Loaded 115 earning_call chunks for ticker=AMZN from 2020-Jul-30-AMZN.txt\n",
      "✅ Loaded 122 earning_call chunks for ticker=AMZN from 2019-Jul-25-AMZN.txt\n",
      "✅ Loaded 127 earning_call chunks for ticker=AMZN from 2017-Apr-27-AMZN.txt\n",
      "✅ Loaded 127 earning_call chunks for ticker=AMZN from 2019-Jan-31-AMZN.txt\n",
      "✅ Loaded 112 earning_call chunks for ticker=AMZN from 2018-Apr-26-AMZN.txt\n",
      "✅ Loaded 111 earning_call chunks for ticker=AMZN from 2016-Oct-27-AMZN.txt\n",
      "✅ Loaded 119 earning_call chunks for ticker=AMZN from 2017-Feb-02-AMZN.txt\n",
      "✅ Loaded 138 earning_call chunks for ticker=AMZN from 2016-Jul-28-AMZN.txt\n",
      "✅ Loaded 116 earning_call chunks for ticker=AMZN from 2017-Oct-26-AMZN.txt\n",
      "✅✅✅Loaded a total of 9106 chunks from 6 10Ks and 38 earning calls for 2 tickers.\n"
     ]
    }
   ],
   "source": [
    "redis_bulk_upload(sec_data, index, embeddings, tickers=['AAPL', 'AMZN'])"
   ]
  },
  {
   "cell_type": "markdown",
   "id": "c74e4532",
   "metadata": {},
   "source": [
    "## Redis as a Langchain Retriever"
   ]
  },
  {
   "cell_type": "code",
   "execution_count": 12,
   "id": "e50c9efe-4abe-42fa-b35a-05eeeede9ec6",
   "metadata": {
    "ExecuteTime": {
     "end_time": "2024-06-18T20:28:46.822153Z",
     "start_time": "2024-06-18T20:28:46.695841Z"
    }
   },
   "outputs": [],
   "source": [
    "from langchain_community.vectorstores import Redis as LangChainRedis\n",
    "\n",
    "index_name = 'langchain'\n",
    "\n",
    "vec_schema , main_schema = create_langchain_schemas_from_redis_schema('sec_index.yaml')\n",
    "\n",
    "rds = LangChainRedis.from_existing_index( embedding = embeddings, \n",
    "                                          index_name = index_name, \n",
    "                                          schema = main_schema)\n",
    "redis_retriever = rds.as_retriever()\n"
   ]
  },
  {
   "cell_type": "markdown",
   "id": "fcc76c0d6a83a135",
   "metadata": {},
   "source": [
    "Test if the Redis index is working and returning relevant document."
   ]
  },
  {
   "cell_type": "code",
   "execution_count": 13,
   "id": "39b95a9507cbf6a4",
   "metadata": {
    "ExecuteTime": {
     "end_time": "2024-06-18T20:28:53.593471Z",
     "start_time": "2024-06-18T20:28:53.475830Z"
    }
   },
   "outputs": [
    {
     "data": {
      "text/plain": [
       "[Document(page_content='The year-over-year growth in selling, general and administrative expense in 2022 was driven primarily by increases in headcount- related expenses, advertising and professional services.\\n\\nApple Inc. | 2022 Form 10-K | 23\\n\\n2020\\n\\n69,461 35,495 104,956\\n\\n31.5 % 66.0 % 38.2 %\\n\\n2020 18,752\\n\\n7 %\\n\\n19,916\\n\\n7 %\\n\\n38,668\\n\\n14 %\\n\\nOther Income/(Expense), Net\\n\\nOther income/(expense), net (“OI&E”) for 2022, 2021 and 2020 was as follows (dollars in millions):\\n\\n2022\\n\\nChange\\n\\n2021\\n\\nChange', metadata={'id': 'chunk:AAPL-2022-10K.pdf-3020eb5d-eacc-400c-b1a0-158bacf6c482', 'chunk_id': 'AAPL-2022-10K.pdf-3020eb5d-eacc-400c-b1a0-158bacf6c482', 'source_doc': 'AAPL-2022-10K.pdf', 'doc_type': '10K', 'ticker': 'AAPL', 'company_name': 'APPLE INC', 'sector': 'Information Technology', 'asset_class': 'Equity', 'location': 'United States', 'exchange': 'NASDAQ', 'currency': 'USD', 'market_value': '559365151.11', 'weight': '5.16', 'notional_value': '559365151.11', 'shares': '4305127', 'price': '129.93'}),\n",
       " Document(page_content='Selling, general and administrative expense was relatively ﬂat in 2023 compared to 2022.\\n\\nApple Inc. | 2023 Form 10-K | 23\\n\\n2021\\n\\n105,126 47,710 152,836\\n\\n35.3 % 69.7 % 41.8 %\\n\\n2021\\n\\n21,914\\n\\n6 %\\n\\n21,973\\n\\n6 %\\n\\n43,887\\n\\n12 %\\n\\nProvision for Income Taxes\\n\\nProvision for income taxes, eﬀective tax rate and statutory federal income tax rate for 2023, 2022 and 2021 were as follows (dollars in millions):\\n\\n2023\\n\\n2022\\n\\nProvision for income taxes Eﬀective tax rate Statutory federal income tax rate\\n\\n$', metadata={'id': 'chunk:AAPL-2023-10K.pdf-6839a5b6-0089-4157-adb1-6d3274602275', 'chunk_id': 'AAPL-2023-10K.pdf-6839a5b6-0089-4157-adb1-6d3274602275', 'source_doc': 'AAPL-2023-10K.pdf', 'doc_type': '10K', 'ticker': 'AAPL', 'company_name': 'APPLE INC', 'sector': 'Information Technology', 'asset_class': 'Equity', 'location': 'United States', 'exchange': 'NASDAQ', 'currency': 'USD', 'market_value': '559365151.11', 'weight': '5.16', 'notional_value': '559365151.11', 'shares': '4305127', 'price': '129.93'}),\n",
       " Document(page_content='As of September 24, 2022 and September 25, 2021, the Company had total deferred revenue of $12.4 billion and $11.9 billion, respectively. As of September 24, 2022, the Company expects 64% of total deferred revenue to be realized in less than a year, 27% within one-to-two years, 7% within two-to-three years and 2% in greater than three years.\\n\\nApple Inc. | 2022 Form 10-K | 37\\n\\n2020\\n\\n137,781 28,622 23,724 30,620 53,768 274,515\\n\\nNote 3 – Financial Instruments', metadata={'id': 'chunk:AAPL-2022-10K.pdf-2a29d20d-43ee-41b3-955c-20d38b4ea909', 'chunk_id': 'AAPL-2022-10K.pdf-2a29d20d-43ee-41b3-955c-20d38b4ea909', 'source_doc': 'AAPL-2022-10K.pdf', 'doc_type': '10K', 'ticker': 'AAPL', 'company_name': 'APPLE INC', 'sector': 'Information Technology', 'asset_class': 'Equity', 'location': 'United States', 'exchange': 'NASDAQ', 'currency': 'USD', 'market_value': '559365151.11', 'weight': '5.16', 'notional_value': '559365151.11', 'shares': '4305127', 'price': '129.93'}),\n",
       " Document(page_content='Apple Inc. | 2023 Form 10-K | 34\\n\\nNet sales disaggregated by signiﬁcant products and services for 2023, 2022 and 2021 were as follows (in millions):\\n\\n2023\\n\\n2022\\n\\n2021\\n\\niPhone (1) Mac iPad Wearables, Home and Accessories Services\\n\\n(1)\\n\\n(1)\\n\\n(2)\\n\\nTotal net sales\\n\\n(1)\\n\\n$\\n\\n$\\n\\n200,583 $ 29,357 28,300 39,845 85,200 383,285 $\\n\\n205,489 $ 40,177 29,292 41,241 78,129 394,328 $\\n\\n191,973 35,190 31,862 38,367 68,425 365,817', metadata={'id': 'chunk:AAPL-2023-10K.pdf-0c28e9ba-2f6e-429a-af4d-917ac68b2d93', 'chunk_id': 'AAPL-2023-10K.pdf-0c28e9ba-2f6e-429a-af4d-917ac68b2d93', 'source_doc': 'AAPL-2023-10K.pdf', 'doc_type': '10K', 'ticker': 'AAPL', 'company_name': 'APPLE INC', 'sector': 'Information Technology', 'asset_class': 'Equity', 'location': 'United States', 'exchange': 'NASDAQ', 'currency': 'USD', 'market_value': '559365151.11', 'weight': '5.16', 'notional_value': '559365151.11', 'shares': '4305127', 'price': '129.93'})]"
      ]
     },
     "execution_count": 13,
     "metadata": {},
     "output_type": "execute_result"
    }
   ],
   "source": [
    "rds.similarity_search(query=\"Revenue of Apple in 2022\", k=4, distance_threshold=0.8)"
   ]
  },
  {
   "cell_type": "markdown",
   "id": "225d2277-45b2-4ae8-a7d6-62b07fb4a002",
   "metadata": {},
   "source": [
    "Now we create a Langchain Redis retriever tool."
   ]
  },
  {
   "cell_type": "code",
   "execution_count": 14,
   "id": "0b97bdd8-d7e3-444d-ac96-5ef4725f9048",
   "metadata": {
    "ExecuteTime": {
     "end_time": "2024-06-14T20:13:50.047581Z",
     "start_time": "2024-06-14T20:13:49.924526Z"
    }
   },
   "outputs": [],
   "source": [
    "from langchain.tools.retriever import create_retriever_tool\n",
    "\n",
    "redis_retriever_tool = create_retriever_tool(\n",
    "    redis_retriever,\n",
    "    \"retrieve_10K-filings\",\n",
    "    \"Search and return information about financials of companies reported in 10K filings\",\n",
    ")\n",
    "\n",
    "tools = [redis_retriever_tool]\n",
    "\n",
    "from langgraph.prebuilt import ToolExecutor\n",
    "\n",
    "tool_executor = ToolExecutor(tools)"
   ]
  },
  {
   "cell_type": "markdown",
   "id": "fe6e8f78-1ef7-42ad-b2bf-835ed5850553",
   "metadata": {},
   "source": [
    "## Agent state\n",
    "\n",
    "For use in the LangGraph we define a `state` object as a list of `messages` that each node in our graph will be passed and can append to.\n"
   ]
  },
  {
   "cell_type": "code",
   "execution_count": 15,
   "id": "0e378706-47d5-425a-8ba0-57b9acffbd0c",
   "metadata": {
    "ExecuteTime": {
     "end_time": "2024-06-14T20:13:50.050075Z",
     "start_time": "2024-06-14T20:13:50.048095Z"
    }
   },
   "outputs": [],
   "source": [
    "from typing import Annotated, Sequence, TypedDict\n",
    "\n",
    "from langchain_core.messages import BaseMessage\n",
    "from langgraph.graph.message import add_messages\n",
    "\n",
    "\n",
    "class AgentState(TypedDict):\n",
    "    # The add_messages function defines how an update should be processed\n",
    "    # Default is to replace. add_messages says \"append\"\n",
    "    messages: Annotated[Sequence[BaseMessage], add_messages]"
   ]
  },
  {
   "cell_type": "markdown",
   "id": "dc949d42-8a34-4231-bff0-b8198975e2ce",
   "metadata": {},
   "source": [
    "## Nodes and Edges\n",
    "\n",
    "We can lay out an agentic RAG graph like this:\n",
    "\n",
    "* The state is a set of messages\n",
    "* Each node will update (append to) state\n",
    "* Conditional edges decide which node to visit next\n",
    "\n",
    "![diagram1.png](diagram1.png)"
   ]
  },
  {
   "cell_type": "markdown",
   "id": "6853cc18",
   "metadata": {},
   "source": [
    "## Define the tools, edges, and nodes to be utilized"
   ]
  },
  {
   "cell_type": "code",
   "execution_count": 17,
   "id": "278d1d83-dda6-4de4-bf8b-be9965c227fa",
   "metadata": {
    "ExecuteTime": {
     "end_time": "2024-06-14T20:13:50.272301Z",
     "start_time": "2024-06-14T20:13:50.050808Z"
    }
   },
   "outputs": [],
   "source": [
    "from typing import Annotated, Literal, Sequence, TypedDict\n",
    "\n",
    "from langchain import hub\n",
    "from langchain_core.messages import BaseMessage, HumanMessage\n",
    "from langchain_core.pydantic_v1 import BaseModel, Field\n",
    "from langchain_openai import ChatOpenAI\n",
    "from langgraph.prebuilt import tools_condition\n",
    "from langchain_core.output_parsers import StrOutputParser\n",
    "from langchain_core.prompts import PromptTemplate, HumanMessagePromptTemplate\n",
    "# LangChain supports many other chat models. Here, we're using Ollama\n",
    "from langchain_community.chat_models import ChatOllama\n",
    "from langchain_core.output_parsers import StrOutputParser\n",
    "from langchain_core.prompts import ChatPromptTemplate\n",
    "\n",
    "# supports many more optional parameters. Hover on your `ChatOllama(...)`\n",
    "# class to view the latest available supported parameters\n",
    "\n",
    "\n",
    "### Edges\n",
    "\n",
    "\n",
    "def grade_documents(state) -> Literal[\"generate\", \"rewrite\"]:\n",
    "    \"\"\"\n",
    "    Determines whether the retrieved documents are relevant to the question.\n",
    "\n",
    "    Args:\n",
    "        state (messages): The current state\n",
    "\n",
    "    Returns:\n",
    "        str: A decision for whether the documents are relevant or not\n",
    "    \"\"\"\n",
    "\n",
    "    print(\"---CHECK RELEVANCE---\")\n",
    "\n",
    "    # Data model\n",
    "    class grade(BaseModel):\n",
    "        \"\"\"Binary score for relevance check.\"\"\"\n",
    "\n",
    "        binary_score: str = Field(description=\"Relevance score 'yes' or 'no'\")\n",
    "\n",
    "    # LLM\n",
    "    model = ChatOpenAI(temperature=0, model=\"gpt-4-0125-preview\", streaming=True)\n",
    "\n",
    "    # LLM with tool and validation\n",
    "    llm_with_tool = model.with_structured_output(grade)\n",
    "\n",
    "    # Prompt\n",
    "    local_prompt = PromptTemplate(\n",
    "        template=\"\"\"You are a grader assessing relevance of a retrieved document to a user question. \\n \n",
    "        Here is the retrieved document: \\n\\n {context} \\n\\n\n",
    "        Here is the user question: {question} \\n\n",
    "        If the document contains keyword(s) or semantic meaning related to the user question, grade it as relevant. \\n\n",
    "        Give a binary score 'yes' or 'no' score to indicate whether the document is relevant to the question.\"\"\",\n",
    "        input_variables=[\"context\", \"question\"],\n",
    "    )\n",
    "\n",
    "    # Chain\n",
    "    chain = local_prompt | llm_with_tool\n",
    "\n",
    "    messages = state[\"messages\"]\n",
    "    last_message = messages[-1]\n",
    "\n",
    "    question = messages[0].content\n",
    "    docs = last_message.content\n",
    "    \n",
    "    print(docs)\n",
    "\n",
    "    scored_result = chain.invoke({\"question\": question, \"context\": docs})\n",
    "\n",
    "    score = scored_result.binary_score\n",
    "\n",
    "    if score == \"yes\":\n",
    "        print(\"---DECISION: DOCS RELEVANT---\")\n",
    "        return \"generate\"\n",
    "\n",
    "    else:\n",
    "        print(\"---DECISION: DOCS NOT RELEVANT---\")\n",
    "        print(score)\n",
    "        return \"rewrite\"\n",
    "\n",
    "\n",
    "### Nodes\n",
    "\n",
    "\n",
    "def agent(state):\n",
    "    \"\"\"\n",
    "    Invokes the agent model to generate a response based on the current state. Given\n",
    "    the question, it will decide to retrieve using the retriever tool, or simply end.\n",
    "\n",
    "    Args:\n",
    "        state (messages): The current state\n",
    "\n",
    "    Returns:\n",
    "        dict: The updated state with the agent response appended to messages\n",
    "    \"\"\"\n",
    "    print(\"---CALL AGENT---\")\n",
    "    messages = state[\"messages\"]\n",
    "    model = ChatOpenAI(temperature=0, streaming=True, model=\"gpt-4-turbo\")\n",
    "    model = model.bind_tools(tools)\n",
    "    response = model.invoke(messages)\n",
    "    # We return a list, because this will get added to the existing list\n",
    "    return {\"messages\": [response]}\n",
    "\n",
    "\n",
    "def rewrite(state):\n",
    "    \"\"\"\n",
    "    Transform the query to produce a better question.\n",
    "\n",
    "    Args:\n",
    "        state (messages): The current state\n",
    "\n",
    "    Returns:\n",
    "        dict: The updated state with re-phrased question\n",
    "    \"\"\"\n",
    "\n",
    "    print(\"---TRANSFORM QUERY---\")\n",
    "    messages = state[\"messages\"]\n",
    "    question = messages[0].content\n",
    "\n",
    "    msg = [\n",
    "        HumanMessage(\n",
    "            content=f\"\"\" \\n \n",
    "    Look at the input and try to reason about the underlying semantic intent / meaning. \\n \n",
    "    Here is the initial question:\n",
    "    \\n ------- \\n\n",
    "    {question} \n",
    "    \\n ------- \\n\n",
    "    Formulate an improved question: \"\"\",\n",
    "        )\n",
    "    ]\n",
    "\n",
    "    # Grader\n",
    "    model = ChatOpenAI(temperature=0, model=\"gpt-4-0125-preview\", streaming=True)\n",
    "    response = model.invoke(msg)\n",
    "    return {\"messages\": [response]}\n",
    "\n",
    "\n",
    "def generate(state):\n",
    "    \"\"\"\n",
    "    Generate answer\n",
    "\n",
    "    Args:\n",
    "        state (messages): The current state\n",
    "\n",
    "    Returns:\n",
    "         dict: The updated state with re-phrased question\n",
    "    \"\"\"\n",
    "    print(\"---GENERATE---\")\n",
    "    messages = state[\"messages\"]\n",
    "    question = messages[0].content\n",
    "    last_message = messages[-1]\n",
    "\n",
    "    question = messages[0].content\n",
    "    docs = last_message.content\n",
    "\n",
    "    # Prompt\n",
    "    #prompt = hub.pull(\"rlm/rag-prompt\")\n",
    "    local_prompt = ChatPromptTemplate(\n",
    "        input_variables=['context', 'question'], \n",
    "        messages=[HumanMessagePromptTemplate(prompt=PromptTemplate(input_variables=['context', 'question'], template=\"You are an assistant for question-answering tasks. Use the following pieces of retrieved context to answer the question. If you don't know the answer, just say that you don't know. Use three sentences maximum and keep the answer concise.\\nQuestion: {question} \\nContext: {context} \\nAnswer:\"))])\n",
    "\n",
    "    # LLM\n",
    "    llm = ChatOpenAI(model_name=\"gpt-3.5-turbo\", temperature=0, streaming=True)\n",
    "\n",
    "    # Post-processing\n",
    "    def format_docs(docs):\n",
    "        return \"\\n\\n\".join(doc.page_content for doc in docs)\n",
    "\n",
    "    # Chain\n",
    "    rag_chain = local_prompt | llm | StrOutputParser()\n",
    "\n",
    "    # Run\n",
    "    response = rag_chain.invoke({\"context\": docs, \"question\": question})\n",
    "    return {\"messages\": [response]}\n"
   ]
  },
  {
   "cell_type": "markdown",
   "id": "955882ef-7467-48db-ae51-de441f2fc3a7",
   "metadata": {},
   "source": [
    "## Graph\n",
    "\n",
    "The following defines the execution graph. Note that we add notes for each step in our process summarized by the diagram below."
   ]
  },
  {
   "cell_type": "code",
   "execution_count": 18,
   "id": "8718a37f-83c2-4f16-9850-e61e0f49c3d4",
   "metadata": {
    "ExecuteTime": {
     "end_time": "2024-06-14T20:13:50.275537Z",
     "start_time": "2024-06-14T20:13:50.272868Z"
    }
   },
   "outputs": [],
   "source": [
    "from langgraph.graph import END, StateGraph\n",
    "from langgraph.prebuilt import ToolNode\n",
    "\n",
    "# Define a new graph\n",
    "workflow = StateGraph(AgentState)\n",
    "\n",
    "# Define the nodes we will cycle between\n",
    "workflow.add_node(\"agent\", agent)  # agent\n",
    "retrieve = ToolNode([redis_retriever_tool])\n",
    "workflow.add_node(\"redis_retrieve\", retrieve)  # retrieval\n",
    "workflow.add_node(\"rewrite\", rewrite)  # Re-writing the question\n",
    "workflow.add_node(\n",
    "    \"generate\", generate\n",
    ")  # Generating a response after we know the documents are relevant\n",
    "# Call agent node to decide to retrieve or not\n",
    "workflow.set_entry_point(\"agent\")\n",
    "\n",
    "# Decide whether to retrieve\n",
    "workflow.add_conditional_edges(\n",
    "    \"agent\",\n",
    "    # Assess agent decision\n",
    "    tools_condition,\n",
    "    {\n",
    "        # Translate the condition outputs to nodes in our graph\n",
    "        \"tools\": \"redis_retrieve\",\n",
    "        END: END,\n",
    "    },\n",
    ")\n",
    "\n",
    "# Edges taken after the `action` node is called.\n",
    "workflow.add_conditional_edges(\n",
    "    \"redis_retrieve\",\n",
    "    # Assess agent decision\n",
    "    grade_documents,\n",
    ")\n",
    "workflow.add_edge(\"generate\", END)\n",
    "workflow.add_edge(\"rewrite\", \"agent\")\n",
    "\n",
    "# Compile\n",
    "graph = workflow.compile()"
   ]
  },
  {
   "cell_type": "code",
   "execution_count": 19,
   "id": "7b5a1d35",
   "metadata": {
    "ExecuteTime": {
     "end_time": "2024-06-14T20:13:51.986089Z",
     "start_time": "2024-06-14T20:13:50.276074Z"
    }
   },
   "outputs": [
    {
     "data": {
      "image/jpeg": "[encoded data removed]",
      "text/plain": [
       "<IPython.core.display.Image object>"
      ]
     },
     "metadata": {},
     "output_type": "display_data"
    }
   ],
   "source": [
    "from IPython.display import Image, display\n",
    "\n",
    "try:\n",
    "    display(Image(graph.get_graph(xray=True).draw_mermaid_png()))\n",
    "except:\n",
    "    # This requires some extra dependencies and is optional\n",
    "    pass"
   ]
  },
  {
   "cell_type": "markdown",
   "id": "5e327f82",
   "metadata": {},
   "source": [
    "## Let's test it out!\n",
    "\n",
    "First let's start by asking an unrelated question to our financial chat application."
   ]
  },
  {
   "cell_type": "code",
   "execution_count": 26,
   "id": "d207c0b8",
   "metadata": {},
   "outputs": [
    {
     "name": "stdout",
     "output_type": "stream",
     "text": [
      "---CALL AGENT---\n",
      "\"key='agent'\"\n",
      "('value={\\'messages\\': [AIMessage(content=\"I don\\'t have feelings, but I\\'m '\n",
      " 'here to help you! How can I assist you today?\", '\n",
      " \"response_metadata={'finish_reason': 'stop', 'model_name': \"\n",
      " \"'gpt-4-turbo-2024-04-09', 'system_fingerprint': 'fp_0993c4a4c0'}, \"\n",
      " \"id='run-1f6191fd-8834-4fc7-b822-2067e97b61d6-0')]}\")\n"
     ]
    }
   ],
   "source": [
    "import pprint\n",
    "\n",
    "inputs = {\n",
    "    \"messages\": [\n",
    "        (\"user\", \"How do you feel today?\"),\n",
    "    ]\n",
    "}\n",
    "for output in graph.stream(inputs):\n",
    "    for key, value in output.items():\n",
    "        pprint.pprint(f\"{key=}\")\n",
    "        pprint.pprint(f\"{value=}\")"
   ]
  },
  {
   "cell_type": "markdown",
   "id": "75010985",
   "metadata": {},
   "source": [
    "#### In the case of irrelevant question, only the agent layer of our graph was invoked because it determined no other steps were necessary.\n",
    "\n",
    "Now let's ask it a relevant question"
   ]
  },
  {
   "cell_type": "code",
   "execution_count": 28,
   "id": "1620b86347651700",
   "metadata": {
    "ExecuteTime": {
     "end_time": "2024-06-14T20:13:52.180345Z",
     "start_time": "2024-06-14T20:13:51.986627Z"
    }
   },
   "outputs": [
    {
     "name": "stdout",
     "output_type": "stream",
     "text": [
      "---CALL AGENT---\n"
     ]
    },
    {
     "name": "stderr",
     "output_type": "stream",
     "text": [
      "score_threshold is deprecated. Use distance_threshold instead.score_threshold should only be used in similarity_search_with_relevance_scores.score_threshold will be removed in a future release.\n"
     ]
    },
    {
     "name": "stdout",
     "output_type": "stream",
     "text": [
      "\"key='agent'\"\n",
      "(\"value={'messages': [AIMessage(content='', additional_kwargs={'tool_calls': \"\n",
      " \"[{'index': 0, 'id': 'call_Csi00GQ4Y59mPrZaDL9ncT0E', 'function': \"\n",
      " '{\\'arguments\\': \\'{\"query\":\"Apple revenue 2022\"}\\', \\'name\\': '\n",
      " \"'retrieve_10K-filings'}, 'type': 'function'}]}, \"\n",
      " \"response_metadata={'finish_reason': 'tool_calls', 'model_name': \"\n",
      " \"'gpt-4-turbo-2024-04-09', 'system_fingerprint': 'fp_0993c4a4c0'}, \"\n",
      " \"id='run-f7b5ae05-d06e-458e-873e-5ec9027079fa-0', tool_calls=[{'name': \"\n",
      " \"'retrieve_10K-filings', 'args': {'query': 'Apple revenue 2022'}, 'id': \"\n",
      " \"'call_Csi00GQ4Y59mPrZaDL9ncT0E'}])]}\")\n",
      "---CHECK RELEVANCE---\n",
      "The year-over-year growth in selling, general and administrative expense in 2022 was driven primarily by increases in headcount- related expenses, advertising and professional services.\n",
      "\n",
      "Apple Inc. | 2022 Form 10-K | 23\n",
      "\n",
      "2020\n",
      "\n",
      "69,461 35,495 104,956\n",
      "\n",
      "31.5 % 66.0 % 38.2 %\n",
      "\n",
      "2020 18,752\n",
      "\n",
      "7 %\n",
      "\n",
      "19,916\n",
      "\n",
      "7 %\n",
      "\n",
      "38,668\n",
      "\n",
      "14 %\n",
      "\n",
      "Other Income/(Expense), Net\n",
      "\n",
      "Other income/(expense), net (“OI&E”) for 2022, 2021 and 2020 was as follows (dollars in millions):\n",
      "\n",
      "2022\n",
      "\n",
      "Change\n",
      "\n",
      "2021\n",
      "\n",
      "Change\n",
      "\n",
      "As of September 24, 2022 and September 25, 2021, the Company had total deferred revenue of $12.4 billion and $11.9 billion, respectively. As of September 24, 2022, the Company expects 64% of total deferred revenue to be realized in less than a year, 27% within one-to-two years, 7% within two-to-three years and 2% in greater than three years.\n",
      "\n",
      "Apple Inc. | 2022 Form 10-K | 37\n",
      "\n",
      "2020\n",
      "\n",
      "137,781 28,622 23,724 30,620 53,768 274,515\n",
      "\n",
      "Note 3 – Financial Instruments\n",
      "\n",
      "Selling, general and administrative expense was relatively ﬂat in 2023 compared to 2022.\n",
      "\n",
      "Apple Inc. | 2023 Form 10-K | 23\n",
      "\n",
      "2021\n",
      "\n",
      "105,126 47,710 152,836\n",
      "\n",
      "35.3 % 69.7 % 41.8 %\n",
      "\n",
      "2021\n",
      "\n",
      "21,914\n",
      "\n",
      "6 %\n",
      "\n",
      "21,973\n",
      "\n",
      "6 %\n",
      "\n",
      "43,887\n",
      "\n",
      "12 %\n",
      "\n",
      "Provision for Income Taxes\n",
      "\n",
      "Provision for income taxes, eﬀective tax rate and statutory federal income tax rate for 2023, 2022 and 2021 were as follows (dollars in millions):\n",
      "\n",
      "2023\n",
      "\n",
      "2022\n",
      "\n",
      "Provision for income taxes Eﬀective tax rate Statutory federal income tax rate\n",
      "\n",
      "$\n",
      "\n",
      "Apple Inc. | 2023 Form 10-K | 34\n",
      "\n",
      "Net sales disaggregated by signiﬁcant products and services for 2023, 2022 and 2021 were as follows (in millions):\n",
      "\n",
      "2023\n",
      "\n",
      "2022\n",
      "\n",
      "2021\n",
      "\n",
      "iPhone (1) Mac iPad Wearables, Home and Accessories Services\n",
      "\n",
      "(1)\n",
      "\n",
      "(1)\n",
      "\n",
      "(2)\n",
      "\n",
      "Total net sales\n",
      "\n",
      "(1)\n",
      "\n",
      "$\n",
      "\n",
      "$\n",
      "\n",
      "200,583 $ 29,357 28,300 39,845 85,200 383,285 $\n",
      "\n",
      "205,489 $ 40,177 29,292 41,241 78,129 394,328 $\n",
      "\n",
      "191,973 35,190 31,862 38,367 68,425 365,817\n",
      "---DECISION: DOCS RELEVANT---\n",
      "\"key='redis_retrieve'\"\n",
      "(\"value={'messages': [ToolMessage(content='The year-over-year growth in \"\n",
      " 'selling, general and administrative expense in 2022 was driven primarily by '\n",
      " 'increases in headcount- related expenses, advertising and professional '\n",
      " 'services.\\\\n\\\\nApple Inc. | 2022 Form 10-K | 23\\\\n\\\\n2020\\\\n\\\\n69,461 35,495 '\n",
      " '104,956\\\\n\\\\n31.5 % 66.0 % 38.2 %\\\\n\\\\n2020 18,752\\\\n\\\\n7 '\n",
      " '%\\\\n\\\\n19,916\\\\n\\\\n7 %\\\\n\\\\n38,668\\\\n\\\\n14 %\\\\n\\\\nOther Income/(Expense), '\n",
      " 'Net\\\\n\\\\nOther income/(expense), net (“OI&E”) for 2022, 2021 and 2020 was as '\n",
      " 'follows (dollars in '\n",
      " 'millions):\\\\n\\\\n2022\\\\n\\\\nChange\\\\n\\\\n2021\\\\n\\\\nChange\\\\n\\\\nAs of September '\n",
      " '24, 2022 and September 25, 2021, the Company had total deferred revenue of '\n",
      " '$12.4 billion and $11.9 billion, respectively. As of September 24, 2022, the '\n",
      " 'Company expects 64% of total deferred revenue to be realized in less than a '\n",
      " 'year, 27% within one-to-two years, 7% within two-to-three years and 2% in '\n",
      " 'greater than three years.\\\\n\\\\nApple Inc. | 2022 Form 10-K | '\n",
      " '37\\\\n\\\\n2020\\\\n\\\\n137,781 28,622 23,724 30,620 53,768 274,515\\\\n\\\\nNote 3 – '\n",
      " 'Financial Instruments\\\\n\\\\nSelling, general and administrative expense was '\n",
      " 'relatively ﬂat in 2023 compared to 2022.\\\\n\\\\nApple Inc. | 2023 Form 10-K | '\n",
      " '23\\\\n\\\\n2021\\\\n\\\\n105,126 47,710 152,836\\\\n\\\\n35.3 % 69.7 % 41.8 '\n",
      " '%\\\\n\\\\n2021\\\\n\\\\n21,914\\\\n\\\\n6 %\\\\n\\\\n21,973\\\\n\\\\n6 %\\\\n\\\\n43,887\\\\n\\\\n12 '\n",
      " '%\\\\n\\\\nProvision for Income Taxes\\\\n\\\\nProvision for income taxes, eﬀective '\n",
      " 'tax rate and statutory federal income tax rate for 2023, 2022 and 2021 were '\n",
      " 'as follows (dollars in millions):\\\\n\\\\n2023\\\\n\\\\n2022\\\\n\\\\nProvision for '\n",
      " 'income taxes Eﬀective tax rate Statutory federal income tax '\n",
      " 'rate\\\\n\\\\n$\\\\n\\\\nApple Inc. | 2023 Form 10-K | 34\\\\n\\\\nNet sales '\n",
      " 'disaggregated by signiﬁcant products and services for 2023, 2022 and 2021 '\n",
      " 'were as follows (in millions):\\\\n\\\\n2023\\\\n\\\\n2022\\\\n\\\\n2021\\\\n\\\\niPhone (1) '\n",
      " 'Mac iPad Wearables, Home and Accessories '\n",
      " 'Services\\\\n\\\\n(1)\\\\n\\\\n(1)\\\\n\\\\n(2)\\\\n\\\\nTotal net '\n",
      " 'sales\\\\n\\\\n(1)\\\\n\\\\n$\\\\n\\\\n$\\\\n\\\\n200,583 $ 29,357 28,300 39,845 85,200 '\n",
      " '383,285 $\\\\n\\\\n205,489 $ 40,177 29,292 41,241 78,129 394,328 $\\\\n\\\\n191,973 '\n",
      " \"35,190 31,862 38,367 68,425 365,817', name='retrieve_10K-filings', \"\n",
      " \"id='b856911f-7301-444a-93ba-717774104142', \"\n",
      " \"tool_call_id='call_Csi00GQ4Y59mPrZaDL9ncT0E')]}\")\n",
      "---GENERATE---\n",
      "\"key='generate'\"\n",
      "('value={\\'messages\\': [\"Selling, general and administrative expense was '\n",
      " \"relatively flat in 2023 compared to 2022. Apple's revenue performance in \"\n",
      " '2022 is not explicitly mentioned in the provided context.\"]}')\n"
     ]
    }
   ],
   "source": [
    "import pprint\n",
    "\n",
    "inputs = {\n",
    "    \"messages\": [\n",
    "        (\"user\", \"What was the performance of Apple revenue in 2022?\"),\n",
    "    ]\n",
    "}\n",
    "for output in graph.stream(inputs):\n",
    "    for key, value in output.items():\n",
    "        pprint.pprint(f\"{key=}\")\n",
    "        pprint.pprint(f\"{value=}\")"
   ]
  },
  {
   "cell_type": "markdown",
   "id": "167ab671",
   "metadata": {},
   "source": [
    "## What just happened?\n",
    "\n",
    "Admittedly the output is large and hard to read but if we investigate we can see that the agent determined the question was valid, invoked the redis_retrieval tool to get the correct context to answer the question, and generated an answer accordingly. "
   ]
  },
  {
   "cell_type": "code",
   "execution_count": 29,
   "id": "14ae4540d8dbc036",
   "metadata": {},
   "outputs": [
    {
     "data": {
      "text/plain": [
       "{'generate': {'messages': [\"Selling, general and administrative expense was relatively flat in 2023 compared to 2022. Apple's revenue performance in 2022 is not explicitly mentioned in the provided context.\"]}}"
      ]
     },
     "execution_count": 29,
     "metadata": {},
     "output_type": "execute_result"
    }
   ],
   "source": [
    "output"
   ]
  },
  {
   "cell_type": "code",
   "execution_count": null,
   "id": "a7fe73c5",
   "metadata": {},
   "outputs": [],
   "source": []
  }
 ],
 "metadata": {
  "kernelspec": {
   "display_name": "Python 3 (ipykernel)",
   "language": "python",
   "name": "python3"
  },
  "language_info": {
   "codemirror_mode": {
    "name": "ipython",
    "version": 3
   },
   "file_extension": ".py",
   "mimetype": "text/x-python",
   "name": "python",
   "nbconvert_exporter": "python",
   "pygments_lexer": "ipython3",
   "version": "3.11.9"
  }
 },
 "nbformat": 4,
 "nbformat_minor": 5
}
