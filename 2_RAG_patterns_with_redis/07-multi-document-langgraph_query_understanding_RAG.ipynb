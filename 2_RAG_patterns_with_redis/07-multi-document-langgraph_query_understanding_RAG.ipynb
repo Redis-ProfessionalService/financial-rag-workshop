{
 "cells": [
  {
   "cell_type": "markdown",
   "id": "425fb020-e864-40ce-a31f-8da40c73d14b",
   "metadata": {},
   "source": [
    "<div align=\"center\">\n",
    "    <div><img src=\"../assets/redis_logo.svg\" style=\"width: 130px\"> </div>\n",
    "    <div style=\"display: inline-block; text-align: center; margin-bottom: 10px;\">\n",
    "        <span style=\"font-size: 36px;\"><b>Multi-document RAG based on LangGraph with Query Understanding and Redis Retrieval Agents</b></span>\n",
    "        <br />\n",
    "    </div>\n",
    "    <br />\n",
    "</div>\n",
    "\n"
   ]
  },
  {
   "metadata": {},
   "cell_type": "markdown",
   "source": "As we saw in notebook 06, a React agentic approach to search and treating a Redis retriever as a tool, and moreover leaving the reasoning to an LLM could lead to some uncertainty. A react agentic approach might be a better approach for planning in an uncertain situation (maybe a robotic application where parameters of the problem are unknown) and not for a search application where the tasks and steps to take are very well-defined. Any search starts with a query by a user. The first task is to understand the query or user's question. The hardest part is to understand the intent of the user which might need some personalized and contextual understanding of the user - which we will not address here. Nevertheless, the first component of a search application is query understanding. The second component is constructing a refined query via query augmentation, translation of user's query into a combination of target query language and mapping the query into a vector space using an embedding model. After query translation and representation in a vector space, it is time to retrieve the relevant documents. Here we showcase the Redis hybrid search capabilities and its integration in langchain. After fetching the most relevant documents, usually reranking happens (and by reranking we don't necessarily mean Semantic reranking - one could apply business logic in this step; for example, Ad injection and/or reordering based on business and user's context such as location or session information). In this notebook we don't use a reranker but employ a very simple document relevancy checker using the same `llama3` LLM. However, in a more realistic scenario, one should use task-specific or fine-tuned LLMs for each of these steps or even use the existing models or pipelines (query classifier, Learning To Rank, etc.). In fact, it might be a requirement that some models need to run faster/cheaper or be more explainable or certified for complaince reasons (such as Logistic Regression, decision trees, MaxEnt etc.) Please plug in any of such models instead of our generic LLM-based component if needed.      ",
   "id": "7c00b2501be3b1a0"
  },
  {
   "metadata": {},
   "cell_type": "markdown",
   "source": "![Graph](query_understanding_graph.png)",
   "id": "f468c64492a20099"
  },
  {
   "metadata": {},
   "cell_type": "markdown",
   "source": "## Environment Setup",
   "id": "c54f1e55f5310c1b"
  },
  {
   "metadata": {
    "ExecuteTime": {
     "end_time": "2024-06-21T13:08:13.029186Z",
     "start_time": "2024-06-21T13:08:11.834495Z"
    }
   },
   "cell_type": "code",
   "source": "%pip install python-dotenv",
   "id": "aa7fdd37f0036d45",
   "outputs": [
    {
     "name": "stdout",
     "output_type": "stream",
     "text": [
      "Requirement already satisfied: python-dotenv in /Library/Frameworks/Python.framework/Versions/3.12/lib/python3.12/site-packages (1.0.1)\r\n",
      "Note: you may need to restart the kernel to use updated packages.\n"
     ]
    }
   ],
   "execution_count": 1
  },
  {
   "cell_type": "code",
   "id": "e4958a8c",
   "metadata": {
    "ExecuteTime": {
     "end_time": "2024-06-21T13:09:52.052197Z",
     "start_time": "2024-06-21T13:09:52.039803Z"
    }
   },
   "source": [
    "import sys\n",
    "import os\n",
    "import warnings\n",
    "import dotenv\n",
    "# load env vars from .env file\n",
    "dotenv.load_dotenv()\n",
    "\n",
    "warnings.filterwarnings('ignore')\n",
    "dir_path = os.getcwd()\n",
    "parent_directory = os.path.dirname(dir_path)\n",
    "sys.path.insert(0, f'{parent_directory}/helpers')\n",
    "os.environ[\"ROOT_DIR\"] = parent_directory\n",
    "REDIS_URL = os.getenv(\"REDIS_URL\")\n",
    "\n",
    "print(\"========== ENVIRONMENT VARIABLES ==========\")\n",
    "print(f\"Current Directory={dir_path}\")\n",
    "print(f\"Parent Directory={parent_directory}\")\n",
    "print(f\"System path={sys.path}\")\n",
    "print(\"---------------------------------\")\n",
    "print(f'LLM Engine: {os.getenv(\"LOCAL_LLM_ENGINE\")}')\n",
    "print(f'LOCAL_VLLM_MODEL: {os.getenv(\"LOCAL_VLLM_MODEL\")}')\n",
    "print(f'LOCAL_OLLAMA_MODEL: {os.getenv(\"LOCAL_OLLAMA_MODEL\")}')\n",
    "print(f'VLLM_URL: {os.getenv(\"VLLM_URL\")}')\n",
    "print(\"---------------------------------\")\n",
    "print(f\"NLTK_DATA={os.getenv('NLTK_DATA')}\")\n"
   ],
   "outputs": [
    {
     "name": "stdout",
     "output_type": "stream",
     "text": [
      "========== ENVIRONMENT VARIABLES ==========\n",
      "Current Directory=/Users/rouzbeh.farahmand/PycharmProjects/boa-financial-rag-workshop/2_RAG_patterns_with_redis\n",
      "Parent Directory=/Users/rouzbeh.farahmand/PycharmProjects/boa-financial-rag-workshop\n",
      "System path=['/Users/rouzbeh.farahmand/PycharmProjects/boa-financial-rag-workshop/helpers', '/Users/rouzbeh.farahmand/PycharmProjects/boa-financial-rag-workshop/helpers', '/Users/rouzbeh.farahmand/PycharmProjects/boa-financial-rag-workshop/helpers', '/Applications/PyCharm.app/Contents/plugins/python/helpers-pro/jupyter_debug', '/Applications/PyCharm.app/Contents/plugins/python/helpers/pydev', '/Users/rouzbeh.farahmand/PycharmProjects/boa-financial-rag-workshop', '/Library/Frameworks/Python.framework/Versions/3.12/lib/python312.zip', '/Library/Frameworks/Python.framework/Versions/3.12/lib/python3.12', '/Library/Frameworks/Python.framework/Versions/3.12/lib/python3.12/lib-dynload', '', '/Library/Frameworks/Python.framework/Versions/3.12/lib/python3.12/site-packages']\n",
      "---------------------------------\n",
      "LLM Engine: vllm\n",
      "LOCAL_VLLM_MODEL: meta-llama/Meta-Llama-3-8B-Instruct\n",
      "LOCAL_OLLAMA_MODEL: llama3\n",
      "VLLM_URL: http://localhost:8000/v1\n",
      "---------------------------------\n",
      "NLTK_DATA=\n"
     ]
    }
   ],
   "execution_count": 4
  },
  {
   "metadata": {},
   "cell_type": "markdown",
   "source": "### Install Python Dependencies",
   "id": "2c22327a44dd1c4d"
  },
  {
   "metadata": {
    "ExecuteTime": {
     "end_time": "2024-06-18T20:35:04.824902Z",
     "start_time": "2024-06-18T20:35:02.488901Z"
    }
   },
   "cell_type": "code",
   "source": [
    "%%capture\n",
    "%pip install -r $ROOT_DIR/requirements.txt"
   ],
   "id": "fe27d19af62e7bc5",
   "outputs": [],
   "execution_count": 3
  },
  {
   "metadata": {
    "ExecuteTime": {
     "end_time": "2024-06-18T20:35:14.138817Z",
     "start_time": "2024-06-18T20:35:10.598980Z"
    }
   },
   "cell_type": "code",
   "source": [
    "from utils import *\n",
    "from ingestion import *\n",
    "from custom_ners import *"
   ],
   "id": "2dc6b74f5a93fb61",
   "outputs": [
    {
     "name": "stdout",
     "output_type": "stream",
     "text": [
      " ✅ Loaded doc info for  111 tickers...\n"
     ]
    }
   ],
   "execution_count": 4
  },
  {
   "metadata": {},
   "cell_type": "markdown",
   "source": [
    "### SentenceTransformerEmbeddings Models Cache folder\n",
    "We are using `SentenceTransformerEmbeddings` in this demo and here we specify the cache folder. If you already downloaded the models in a local file system, set this folder here, otherwise the library tries to download the models in this folder if is not locally available.\n",
    "\n",
    "In particular, this models will be downloaded if not present in the cache folder:\n",
    "\n",
    "models/models--sentence-transformers--all-MiniLM-L6-v2"
   ],
   "id": "9ba8eaf10e92f692"
  },
  {
   "metadata": {
    "ExecuteTime": {
     "end_time": "2024-06-18T20:35:20.082741Z",
     "start_time": "2024-06-18T20:35:20.080118Z"
    }
   },
   "cell_type": "code",
   "source": [
    "#setting the local downloaded sentence transformer models folder\n",
    "os.environ[\"TRANSFORMERS_CACHE\"] = f\"{parent_directory}/models\""
   ],
   "id": "c405bdf9381db835",
   "outputs": [],
   "execution_count": 5
  },
  {
   "metadata": {
    "ExecuteTime": {
     "end_time": "2024-06-18T20:35:21.988151Z",
     "start_time": "2024-06-18T20:35:20.633366Z"
    }
   },
   "cell_type": "code",
   "source": [
    "from langchain.embeddings.sentence_transformer import SentenceTransformerEmbeddings\n",
    "\n",
    "embeddings = SentenceTransformerEmbeddings(model_name=\"sentence-transformers/all-MiniLM-L6-v2\",\n",
    "                                           cache_folder=os.getenv(\"TRANSFORMERS_CACHE\", f\"{parent_directory}/models\"))"
   ],
   "id": "11190e3ee0b4ab1d",
   "outputs": [],
   "execution_count": 6
  },
  {
   "metadata": {},
   "cell_type": "markdown",
   "source": [
    "### Build your Redis index \n",
    "Skip this section if you have already built your index in previous notebook.\n"
   ],
   "id": "30bd69c8360baaa0"
  },
  {
   "metadata": {
    "ExecuteTime": {
     "end_time": "2024-06-18T20:35:33.400040Z",
     "start_time": "2024-06-18T20:35:33.302434Z"
    }
   },
   "cell_type": "code",
   "source": [
    "from redisvl.index import SearchIndex\n",
    "from redisvl.schema import IndexSchema\n",
    "from redis import Redis\n",
    "index_name = 'langchain'\n",
    "prefix = 'chunk'\n",
    "schema = IndexSchema.from_yaml('sec_index.yaml')\n",
    "client = Redis.from_url(REDIS_URL)\n",
    "# create an index from schema and the client\n",
    "index = SearchIndex(schema, client)\n",
    "index.create(overwrite=True, drop=True)"
   ],
   "id": "78bbc21dd49fb15f",
   "outputs": [
    {
     "name": "stdout",
     "output_type": "stream",
     "text": [
      "16:35:33 redisvl.index.index INFO   Index already exists, overwriting.\n"
     ]
    }
   ],
   "execution_count": 7
  },
  {
   "metadata": {
    "ExecuteTime": {
     "end_time": "2024-06-18T20:35:34.057139Z",
     "start_time": "2024-06-18T20:35:34.050783Z"
    }
   },
   "cell_type": "code",
   "source": [
    "# Skip if you have already done populated your index.\n",
    "sec_data = get_sec_data()"
   ],
   "id": "c1ab8cbe7cdea875",
   "outputs": [
    {
     "name": "stdout",
     "output_type": "stream",
     "text": [
      " ✅ Loaded doc info for  111 tickers...\n"
     ]
    }
   ],
   "execution_count": 8
  },
  {
   "metadata": {
    "ExecuteTime": {
     "end_time": "2024-06-18T20:36:27.486638Z",
     "start_time": "2024-06-18T20:35:35.288607Z"
    }
   },
   "cell_type": "code",
   "source": "redis_bulk_upload(sec_data, index, embeddings, tickers=['AAPL','AMZN'])",
   "id": "5b87b9c94d496bc5",
   "outputs": [
    {
     "name": "stdout",
     "output_type": "stream",
     "text": [
      "✅ Loaded 108 10K chunks for ticker=AAPL from AAPL-2021-10K.pdf\n",
      "✅ Loaded 94 10K chunks for ticker=AAPL from AAPL-2023-10K.pdf\n",
      "✅ Loaded 103 10K chunks for ticker=AAPL from AAPL-2022-10K.pdf\n",
      "✅ Loaded 27 earning_call chunks for ticker=AAPL from 2018-May-01-AAPL.txt\n",
      "✅ Loaded 31 earning_call chunks for ticker=AAPL from 2019-Oct-30-AAPL.txt\n",
      "✅ Loaded 30 earning_call chunks for ticker=AAPL from 2016-Jan-26-AAPL.txt\n",
      "✅ Loaded 31 earning_call chunks for ticker=AAPL from 2020-Jul-30-AAPL.txt\n",
      "✅ Loaded 30 earning_call chunks for ticker=AAPL from 2017-Aug-01-AAPL.txt\n",
      "✅ Loaded 29 earning_call chunks for ticker=AAPL from 2020-Jan-28-AAPL.txt\n",
      "✅ Loaded 34 earning_call chunks for ticker=AAPL from 2016-Apr-26-AAPL.txt\n",
      "✅ Loaded 29 earning_call chunks for ticker=AAPL from 2017-Jan-31-AAPL.txt\n",
      "✅ Loaded 28 earning_call chunks for ticker=AAPL from 2019-Apr-30-AAPL.txt\n",
      "✅ Loaded 26 earning_call chunks for ticker=AAPL from 2017-Nov-02-AAPL.txt\n",
      "✅ Loaded 31 earning_call chunks for ticker=AAPL from 2016-Oct-25-AAPL.txt\n",
      "✅ Loaded 30 earning_call chunks for ticker=AAPL from 2016-Jul-26-AAPL.txt\n",
      "✅ Loaded 27 earning_call chunks for ticker=AAPL from 2017-May-02-AAPL.txt\n",
      "✅ Loaded 32 earning_call chunks for ticker=AAPL from 2019-Jul-30-AAPL.txt\n",
      "✅ Loaded 31 earning_call chunks for ticker=AAPL from 2019-Jan-29-AAPL.txt\n",
      "✅ Loaded 30 earning_call chunks for ticker=AAPL from 2018-Jul-31-AAPL.txt\n",
      "✅ Loaded 30 earning_call chunks for ticker=AAPL from 2018-Feb-01-AAPL.txt\n",
      "✅ Loaded 33 earning_call chunks for ticker=AAPL from 2018-Nov-01-AAPL.txt\n",
      "✅ Loaded 30 earning_call chunks for ticker=AAPL from 2020-Apr-30-AAPL.txt\n",
      "✅ Loaded 125 10K chunks for ticker=AMZN from AMZN-2023-10K.pdf\n",
      "✅ Loaded 117 10K chunks for ticker=AMZN from AMZN-2022-10K.pdf\n",
      "✅ Loaded 118 10K chunks for ticker=AMZN from AMZN-2021-10K.pdf\n",
      "✅ Loaded 20 earning_call chunks for ticker=AMZN from 2020-Jan-30-AMZN.txt\n",
      "✅ Loaded 28 earning_call chunks for ticker=AMZN from 2016-Apr-28-AMZN.txt\n",
      "✅ Loaded 19 earning_call chunks for ticker=AMZN from 2019-Oct-24-AMZN.txt\n",
      "✅ Loaded 24 earning_call chunks for ticker=AMZN from 2020-Apr-30-AMZN.txt\n",
      "✅ Loaded 22 earning_call chunks for ticker=AMZN from 2019-Apr-25-AMZN.txt\n",
      "✅ Loaded 17 earning_call chunks for ticker=AMZN from 2017-Jul-27-AMZN.txt\n",
      "✅ Loaded 20 earning_call chunks for ticker=AMZN from 2018-Jul-26-AMZN.txt\n",
      "✅ Loaded 20 earning_call chunks for ticker=AMZN from 2018-Oct-25-AMZN.txt\n",
      "✅ Loaded 30 earning_call chunks for ticker=AMZN from 2016-Jan-28-AMZN.txt\n",
      "✅ Loaded 21 earning_call chunks for ticker=AMZN from 2018-Feb-01-AMZN.txt\n",
      "✅ Loaded 23 earning_call chunks for ticker=AMZN from 2020-Jul-30-AMZN.txt\n",
      "✅ Loaded 21 earning_call chunks for ticker=AMZN from 2019-Jul-25-AMZN.txt\n",
      "✅ Loaded 21 earning_call chunks for ticker=AMZN from 2017-Apr-27-AMZN.txt\n",
      "✅ Loaded 20 earning_call chunks for ticker=AMZN from 2019-Jan-31-AMZN.txt\n",
      "✅ Loaded 19 earning_call chunks for ticker=AMZN from 2018-Apr-26-AMZN.txt\n",
      "✅ Loaded 22 earning_call chunks for ticker=AMZN from 2016-Oct-27-AMZN.txt\n",
      "✅ Loaded 21 earning_call chunks for ticker=AMZN from 2017-Feb-02-AMZN.txt\n",
      "✅ Loaded 26 earning_call chunks for ticker=AMZN from 2016-Jul-28-AMZN.txt\n",
      "✅ Loaded 19 earning_call chunks for ticker=AMZN from 2017-Oct-26-AMZN.txt\n",
      "✅✅✅Loaded a total of 1647 chunks from 6 10Ks and 38 earning calls for 2 tickers.\n"
     ]
    }
   ],
   "execution_count": 9
  },
  {
   "cell_type": "markdown",
   "id": "c74e4532",
   "metadata": {},
   "source": "## Redis as a Langchain Retriever\n"
  },
  {
   "cell_type": "code",
   "id": "e50c9efe-4abe-42fa-b35a-05eeeede9ec6",
   "metadata": {
    "ExecuteTime": {
     "end_time": "2024-06-18T20:36:27.618458Z",
     "start_time": "2024-06-18T20:36:27.487480Z"
    }
   },
   "source": [
    "from langchain_community.vectorstores import Redis as LangChainRedis\n",
    "\n",
    "index_name = 'langchain'\n",
    "\n",
    "vec_schema , main_schema = create_langchain_schemas_from_redis_schema('sec_index.yaml')\n",
    "\n",
    "rds = LangChainRedis.from_existing_index( embedding = embeddings, \n",
    "                                          index_name = index_name, \n",
    "                                          schema = main_schema)\n",
    "redis_retriever = rds.as_retriever()\n"
   ],
   "outputs": [],
   "execution_count": 10
  },
  {
   "metadata": {},
   "cell_type": "markdown",
   "source": "Test if the Redis index is working and returning relevant document.",
   "id": "fcc76c0d6a83a135"
  },
  {
   "metadata": {
    "ExecuteTime": {
     "end_time": "2024-06-18T20:36:28.056754Z",
     "start_time": "2024-06-18T20:36:27.618990Z"
    }
   },
   "cell_type": "code",
   "source": "rds.similarity_search(query=\"Apple in 2022\", k=4, distance_threshold=0.8)",
   "id": "39b95a9507cbf6a4",
   "outputs": [
    {
     "data": {
      "text/plain": [
       "[Document(page_content='The Company’s global operations are subject to complex and changing laws and regulations on subjects, including antitrust; privacy, data security and data localization; consumer protection; advertising, sales, billing and e-commerce; financial services and technology; product liability; intellectual property ownership and infringement; digital platforms; internet, telecommunications, and mobile communications; media, television, film and digital content; availability of third-party software applications and services; labor and employment; anticorruption; import, export and trade; foreign exchange controls and cash repatriation restrictions; anti–money laundering; foreign ownership and investment; tax; and environmental, health and safety, including electronic waste, recycling, and climate change.\\n\\nApple Inc. | 2022 Form 10-K | 13', metadata={'id': 'chunk:AAPL-2022-10K.pdf-04148c20-fe07-403e-8146-5bc7ab2a9e30', 'chunk_id': 'AAPL-2022-10K.pdf-04148c20-fe07-403e-8146-5bc7ab2a9e30', 'source_doc': 'AAPL-2022-10K.pdf', 'doc_type': '10K', 'ticker': 'AAPL', 'company_name': 'APPLE INC', 'sector': 'Information Technology', 'asset_class': 'Equity', 'location': 'United States', 'exchange': 'NASDAQ', 'currency': 'USD', 'market_value': '559365151.11', 'weight': '5.16', 'notional_value': '559365151.11', 'shares': '4305127', 'price': '129.93'}),\n",
       " Document(page_content='The following discussion should be read in conjunction with the consolidated financial statements and accompanying notes included in Part II, Item 8 of this Form 10-K. This section of this Form 10-K generally discusses 2022 and 2021 items and year-to-year comparisons between 2022 and 2021. Discussions of 2020 items and year-to-year comparisons between 2021 and 2020 are not included in this Form 10-K, and can be found in “Management’s Discussion and Analysis of Financial Condition and Results of Operations” in Part II, Item 7 of the Company’s Annual Report on Form 10-K for the fiscal year ended September 25, 2021.\\n\\nFiscal Year Highlights\\n\\nFiscal 2022 Highlights\\n\\nTotal net sales increased 8% or $28.5 billion during 2022 compared to 2021, driven primarily by higher net sales of iPhone, Services and Mac. The weakness in foreign currencies relative to the U.S. dollar had an unfavorable year-over-year impact on all Products and Services net sales during 2022.\\n\\nThe Company announces new product, service and software offerings at various times during the year. Significant announcements during fiscal 2022 included the following:\\n\\nFirst Quarter 2022:\\n\\n•\\n\\nUpdated MacBook Pro 14” and MacBook Pro 16”, powered by the Apple M1 Pro or M1 Max chip; and Third generation of AirPods.\\n\\nSecond Quarter 2022:\\n\\n• • •\\n\\nUpdated iPhone SE with 5G technology; All-new Mac Studio, powered by the Apple M1 Max or M1 Ultra chip; All-new Studio Display™; and Updated iPad Air with 5G technology, powered by the Apple M1 chip.\\n\\nThird Quarter 2022:\\n\\n• •\\n\\nUpdated MacBook Air and MacBook Pro 13”, both powered by the Apple M2 chip; iOS 16, macOS Ventura, iPadOS 16 and watchOS 9, updates to the Company’s operating systems; and Apple Pay Later, a buy now, pay later service.\\n\\nFourth Quarter 2022:\\n\\n• •\\n\\niPhone 14, iPhone 14 Plus, iPhone 14 Pro and iPhone 14 Pro Max; Second generation of AirPods Pro; and Apple Watch Series 8, updated Apple Watch SE and all-new Apple Watch Ultra.\\n\\nIn April 2022, the Company announced an increase to its Program authorization from $315 billion to $405 billion and raised its quarterly dividend from $0.22 to $0.23 per share beginning in May 2022. During 2022, the Company repurchased $90.2 billion of its common stock and paid dividends and dividend equivalents of $14.8 billion.\\n\\nCOVID-19', metadata={'id': 'chunk:AAPL-2022-10K.pdf-f5ce21a0-d64a-49d8-8cd9-57625d4772a0', 'chunk_id': 'AAPL-2022-10K.pdf-f5ce21a0-d64a-49d8-8cd9-57625d4772a0', 'source_doc': 'AAPL-2022-10K.pdf', 'doc_type': '10K', 'ticker': 'AAPL', 'company_name': 'APPLE INC', 'sector': 'Information Technology', 'asset_class': 'Equity', 'location': 'United States', 'exchange': 'NASDAQ', 'currency': 'USD', 'market_value': '559365151.11', 'weight': '5.16', 'notional_value': '559365151.11', 'shares': '4305127', 'price': '129.93'}),\n",
       " Document(page_content='In May 2023, the Company announced a new share repurchase program of up to $90 billion and raised its quarterly dividend from $0.23 to $0.24 per share beginning in May 2023. During 2023, the Company repurchased $76.6 billion of its common stock and paid dividends and dividend equivalents of $15.0 billion.\\n\\nMacroeconomic Conditions\\n\\nMacroeconomic conditions, including inﬂation, changes in interest rates, and currency ﬂuctuations, have directly and indirectly impacted, and could in the future materially impact, the Company’s results of operations and ﬁnancial condition.\\n\\nApple Inc. | 2023 Form 10-K | 20\\n\\nSegment Operating Performance\\n\\nThe following table shows net sales by reportable segment for 2023, 2022 and 2021 (dollars in millions):\\n\\n2023\\n\\nChange\\n\\n2022\\n\\nChange\\n\\nNet sales by reportable segment:\\n\\nAmericas Europe Greater China Japan Rest of Asia Paciﬁc\\n\\nTotal net sales\\n\\n$\\n\\n$\\n\\n162,560 94,294 72,559 24,257 29,615 383,285\\n\\n(4)% $ (1)% (2)% (7)% 1 % (3)% $\\n\\n169,658 95,118 74,200 25,977 29,375 394,328\\n\\n11 % $ 7 % 9 % (9)% 11 %\\n\\n8 % $\\n\\nAmericas\\n\\nAmericas net sales decreased 4% or $7.1 billion during 2023 compared to 2022 due to lower net sales of iPhone and Mac, partially oﬀset by higher net sales of Services.\\n\\nEurope\\n\\nEurope net sales decreased 1% or $824 million during 2023 compared to 2022. The weakness in foreign currencies relative to the U.S. dollar accounted for more than the entire year-over-year decrease in Europe net sales, which consisted primarily of lower net sales of Mac and Wearables, Home and Accessories, partially oﬀset by higher net sales of iPhone and Services.\\n\\nGreater China\\n\\nGreater China net sales decreased 2% or $1.6 billion during 2023 compared to 2022. The weakness in the renminbi relative to the U.S. dollar accounted for more than the entire year-over-year decrease in Greater China net sales, which consisted primarily of lower net sales of Mac and iPhone.\\n\\nJapan\\n\\nJapan net sales decreased 7% or $1.7 billion during 2023 compared to 2022. The weakness in the yen relative to the U.S. dollar accounted for more than the entire year-over-year decrease in Japan net sales, which consisted primarily of lower net sales of iPhone, Wearables, Home and Accessories and Mac.\\n\\nRest of Asia Paciﬁc', metadata={'id': 'chunk:AAPL-2023-10K.pdf-4943aa0d-17dc-47a7-9950-a2e7ce608971', 'chunk_id': 'AAPL-2023-10K.pdf-4943aa0d-17dc-47a7-9950-a2e7ce608971', 'source_doc': 'AAPL-2023-10K.pdf', 'doc_type': '10K', 'ticker': 'AAPL', 'company_name': 'APPLE INC', 'sector': 'Information Technology', 'asset_class': 'Equity', 'location': 'United States', 'exchange': 'NASDAQ', 'currency': 'USD', 'market_value': '559365151.11', 'weight': '5.16', 'notional_value': '559365151.11', 'shares': '4305127', 'price': '129.93'}),\n",
       " Document(page_content=\"Coming this fall, Apple TV+ will be new home for world's most creative story tellers, featuring exclusive: 1. Original shows. 2. Movies. 3. Documentaries. 4. Several Major Product Introductions: 1. iMac: 1. Launched new more powerful iMac with dramatic increases in compute and graphics performance, making it great update for consumers and pros alike. 2. For Mac business overall, faced some processor constraints, leading to 5% revenue decline vs. last year. 1. Believes that Mac revenue would have been up vs. last year without those constraints. 2. Does not believe this challenge will have significant impact on 3Q results. 2. iPad: 1. Returned to growth in Greater China. 1. Generated strong double-digit growth in each of Co.'s other geographic segments. 2. Great iPad results were driven primarily by strong customer response to iPad Pro. 3. Late in qtr., launched all-new iPad Air with ultra-thin design, Apple Pencil support and high-end performance powered by A12 Bionic chip. 4. Introduced new iPad Mini, major upgrade for iPad fans who love ultra-portable design. 1. Like new iPad Air, it delivers power of A12 Bionic and support for Apple Pencil. 3. AirPods: 1. Last month, introduced new AirPods. 1. Second generation of world's most popular wireless headphones. 2. Demand has been incredible. 2. With new Co.-designed H1 chip, new AirPods deliver faster connect times, more talk time and convenience of hands-free Hey Siri. 4.\", metadata={'id': 'chunk:2019-Apr-30-AAPL.txt-0a234c5f-5a2a-45c7-8b8c-2518f7899848', 'chunk_id': '2019-Apr-30-AAPL.txt-0a234c5f-5a2a-45c7-8b8c-2518f7899848', 'source_doc': '2019-Apr-30-AAPL.txt', 'doc_type': 'earning_call', 'ticker': 'AAPL', 'company_name': 'APPLE INC', 'sector': 'Information Technology', 'asset_class': 'Equity', 'location': 'United States', 'exchange': 'NASDAQ', 'currency': 'USD', 'market_value': '559365151.11', 'weight': '5.16', 'notional_value': '559365151.11', 'shares': '4305127', 'price': '129.93'})]"
      ]
     },
     "execution_count": 11,
     "metadata": {},
     "output_type": "execute_result"
    }
   ],
   "execution_count": 11
  },
  {
   "cell_type": "markdown",
   "id": "225d2277-45b2-4ae8-a7d6-62b07fb4a002",
   "metadata": {},
   "source": "## Create different components of your Graph pipeline"
  },
  {
   "metadata": {},
   "cell_type": "markdown",
   "source": [
    "### RAG Chain\n",
    "This component is responsible for genereting the final answer given a context we construct using our retrival process "
   ],
   "id": "85f9d6d70a7d2349"
  },
  {
   "metadata": {
    "ExecuteTime": {
     "end_time": "2024-06-17T19:00:46.214536Z",
     "start_time": "2024-06-17T19:00:34.218078Z"
    }
   },
   "cell_type": "code",
   "source": [
    "from langchain_core.output_parsers import StrOutputParser\n",
    "from langchain_core.prompts import ChatPromptTemplate, HumanMessagePromptTemplate,PromptTemplate\n",
    "from langchain.prompts import PromptTemplate\n",
    "from langchain_community.chat_models import ChatOllama\n",
    "print(f'LLM Engine: {os.getenv(\"LOCAL_LLM_ENGINE\")}')\n",
    "print(f'LOCAL_VLLM_MODEL: {os.getenv(\"LOCAL_VLLM_MODEL\")}')\n",
    "print(f'LOCAL_OLLAMA_MODEL: {os.getenv(\"LOCAL_OLLAMA_MODEL\")}')\n",
    "print(f'VLLM_URL: {os.getenv(\"VLLM_URL\")}')\n",
    "def get_gen_rag_chain():\n",
    "    # LLM\n",
    "    gen_llm = get_chat_llm( \n",
    "        local_llm_engine=os.getenv(\"LOCAL_LLM_ENGINE\"),\n",
    "        vllm_url=os.getenv(\"VLLM_URL\"),\n",
    "        vllm_model=os.getenv(\"LOCAL_VLLM_MODEL\"),\n",
    "        ollama_model=os.getenv(\"LOCAL_OLLAMA_MODEL\"),\n",
    "        temperature=0)\n",
    "    gen_local_prompt = PromptTemplate(input_variables=['context', 'question'], template=\"You are an assistant for question-answering tasks. Use the following pieces of retrieved context to answer the question. If you don't know the answer, just say that you don't know. Use three sentences maximum and keep the answer concise.\\nQuestion: {question} \\nContext: {context} \\nAnswer:\")\n",
    "\n",
    "    # Chain\n",
    "    gen_rag_chain = gen_local_prompt | gen_llm | StrOutputParser()\n",
    "    return gen_rag_chain\n",
    "\n",
    "q=\"what is the deferred apple revenue in 2022?\"\n",
    "context = \"\"\"As of September 24, 2022 and September 25, 2021, \n",
    "            the Company had total deferred revenue of $12.4 \n",
    "            billion and $11.9 billion, respectively. As of \n",
    "            September 24, 2022, the Company expects 64% of \n",
    "            total deferred revenue to be realized in less \"\"\"\n",
    "\n",
    "my_gen_rag_chain = get_gen_rag_chain()\n",
    "    # Run Gen LLM\n",
    "response = my_gen_rag_chain.invoke({\"context\": context, \"question\": q})\n",
    "print(response)"
   ],
   "id": "ae6b410735d14731",
   "outputs": [
    {
     "name": "stdout",
     "output_type": "stream",
     "text": [
      "Based on the provided context, I don't know the specific deferred apple revenue for 2022. However, I can tell you that as of September 24, 2022, Apple had total deferred revenue of $12.4 billion.\n"
     ]
    }
   ],
   "execution_count": 44
  },
  {
   "metadata": {},
   "cell_type": "markdown",
   "source": [
    "### Query Understanding\n",
    "This component is using our basic `llama3` LLM to analyze user's questions and queries and does several tasks in one call:\n",
    "   - determines whether a question is relevant to the domain of finance\n",
    "   - determines if the question can be answered better by looking into `10k`s or `earning_calls` \n",
    "   - determines if the question is generally looking for a numeric answer or an explanation. This could be crucial information in the downstream components where we want to find the right answer or verify our answers. An explanation is more textual and it can be measured in terms of cosine similarity; however, a numeric answer can be verified by running a tool that does mathematical calculations that is the result of a program, for example in a [PAL chain](https://api.python.langchain.com/en/latest/pal_chain/langchain_experimental.pal_chain.base.PALChain.html#).   "
   ],
   "id": "17fecb700639afe1"
  },
  {
   "metadata": {
    "ExecuteTime": {
     "end_time": "2024-06-17T19:00:57.761128Z",
     "start_time": "2024-06-17T19:00:46.220620Z"
    }
   },
   "cell_type": "code",
   "source": [
    "from langchain_core.output_parsers import JsonOutputParser\n",
    "\n",
    "EARNING_CALL_FIELD = 'earning_call'\n",
    "FILING_10K_FIELD = '10K'\n",
    "question_str = \"{question}\" \n",
    "\n",
    "def get_question_analyzer():\n",
    "    question_classifier_llm =get_chat_llm( \n",
    "        local_llm_engine=os.getenv(\"LOCAL_LLM_ENGINE\"),\n",
    "        vllm_url=os.getenv(\"VLLM_URL\"),\n",
    "        vllm_model=os.getenv(\"LOCAL_VLLM_MODEL\"),\n",
    "        ollama_model=os.getenv(\"LOCAL_OLLAMA_MODEL\"),\n",
    "        temperature=0,\n",
    "        format=\"json\")\n",
    "    question_classifier_prompt = PromptTemplate(\n",
    "        template=f\"\"\"Your task is to analyze and classify a question and formulate a new question related to the topic that you found. You have to determine if the answer for the question can be found in \"{EARNING_CALL_FIELD}\" or \"{FILING_10K_FIELD}\" financial filings. So choose either \"{EARNING_CALL_FIELD}\" or \"{FILING_10K_FIELD}\" as the assigned class. If you are unsure assign `None`. Assign three classes of '{EARNING_CALL_FIELD}' or '{FILING_10K_FIELD}' or 'None' as a JSON with a single key 'question_class'. Also add a new key called 'new_question' and try to rewrite the given question based on the class you detected. If the detected class is 'None' or your could find a relevance of the questions to those '{EARNING_CALL_FIELD}' or '{FILING_10K_FIELD}' return 'None' as the new question.\n",
    "          \n",
    "        \n",
    "        Also add a new field in the JSON called 'question_type'. You have to determine if the answer to user's question is likely to be a number or an explanation. if the answer to the question is likely to be number assign 'numeric' and if the answer is likely to be explanation assign `explain` to the 'question_type'.\n",
    "        \n",
    "       Also add a new field in the JSON called 'question_relevancy'. You have to determine if user's question is relevant to the domain of finance or not. If the question is is not relevant to the domain of finance give the value of 'not_relevant' and if it is relevant to the domain of finance give the value of 'relevant'.    \n",
    "        \n",
    "        Only return a valid JSON objects as your response. If you have new information or notes, add a new field in the JSON called `note` and add your explanation in that `note` field.: \\n\\n {question_str}.  \\n \"\"\",\n",
    "        input_variables=[\"question\"],\n",
    "    )\n",
    "    question_analyzer = question_classifier_prompt | question_classifier_llm | JsonOutputParser()\n",
    "    return question_analyzer\n",
    "\n",
    "my_question_analyzer = get_question_analyzer()\n",
    "my_question_analyzer.invoke({\"question\": \"what is the aapl revenue in 2022?\"})"
   ],
   "id": "5762c816db4168eb",
   "outputs": [
    {
     "data": {
      "text/plain": [
       "{'question_class': '10K',\n",
       " 'new_question': \"What are Apple's reported revenues for the year 2022?\",\n",
       " 'question_type': 'numeric',\n",
       " 'question_relevancy': 'relevant'}"
      ]
     },
     "execution_count": 45,
     "metadata": {},
     "output_type": "execute_result"
    }
   ],
   "execution_count": 45
  },
  {
   "metadata": {
    "ExecuteTime": {
     "end_time": "2024-06-17T19:01:08.132127Z",
     "start_time": "2024-06-17T19:00:57.763076Z"
    }
   },
   "cell_type": "code",
   "source": "my_question_analyzer.invoke({\"question\": \"what was the mood of Tim Cook in the earning calls of 2022?\"})",
   "id": "b4abf26d92fa5a21",
   "outputs": [
    {
     "data": {
      "text/plain": [
       "{'question_class': 'earning_call',\n",
       " 'new_question': \"What were the key takeaways from Apple's CEO, Tim Cook, during their 2022 earnings calls?\",\n",
       " 'question_type': 'explain',\n",
       " 'question_relevancy': 'relevant'}"
      ]
     },
     "execution_count": 46,
     "metadata": {},
     "output_type": "execute_result"
    }
   ],
   "execution_count": 46
  },
  {
   "metadata": {
    "ExecuteTime": {
     "end_time": "2024-06-17T19:01:19.464677Z",
     "start_time": "2024-06-17T19:01:08.133755Z"
    }
   },
   "cell_type": "code",
   "source": "my_question_analyzer.invoke({\"question\": \"Why colorless green ideas are sleeping furiously?\"})",
   "id": "fbb7f12ecd289a63",
   "outputs": [
    {
     "data": {
      "text/plain": [
       "{'question_class': 'None',\n",
       " 'new_question': 'None',\n",
       " 'question_type': 'explain',\n",
       " 'question_relevancy': 'not_relevant',\n",
       " 'note': 'This question is not related to finance and does not have a clear answer. It appears to be a philosophical or linguistic puzzle.'}"
      ]
     },
     "execution_count": 47,
     "metadata": {},
     "output_type": "execute_result"
    }
   ],
   "execution_count": 47
  },
  {
   "metadata": {},
   "cell_type": "markdown",
   "source": [
    "### Retrieval Grader\n",
    "This is a simple component that determines whether a retrieved document is relevant to user's question or not using a simple strategy. As we demonstrate below, this is not very effective. Firstly, if the documents are presented using a proper embedding model, then they are more likely to be semantically relevant to user's query than this simple strategy. Here we simply want to show this component as a placeholder. We recommend you to either replace this component with a fine-tuned LLM-based reranker or use a Learning To Rank (LTR) model. "
   ],
   "id": "82e0b1a0bf5809f9"
  },
  {
   "metadata": {
    "ExecuteTime": {
     "end_time": "2024-06-17T19:01:26.801105Z",
     "start_time": "2024-06-17T19:01:19.466131Z"
    }
   },
   "cell_type": "code",
   "source": [
    "### Retrieval Grader\n",
    "from langchain_core.output_parsers import JsonOutputParser\n",
    "\n",
    "def get_retrieval_grader():\n",
    "    retrieval_grader_llm = get_chat_llm( \n",
    "        local_llm_engine=os.getenv(\"LOCAL_LLM_ENGINE\"),\n",
    "        vllm_url=os.getenv(\"VLLM_URL\"),\n",
    "        vllm_model=os.getenv(\"LOCAL_VLLM_MODEL\"),\n",
    "        ollama_model=os.getenv(\"LOCAL_OLLAMA_MODEL\"),\n",
    "        temperature=0,\n",
    "        format=\"json\")\n",
    "\n",
    "    retrieval_grader_prompt = PromptTemplate(\n",
    "        template=\"\"\"You are a grader assessing relevance of a retrieved document to a user question. \\n \n",
    "        Here is the retrieved document: \\n\\n {document} \\n\\n\n",
    "        Here is the user question: {input} \\n\n",
    "        If the document contains keywords related to the user question, grade it as relevant. \\n\n",
    "        It does not need to be a stringent test. The goal is to filter out erroneous retrievals. \\n\n",
    "        Give a binary score 'yes' or 'no' score to indicate whether the document is relevant to the question. \\n\n",
    "        Provide the binary score as a JSON with a single key 'score' and no preamble or explanation.\\n \n",
    "        Please only give me a JSON object and no explanation.\"\"\",\n",
    "        input_variables=[\"input\", \"document\"],\n",
    "    )\n",
    "    \n",
    "    if os.getenv(\"LOCAL_LLM_ENGINE\") == 'vllm':\n",
    "        retrieval_grader = retrieval_grader_prompt | retrieval_grader_llm | StrOutputParser()\n",
    "    else:\n",
    "        retrieval_grader = retrieval_grader_prompt | retrieval_grader_llm | JsonOutputParser()\n",
    "    \n",
    "    return retrieval_grader\n",
    "\n",
    "my_retrieval_grader = get_retrieval_grader()\n",
    "\n",
    "question = \"apple revenue in 2022\"\n",
    "docs = redis_retriever.get_relevant_documents(question)\n",
    "doc_txt = docs[0].page_content\n",
    "print(my_retrieval_grader.invoke({\"input\": question, \"document\": doc_txt}))"
   ],
   "id": "6d636fcc416e5b53",
   "outputs": [
    {
     "name": "stderr",
     "output_type": "stream",
     "text": [
      "score_threshold is deprecated. Use distance_threshold instead.score_threshold should only be used in similarity_search_with_relevance_scores.score_threshold will be removed in a future release.\n"
     ]
    },
    {
     "name": "stdout",
     "output_type": "stream",
     "text": [
      "{'score': 'yes'}\n"
     ]
    }
   ],
   "execution_count": 48
  },
  {
   "metadata": {
    "ExecuteTime": {
     "end_time": "2024-06-17T19:01:29.288463Z",
     "start_time": "2024-06-17T19:01:26.803482Z"
    }
   },
   "cell_type": "code",
   "source": [
    "my_retrieval_grader.invoke({\"input\": \"apple revenue in 2022\", \"document\": \"\"\"\n",
    "We serve consumers through our online and physical stores and focus on selection, price, and convenience. We design our\n",
    "stores to enable hundreds of millions of unique products to be sold by us and by third parties across dozens of product categories.\n",
    "Customers access our offerings through our websites, mobile apps, Alexa, devices, streaming, and physically visiting our stores. We\n",
    "also manufacture and sell electronic devices, including Kindle, Fire tablet, Fire TV , Echo, Ring, and other devices, and we develop\n",
    "and produce media content. We seek to offer our customers low prices, fast and free delivery, easy-to-use functionality, and timely\n",
    "customer service. In addition, we offer Amazon Prime, a membership program that includes unlimited free shipping on over 100\n",
    "million items, access to unlimited streaming of tens of thousands of movies and TV episodes, including Amazon Original content,\n",
    "and other benefits.\n",
    "\"\"\"})"
   ],
   "id": "13b1ec0b06e274bf",
   "outputs": [
    {
     "data": {
      "text/plain": [
       "{'score': 'no'}"
      ]
     },
     "execution_count": 49,
     "metadata": {},
     "output_type": "execute_result"
    }
   ],
   "execution_count": 49
  },
  {
   "metadata": {
    "ExecuteTime": {
     "end_time": "2024-06-17T19:01:30.763736Z",
     "start_time": "2024-06-17T19:01:29.290169Z"
    }
   },
   "cell_type": "code",
   "source": [
    "my_retrieval_grader.invoke({\"input\": \"Amazon's revenue in 2022\", \"document\": \"\"\"\n",
    "We serve consumers through our online and physical stores and focus on selection, price, and convenience. We design our\n",
    "stores to enable hundreds of millions of unique products to be sold by us and by third parties across dozens of product categories.\n",
    "Customers access our offerings through our websites, mobile apps, Alexa, devices, streaming, and physically visiting our stores. We\n",
    "also manufacture and sell electronic devices, including Kindle, Fire tablet, Fire TV , Echo, Ring, and other devices, and we develop\n",
    "and produce media content. We seek to offer our customers low prices, fast and free delivery, easy-to-use functionality, and timely\n",
    "customer service. In addition, we offer Amazon Prime, a membership program that includes unlimited free shipping on over 100\n",
    "million items, access to unlimited streaming of tens of thousands of movies and TV episodes, including Amazon Original content,\n",
    "and other benefits.\n",
    "\"\"\"})"
   ],
   "id": "1434635cf6709c5e",
   "outputs": [
    {
     "data": {
      "text/plain": [
       "{'score': 'yes'}"
      ]
     },
     "execution_count": 50,
     "metadata": {},
     "output_type": "execute_result"
    }
   ],
   "execution_count": 50
  },
  {
   "metadata": {},
   "cell_type": "markdown",
   "source": "As you can see this grader, grades this document as relevant. It seems to be relevant to Aamzon but there is no information around revenue.",
   "id": "829df8ffee98f5bf"
  },
  {
   "metadata": {},
   "cell_type": "markdown",
   "source": [
    "### Target Query Construction and Translation\n",
    "To increase the precision of the retrieval and limit the search space - given the fact you might be dealing with billions of documents - we recommend to take advantage of Redis Hybrid search and automatically construct filters based on your metadata. A Simple vector representation simply does not cut it. To demonstrate that consider these two queries:\n",
    "`what was the performance of amzn in 2021?` and `what was the performance of amzn in 2022`. The cosine similarity of these two queries are:\n",
    " "
   ],
   "id": "1b5e5bf644e35239"
  },
  {
   "metadata": {
    "ExecuteTime": {
     "end_time": "2024-06-17T19:23:04.513112Z",
     "start_time": "2024-06-17T19:23:04.432327Z"
    }
   },
   "cell_type": "code",
   "source": [
    "import numpy as np\n",
    "from numpy.linalg import norm\n",
    "q1= \"what was the performance of amzn in 2021?\"\n",
    "q2= \"what was the performance of amzn in 2022?\"\n",
    "q3= \"what was the performance of amzn in fiscal year 2022?\" \n",
    "em1 = np.array(embeddings.embed_query(q1))\n",
    "em2 = np.array(embeddings.embed_query(q2))\n",
    "em3 = np.array(embeddings.embed_query(q3))\n",
    "cosine = np.dot(em1,em2)/(norm(em1)*norm(em2))\n",
    "print(f\"Cosine Similarity between<{q1}> and <{q2}>:\", cosine)"
   ],
   "id": "b1c6edecf084ee00",
   "outputs": [
    {
     "name": "stdout",
     "output_type": "stream",
     "text": [
      "Cosine Similarity between<what was the performance of amzn in 2021?> and <what was the performance of amzn in 2022?>: 0.9115875535206758\n"
     ]
    }
   ],
   "execution_count": 55
  },
  {
   "metadata": {
    "ExecuteTime": {
     "end_time": "2024-06-17T19:23:07.123591Z",
     "start_time": "2024-06-17T19:23:07.121041Z"
    }
   },
   "cell_type": "code",
   "source": [
    "cosine = np.dot(em2,em3)/(norm(em2)*norm(em3))\n",
    "print(f\"Cosine Similarity between<{q2}> and <{q3}>:\", cosine)"
   ],
   "id": "26f392d442d8008d",
   "outputs": [
    {
     "name": "stdout",
     "output_type": "stream",
     "text": [
      "Cosine Similarity between<what was the performance of amzn in 2022?> and <what was the performance of amzn in fiscal year 2022?>: 0.8379697496383086\n"
     ]
    }
   ],
   "execution_count": 57
  },
  {
   "metadata": {},
   "cell_type": "markdown",
   "source": "The answer to these questions are wildly different. But the high similarity between two queries will result in documents that might be from different years. However, if you apply a simple date NER and filter the document source year, you will eliminate that problem. This problem also could appear in geospatial search where a longitude and latitude of two points could point to the same location but with different precision(e.g 12.12412414 is textually different from 12.1 but could be the same lat/lon). So again you can translate to a proper geo-filter (which Redis supports: see an example [here](https://redis.io/learn/howtos/solutions/geo/getting-started)).   ",
   "id": "70244a316e5160ea"
  },
  {
   "metadata": {},
   "cell_type": "markdown",
   "source": "So here we have a built a simple toy NER using spacy, and did a simple translation; again as placeholder for a component that we feel is necessary and we will leave it for you to build your own NER (using your internal metadata and language based on the method of your choice)",
   "id": "7843fb814b811882"
  },
  {
   "metadata": {
    "ExecuteTime": {
     "end_time": "2024-06-18T20:36:53.934540Z",
     "start_time": "2024-06-18T20:36:53.923813Z"
    }
   },
   "cell_type": "code",
   "source": [
    "def custom_redis_query_translator(q):\n",
    "    filters = get_redis_filters(q)\n",
    "    return filters\n",
    "\n",
    "custom_redis_query_translator(\"what was the performance of amzn in 2021 in nasdaq?\")"
   ],
   "id": "e266c6cdb624601e",
   "outputs": [
    {
     "data": {
      "text/plain": [
       "'@ticker:{AMZN} | @exchange:{NASDAQ}'"
      ]
     },
     "execution_count": 12,
     "metadata": {},
     "output_type": "execute_result"
    }
   ],
   "execution_count": 12
  },
  {
   "metadata": {
    "ExecuteTime": {
     "end_time": "2024-06-18T20:36:55.778296Z",
     "start_time": "2024-06-18T20:36:55.770470Z"
    }
   },
   "cell_type": "code",
   "source": "custom_redis_query_translator(\"what was the performance of Apple Inc in 2021?\")",
   "id": "b91bce77c915d3b6",
   "outputs": [
    {
     "data": {
      "text/plain": [
       "'@company_name:{APPLE INC}'"
      ]
     },
     "execution_count": 13,
     "metadata": {},
     "output_type": "execute_result"
    }
   ],
   "execution_count": 13
  },
  {
   "metadata": {},
   "cell_type": "markdown",
   "source": [
    "## Putting it all together:  build your RAG logic inside a Graph\n",
    "Now that we have all the components for our RAG logic we will connect them through a graph."
   ],
   "id": "89c2fc571ea60f6c"
  },
  {
   "metadata": {
    "ExecuteTime": {
     "end_time": "2024-06-17T19:23:22.539915Z",
     "start_time": "2024-06-17T19:23:22.534793Z"
    }
   },
   "cell_type": "code",
   "source": [
    "from langchain_core.prompts import PromptTemplate\n",
    "from typing import Annotated, TypedDict, Union, Sequence, List\n",
    "from langchain.agents import create_react_agent\n",
    "from langchain_community.chat_models import ChatOllama\n",
    "\n",
    "class AgentState(TypedDict):\n",
    "    input: str\n",
    "    filters : str\n",
    "    question_relevancy: str\n",
    "    question_class: str\n",
    "    question_type: str\n",
    "    alternate_question: str\n",
    "    question_note: str\n",
    "    rewrite_num: int\n",
    "    generation: str\n",
    "    documents: List[str]\n"
   ],
   "id": "8f03f9e92f8596f6",
   "outputs": [],
   "execution_count": 60
  },
  {
   "metadata": {
    "ExecuteTime": {
     "end_time": "2024-06-17T19:23:23.309828Z",
     "start_time": "2024-06-17T19:23:23.297705Z"
    }
   },
   "cell_type": "code",
   "source": [
    "import json\n",
    "from langchain_core.documents import Document\n",
    "from typing import Literal\n",
    "\n",
    "MAX_RETRY_COUNT = 2\n",
    "MAX_TOKEN_LIMIT = 1000 #char\n",
    "TOP_DOC_LIMIT = 2 \n",
    "\n",
    "\n",
    "### Edges\n",
    "def check_retrieval_relevancy(state) -> Literal[\"generate\", \"rewrite\"]:\n",
    "    \"\"\"\n",
    "    Determines whether the retrieved documents are relevant to the question or not.\n",
    "\n",
    "    Args:\n",
    "        state (messages): The current state\n",
    "\n",
    "    Returns:\n",
    "        str: A decision for whether the documents are relevant or not\n",
    "    \"\"\"\n",
    "\n",
    "    \n",
    "    input = state[\"input\"]\n",
    "    documents = state[\"documents\"]\n",
    "    retries = state[\"rewrite_num\"]\n",
    "    \n",
    "    # Score each doc\n",
    "    filtered_docs = []\n",
    "    for d in documents:\n",
    "        score = my_retrieval_grader.invoke({\"input\": input, \"document\": d})\n",
    "        print(f\"score={score}\")\n",
    "        if isinstance(score, str):\n",
    "            print(\"score is str\")\n",
    "            score = json.loads(score)\n",
    "            \n",
    "        grade = score[\"score\"]\n",
    "        if grade == \"yes\":\n",
    "            print(\"---GRADE: DOCUMENT RELEVANT---\")\n",
    "            filtered_docs.append(d)\n",
    "        else:\n",
    "            print(\"---GRADE: DOCUMENT NOT RELEVANT---\")\n",
    "            continue\n",
    "    \n",
    "    if len(documents) - len(filtered_docs) > 2 :\n",
    "        return \"generate\"\n",
    "    elif retries < MAX_RETRY_COUNT:\n",
    "        return \"rewrite\"\n",
    "    elif retries >= MAX_RETRY_COUNT:\n",
    "        return \"generate\"\n",
    "    \n",
    "### Edges\n",
    "def check_question_relevancy(state) -> Literal[\"generate\", \"retrieve\"]:\n",
    "    \"\"\"\n",
    "    Determines whether the asked question is relevant to our domain and if retrieved documents are relevant to the question.\n",
    "\n",
    "    Args:\n",
    "        state (messages): The current state\n",
    "\n",
    "    Returns:\n",
    "        str: A decision for whether the documents are relevant or not\n",
    "    \"\"\"\n",
    "\n",
    "    \n",
    "    question_relevancy = state[\"question_relevancy\"]\n",
    "    if question_relevancy == 'not_relevant':\n",
    "        return \"generate\"\n",
    "    else:\n",
    "        return \"retrieve\"\n",
    "\n",
    "### Nodes\n",
    "\n",
    "def query_understanding(state):\n",
    "    \"\"\"\n",
    "    Analyzes the input query for better retrieval.\n",
    "\n",
    "    Args:\n",
    "        state (messages): The current state\n",
    "\n",
    "    Returns:\n",
    "        dict: The updated state with the result of query analysis\n",
    "    \"\"\"\n",
    "\n",
    "    print(\"--- QUERY Analysis ---\")\n",
    "    def combine_filters(inferred_filters, doc_type_filter=\"10K\", filter_strategy=\"AND\"):\n",
    "        if inferred_filters is None:\n",
    "            return \"@doc_type:{\"+f\"{doc_type_filter}\"+\"}\"\n",
    "        else:\n",
    "            return \"@doc_type:{\"+f\"{doc_type_filter}\"+\"} \" + filter_strategy +f\" ({inferred_filters})\"\n",
    "            \n",
    "        \n",
    "    question = state[\"input\"]\n",
    "    rewrite_num = state[\"rewrite_num\"]\n",
    "    if rewrite_num is None:\n",
    "        rewrite_num = 1\n",
    "    else:\n",
    "        rewrite_num = int(state[\"rewrite_num\"]) + 1\n",
    "    \n",
    "    q_filters = custom_redis_query_translator(question)\n",
    "    question_analysis = my_question_analyzer.invoke({\"question\": question})\n",
    "    print(f\"---QUERY rewrite---question_analysis={question_analysis}\")\n",
    "    question_class = question_analysis[\"question_class\"]\n",
    "    \n",
    "    if question_class != \"None\":\n",
    "        print(f\"---Question Class: Question is Related to {question_class}---\")\n",
    "        applied_filters = combine_filters(q_filters, doc_type_filter=question_class)\n",
    "    else:\n",
    "        applied_filters = combine_filters(q_filters)\n",
    "        \n",
    "    new_question = question_analysis[\"new_question\"]   \n",
    "    \n",
    "    if new_question != \"None\":\n",
    "        print(f\"---Question Analysis: alternate_question is {new_question}---\")\n",
    "        alternate_question = new_question\n",
    "    else:\n",
    "        alternate_question = None\n",
    "    \n",
    "    question_note = None    \n",
    "    if question_analysis.get('note') is not None:\n",
    "        question_note = question_analysis['note']\n",
    "        \n",
    "        \n",
    "    return {\"filters\": applied_filters, \n",
    "            \"question_class\": question_class, \n",
    "            \"question_type\": question_analysis[\"question_type\"],\n",
    "            \"question_relevancy\": question_analysis[\"question_relevancy\"],\n",
    "            \"alternate_question\": alternate_question,\n",
    "            \"question_note\": question_note,\n",
    "            \"rewrite_num\": rewrite_num\n",
    "            }\n",
    "\n",
    "from langchain.schema import Document\n",
    "\n",
    "def redis_retriever(state):\n",
    "    \"\"\"\n",
    "    Retrieve documents from Redis.\n",
    "\n",
    "    Args:\n",
    "        state (dict): The current graph state\n",
    "\n",
    "    Returns:\n",
    "        state (dict): New key added to state, documents, that contains retrieved documents\n",
    "    \"\"\"\n",
    "    print(\"---RETRIEVE FROM REDIS---\")\n",
    "    input = state[\"input\"]\n",
    "    alternate_question = state[\"alternate_question\"]\n",
    "    retries = state[\"rewrite_num\"]\n",
    "    filters = state[\"filters\"]\n",
    "    query = input\n",
    "    print(f\"\\t---RETRIEVE FROM REDIS= query={input} alternate_question={alternate_question}- retries={retries}\")\n",
    "    if alternate_question is not None and retries > 1:\n",
    "        query = alternate_question    \n",
    "     \n",
    "    if filters is None:\n",
    "        documents = rds.similarity_search(query=query, k=4, distance_threshold=0.8)\n",
    "    else:\n",
    "        documents = rds.similarity_search(query=query, k=4, distance_threshold=0.8, filter=filters)\n",
    "        \n",
    "    return {\"documents\": documents}\n",
    "\n",
    "    \n",
    "def generate(state):\n",
    "    \"\"\"\n",
    "    Generate answer\n",
    "\n",
    "    Args:\n",
    "        state (messages): The current state\n",
    "\n",
    "    Returns:\n",
    "         dict: The updated state with re-phrased question\n",
    "    \"\"\"\n",
    "    \n",
    "    print(\"---GENERATE---\")\n",
    "    final_docs = state[\"documents\"]\n",
    "    final_question = state[\"input\"]\n",
    "    question_relevancy = state[\"question_relevancy\"]\n",
    "    note = None\n",
    "    if state.get('note') is None:\n",
    "        note =state[\"question_note\"]\n",
    "    \n",
    "    final_context = \"\"\n",
    "    if question_relevancy == \"not_relevant\":\n",
    "        final_context = f\"Your question does not seem to be relevant to finance. Please only ask questions that are relevant to financials of companies that are usually reported in 10K or earning calls.\"\n",
    "        if note is not None:\n",
    "            final_context = final_context + f\"\\n\\n{note}\"\n",
    "    elif question_relevancy == \"relevant\" and final_docs is not None and len(final_docs) > 0:\n",
    "        final_context = str(\"\\n\".join(format_docs(final_docs[:TOP_DOC_LIMIT])))[:MAX_TOKEN_LIMIT]\n",
    "       \n",
    "    print(f\"DEBUG:GENERATE === question={final_question}\")\n",
    "    print(f\"DEBUG:GENERATE === context={final_context}\")\n",
    "    \n",
    "    # Run Gen LLM\n",
    "    generated_answer = my_gen_rag_chain.invoke({\"context\": final_context, \"question\": final_question})\n",
    "    \n",
    "    print(f\"RFD-DEBUG:GENERATE=== generation={generated_answer}\")\n",
    "    return {\"messages\": [generated_answer], \"generation\": generated_answer}"
   ],
   "id": "993ba7ced09fdc22",
   "outputs": [],
   "execution_count": 61
  },
  {
   "metadata": {
    "ExecuteTime": {
     "end_time": "2024-06-17T19:23:25.109986Z",
     "start_time": "2024-06-17T19:23:24.164238Z"
    }
   },
   "cell_type": "code",
   "source": [
    "from langgraph.graph import END, StateGraph\n",
    "\n",
    "workflow = StateGraph(AgentState)\n",
    "\n",
    "workflow.add_node(\"query_understanding_node\", query_understanding)\n",
    "workflow.add_node(\"redis_retriever_node\", redis_retriever)\n",
    "workflow.add_node(\"generate_node\", generate)\n",
    "\n",
    "# Decide whether to retrieve\n",
    "workflow.add_conditional_edges(\n",
    "    \"redis_retriever_node\",\n",
    "    check_retrieval_relevancy,\n",
    "    {\n",
    "        # Translate the condition outputs to nodes in our graph\n",
    "        \"rewrite\": \"query_understanding_node\",\n",
    "        \"generate\": \"generate_node\",\n",
    "    },\n",
    ")\n",
    "\n",
    "\n",
    "workflow.add_conditional_edges(\n",
    "    \"query_understanding_node\",\n",
    "    check_question_relevancy,\n",
    "    {\n",
    "        # Translate the condition outputs to nodes in our graph\n",
    "        \"retrieve\": \"redis_retriever_node\",\n",
    "        \"generate\": \"generate_node\",\n",
    "    },\n",
    ")\n",
    "\n",
    "\n",
    "workflow.add_edge(\"generate_node\", END)\n",
    "\n",
    "workflow.set_entry_point(\"query_understanding_node\")\n",
    "\n",
    "# Compile\n",
    "graphapp = workflow.compile()\n",
    "\n",
    "from IPython.display import Image, display\n",
    "try:\n",
    "    display(Image(graphapp.get_graph(xray=True).draw_mermaid_png()))\n",
    "except:\n",
    "    pass\n"
   ],
   "id": "b2acd602638ce906",
   "outputs": [
    {
     "data": {
      "image/jpeg": "[encoded data removed]",
      "text/plain": [
       "<IPython.core.display.Image object>"
      ]
     },
     "metadata": {},
     "output_type": "display_data"
    }
   ],
   "execution_count": 62
  },
  {
   "metadata": {
    "ExecuteTime": {
     "end_time": "2024-06-17T19:25:12.910129Z",
     "start_time": "2024-06-17T19:23:26.055153Z"
    }
   },
   "cell_type": "code",
   "source": [
    "import pprint\n",
    "\n",
    "inputs = {\n",
    "    \"input\":\"What was the deferred revenue of aapl in 2022?\",\n",
    "}\n",
    "for output in graphapp.stream(inputs):\n",
    "    for key, value in output.items():\n",
    "        pprint.pprint(f\"Output from node '{key}':\")\n",
    "        pprint.pprint(\"---\")\n",
    "        pprint.pprint(value, indent=2, width=80, depth=None)\n",
    "    pprint.pprint(\"\\n---\\n\")"
   ],
   "id": "7823529303b98dfd",
   "outputs": [
    {
     "name": "stdout",
     "output_type": "stream",
     "text": [
      "--- QUERY Analysis ---\n",
      "---QUERY rewrite---question_analysis={'question_class': '10K', 'new_question': 'What is the deferred revenue reported by AAPL in their 2022 annual report?', 'question_type': 'numeric', 'question_relevancy': 'relevant'}\n",
      "---Question Class: Question is Related to 10K---\n",
      "---Question Analysis: alternate_question is What is the deferred revenue reported by AAPL in their 2022 annual report?---\n",
      "\"Output from node 'query_understanding_node':\"\n",
      "'---'\n",
      "{ 'alternate_question': 'What is the deferred revenue reported by AAPL in '\n",
      "                        'their 2022 annual report?',\n",
      "  'filters': '@doc_type:{10K} AND (@ticker:{AAPL})',\n",
      "  'question_class': '10K',\n",
      "  'question_note': None,\n",
      "  'question_relevancy': 'relevant',\n",
      "  'question_type': 'numeric',\n",
      "  'rewrite_num': 1}\n",
      "'\\n---\\n'\n",
      "---RETRIEVE FROM REDIS---\n",
      "\t---RETRIEVE FROM REDIS= query=What was the deferred revenue of aapl in 2022? alternate_question=What is the deferred revenue reported by AAPL in their 2022 annual report?- retries=1\n",
      "---GRADE: DOCUMENT RELEVANT---\n",
      "---GRADE: DOCUMENT RELEVANT---\n",
      "---GRADE: DOCUMENT NOT RELEVANT---\n",
      "---GRADE: DOCUMENT NOT RELEVANT---\n",
      "\"Output from node 'redis_retriever_node':\"\n",
      "'---'\n",
      "{ 'documents': [ Document(page_content='The Company’s proportion of net sales by disaggregated revenue source was generally consistent for each reportable segment in Note 11, “Segment Information and Geographic Data” for 2022, 2021 and 2020, except in Greater China, where iPhone revenue represented a moderately higher proportion of net sales in 2022 and 2021.\\n\\nAs of September 24, 2022 and September 25, 2021, the Company had total deferred revenue of $12.4 billion and $11.9 billion, respectively. As of September 24, 2022, the Company expects 64% of total deferred revenue to be realized in less than a year, 27% within one-to-two years, 7% within two-to-three years and 2% in greater than three years.\\n\\nApple Inc. | 2022 Form 10-K | 37\\n\\n2020\\n\\n137,781 28,622 23,724 30,620 53,768 274,515\\n\\nNote 3 – Financial Instruments\\n\\nCash, Cash Equivalents and Marketable Securities\\n\\nThe following tables show the Company’s cash, cash equivalents and marketable securities by significant investment category as of September 24, 2022 and September 25, 2021 (in millions):\\n\\n2022\\n\\nAdjusted Cost\\n\\nUnrealized Gains\\n\\nUnrealized Losses\\n\\nFair Value\\n\\nCash and Cash Equivalents\\n\\nCurrent Marketable Securities\\n\\nCash\\n\\n$\\n\\n18,546 $\\n\\n— $\\n\\n— $\\n\\n18,546 $\\n\\n18,546 $\\n\\n— $\\n\\nLevel 1\\n\\n(1) :\\n\\nMoney market funds Mutual funds Subtotal (2) :\\n\\nLevel 2\\n\\n2,929 274\\n\\n3,203\\n\\n— —\\n\\n—\\n\\n— (47)\\n\\n(47)\\n\\n2,929 227\\n\\n3,156\\n\\n2,929 —\\n\\n2,929\\n\\n— 227\\n\\n227\\n\\nU.S. Treasury securities U.S. agency securities Non-U.S. government securities Certificates of deposit and time\\n\\n25,134 5,823 16,948\\n\\n— — 2\\n\\n(1,725) (655) (1,201)\\n\\n23,409 5,168 15,749\\n\\n338 — —\\n\\n5,091 240 8,806\\n\\ndeposits\\n\\nCommercial paper Corporate debt securities Municipal securities Mortgage- and asset-backed\\n\\n2,067 718 87,148 921\\n\\n— — 9 —\\n\\n— — (7,707) (35)\\n\\n2,067 718 79,450 886\\n\\n1,805 28 — —\\n\\n262 690 9,023 266\\n\\nsecurities Subtotal\\n\\n22,553\\n\\n161,312\\n\\n—\\n\\n11\\n\\n(2,593)\\n\\n(13,916)\\n\\n19,960\\n\\n147,407\\n\\n—\\n\\n2,171\\n\\n53\\n\\n24,431\\n\\nTotal\\n\\n(3)\\n\\n$ 183,061 $\\n\\n11 $\\n\\n(13,963) $ 169,109 $\\n\\n23,646 $\\n\\n24,658 $\\n\\n2021\\n\\nCash\\n\\n$\\n\\nAdjusted Cost 17,305 $\\n\\nUnrealized Gains\\n\\n— $\\n\\nUnrealized Losses\\n\\n— $\\n\\nFair Value\\n\\n17,305 $\\n\\nCash and Cash Equivalents\\n\\n17,305 $\\n\\nCurrent Marketable Securities\\n\\n— $\\n\\nLevel 1\\n\\n(1) :\\n\\nMoney market funds Mutual funds Subtotal (2) : Equity securities U.S. Treasury securities U.S. agency securities Non-U.S. government securities Certificates of deposit and time\\n\\nLevel 2\\n\\n9,608 175\\n\\n9,783\\n\\n1,527 22,878 8,949 20,201\\n\\n— 11\\n\\n11\\n\\n— 102 2 211\\n\\n— (1)\\n\\n(1)\\n\\n(564) (77) (64) (101)\\n\\n9,608 185\\n\\n9,793\\n\\n963 22,903 8,887 20,311\\n\\n9,608 —', metadata={'id': 'chunk:AAPL-2022-10K.pdf-625372c7-2d11-4723-a3b3-27e3b2dd5f73', 'chunk_id': 'AAPL-2022-10K.pdf-625372c7-2d11-4723-a3b3-27e3b2dd5f73', 'source_doc': 'AAPL-2022-10K.pdf', 'doc_type': '10K', 'ticker': 'AAPL', 'company_name': 'APPLE INC', 'sector': 'Information Technology', 'asset_class': 'Equity', 'location': 'United States', 'exchange': 'NASDAQ', 'currency': 'USD', 'market_value': '559365151.11', 'weight': '5.16', 'notional_value': '559365151.11', 'shares': '4305127', 'price': '129.93'}),\n",
      "                 Document(page_content='As of September 30, 2023 and September 24, 2022, the Company had total deferred revenue of $12.1 billion and $12.4 billion, respectively. As of September 30, 2023, the Company expects 67% of total deferred revenue to be realized in less than a year, 25% within one-to-two years, 7% within two-to-three years and 1% in greater than three years.\\n\\nNote 3 – Earnings Per Share\\n\\nThe following table shows the computation of basic and diluted earnings per share for 2023, 2022 and 2021 (net income in millions and shares in thousands):\\n\\n2023\\n\\n2022\\n\\n2021\\n\\nNumerator:\\n\\nNet income\\n\\n$\\n\\n96,995 $\\n\\n99,803 $\\n\\n94,680\\n\\nDenominator:\\n\\nWeighted-average basic shares outstanding Eﬀect of dilutive share-based awards Weighted-average diluted shares\\n\\n15,744,231 68,316 15,812,547\\n\\n16,215,963 109,856 16,325,819\\n\\n16,701,272 163,647 16,864,919\\n\\nBasic earnings per share Diluted earnings per share\\n\\n$ $\\n\\n6.16 $ 6.13 $\\n\\n6.15 $ 6.11 $\\n\\n5.67 5.61\\n\\nApproximately 24 million restricted stock units (“RSUs”) were excluded from the computation of diluted earnings per share for 2023 because their eﬀect would have been antidilutive.\\n\\nApple Inc. | 2023 Form 10-K | 35\\n\\nNote 4 – Financial Instruments\\n\\nCash, Cash Equivalents and Marketable Securities\\n\\nThe following tables show the Company’s cash, cash equivalents and marketable securities by signiﬁcant investment category as of September 30, 2023 and September 24, 2022 (in millions):\\n\\n2023\\n\\nCash Level 1:\\n\\nAdjusted Cost\\n\\n$ 28,359 $\\n\\nUnrealized Gains\\n\\nUnrealized Losses\\n\\nFair Value — $ 28,359 $\\n\\n— $\\n\\nCash and Cash Equivalents\\n\\nCurrent Marketable Securities\\n\\nNon-Current Marketable Securities\\n\\n28,359 $\\n\\n— $\\n\\n—\\n\\nMoney market funds Mutual funds and equity securities\\n\\n481\\n\\n442\\n\\n—\\n\\n12\\n\\n—\\n\\n(26)\\n\\n481\\n\\n428\\n\\n481\\n\\n—\\n\\n—\\n\\n428\\n\\n—\\n\\n—\\n\\nSubtotal (1)\\n\\nLevel 2\\n\\n:\\n\\n923\\n\\n12\\n\\n(26)\\n\\n909\\n\\n481\\n\\n428\\n\\n—\\n\\nU.S. Treasury securities U.S. agency securities Non-U.S. government securities Certiﬁcates of deposit and time deposits Commercial paper Corporate debt securities Municipal securities Mortgage- and asset-backed securities\\n\\n19,406 5,736\\n\\n17,533\\n\\n1,354 608 76,840 628\\n\\n— —\\n\\n6\\n\\n— — 6 —\\n\\n(1,292) (600)\\n\\n(1,048)\\n\\n— — (5,956) (26)\\n\\n18,114 5,136\\n\\n16,491\\n\\n1,354 608 70,890 602\\n\\n35 36\\n\\n—\\n\\n1,034 — 20 —\\n\\n5,468 271\\n\\n11,332\\n\\n320 608 12,627 192\\n\\n12,611 4,829\\n\\n5,159\\n\\n— — 58,243 410\\n\\n22,365\\n\\n6\\n\\n(2,735)\\n\\n19,636\\n\\n—\\n\\n344\\n\\n19,292\\n\\nSubtotal\\n\\nTotal\\n\\n(2)\\n\\n144,470 $ 173,752 $\\n\\n18 30 $ (11,683) $ 162,099 $\\n\\n(11,657)\\n\\n132,831\\n\\n1,125\\n\\n29,965 $\\n\\n31,162 31,590 $\\n\\n100,544 100,544\\n\\n2022\\n\\nAdjusted Cost\\n\\nUnrealized Gains', metadata={'id': 'chunk:AAPL-2023-10K.pdf-b381cf43-979b-4ecd-8f67-73e6f8a37112', 'chunk_id': 'AAPL-2023-10K.pdf-b381cf43-979b-4ecd-8f67-73e6f8a37112', 'source_doc': 'AAPL-2023-10K.pdf', 'doc_type': '10K', 'ticker': 'AAPL', 'company_name': 'APPLE INC', 'sector': 'Information Technology', 'asset_class': 'Equity', 'location': 'United States', 'exchange': 'NASDAQ', 'currency': 'USD', 'market_value': '559365151.11', 'weight': '5.16', 'notional_value': '559365151.11', 'shares': '4305127', 'price': '129.93'}),\n",
      "                 Document(page_content='Research and Development\\n\\nThe year-over-year growth in R&D expense in 2022 was driven primarily by increases in headcount-related expenses and engineering program costs.\\n\\nSelling, General and Administrative\\n\\nThe year-over-year growth in selling, general and administrative expense in 2022 was driven primarily by increases in headcount- related expenses, advertising and professional services.\\n\\nApple Inc. | 2022 Form 10-K | 23\\n\\n2020\\n\\n69,461 35,495 104,956\\n\\n31.5 % 66.0 % 38.2 %\\n\\n2020 18,752\\n\\n7 %\\n\\n19,916\\n\\n7 %\\n\\n38,668\\n\\n14 %\\n\\nOther Income/(Expense), Net\\n\\nOther income/(expense), net (“OI&E”) for 2022, 2021 and 2020 was as follows (dollars in millions):\\n\\n2022\\n\\nChange\\n\\n2021\\n\\nChange\\n\\nInterest and dividend income Interest expense Other income/(expense), net\\n\\nTotal other income/(expense), net\\n\\n$\\n\\n$\\n\\n2,825 (2,931) (228) (334)\\n\\n$\\n\\n(229)% $\\n\\n2,843 (2,645) 60 258\\n\\n$\\n\\n(68)% $\\n\\nThe decrease in OI&E during 2022 compared to 2021 was due primarily to higher realized losses on debt securities, unfavorable fair value adjustments on equity securities and higher interest expense, partially offset by higher foreign exchange gains.\\n\\nProvision for Income Taxes\\n\\nProvision for income taxes, effective tax rate and statutory federal income tax rate for 2022, 2021 and 2020 were as follows (dollars in millions):\\n\\n2022\\n\\n2021\\n\\nProvision for income taxes Effective tax rate Statutory federal income tax rate\\n\\n$\\n\\n19,300\\n\\n16.2 % 21 %\\n\\n$\\n\\n14,527\\n\\n13.3 % 21 %\\n\\n$\\n\\nThe Company’s effective tax rate for 2022 was lower than the statutory federal income tax rate due primarily to a lower effective tax rate on foreign earnings, tax benefits from share-based compensation and the impact of the U.S. federal R&D credit, partially offset by state income taxes. The Company’s effective tax rate for 2021 was lower than the statutory federal income tax rate due primarily to a lower effective tax rate on foreign earnings, tax benefits from share-based compensation and foreign-derived intangible income deductions.\\n\\nThe Company’s effective tax rate for 2022 was higher compared to 2021 due primarily to a higher effective tax rate on foreign earnings, including the impact to U.S. foreign tax credits as a result of regulatory guidance issued by the U.S. Department of the Treasury in 2022, and lower tax benefits from foreign-derived intangible income deductions and share-based compensation.\\n\\nLiquidity and Capital Resources', metadata={'id': 'chunk:AAPL-2022-10K.pdf-03d39297-9068-43a2-8894-77c18164d6ed', 'chunk_id': 'AAPL-2022-10K.pdf-03d39297-9068-43a2-8894-77c18164d6ed', 'source_doc': 'AAPL-2022-10K.pdf', 'doc_type': '10K', 'ticker': 'AAPL', 'company_name': 'APPLE INC', 'sector': 'Information Technology', 'asset_class': 'Equity', 'location': 'United States', 'exchange': 'NASDAQ', 'currency': 'USD', 'market_value': '559365151.11', 'weight': '5.16', 'notional_value': '559365151.11', 'shares': '4305127', 'price': '129.93'}),\n",
      "                 Document(page_content='Includes $6.7 billion of revenue recognized in 2021 that was included in deferred revenue as of September 26, 2020, $5.0 billion of revenue recognized in 2020 that was included in deferred revenue as of September 28, 2019, and $5.9 billion of revenue recognized in 2019 that was included in deferred revenue as of September 29, 2018.\\n\\nThe Company’s proportion of net sales by disaggregated revenue source was generally consistent for each reportable segment in Note 11, “Segment Information and Geographic Data” for 2021, 2020 and 2019.\\n\\nApple Inc. | 2021 Form 10-K | 37\\n\\n2019\\n\\n142,381 25,740 21,280 24,482 46,291 260,174\\n\\nNote 3 – Financial Instruments\\n\\nCash, Cash Equivalents and Marketable Securities\\n\\nThe following tables show the Company’s cash, cash equivalents and marketable securities by significant investment category as of September 25, 2021 and September 26, 2020 (in millions):\\n\\n2021\\n\\nAdjusted Cost\\n\\nUnrealized Gains\\n\\nUnrealized Losses\\n\\nFair Value\\n\\nCash and Cash Equivalents\\n\\nCurrent Marketable Securities\\n\\nCash\\n\\n$\\n\\n17,305 $\\n\\n— $\\n\\n— $\\n\\n17,305 $\\n\\n17,305 $\\n\\n— $\\n\\nLevel 1\\n\\n(1) :\\n\\nMoney market funds Mutual funds Subtotal (2) : Equity securities U.S. Treasury securities U.S. agency securities Non-U.S. government securities Certificates of deposit and time\\n\\nLevel 2\\n\\n9,608 175\\n\\n9,783\\n\\n1,527 22,878 8,949 20,201\\n\\n— 11\\n\\n11\\n\\n— 102 2 211\\n\\n— (1)\\n\\n(1)\\n\\n(564) (77) (64) (101)\\n\\n9,608 185\\n\\n9,793\\n\\n963 22,903 8,887 20,311\\n\\n9,608 —\\n\\n9,608\\n\\n— 3,596 1,775 390\\n\\n— 185\\n\\n185\\n\\n963 6,625 1,930 3,091\\n\\ndeposits\\n\\nCommercial paper Corporate debt securities Municipal securities Mortgage- and asset-backed\\n\\n1,300 2,639 83,883 967\\n\\n— — 1,242 14\\n\\n— — (267) —\\n\\n1,300 2,639 84,858 981\\n\\n490 1,776 — —\\n\\n810 863 12,327 130\\n\\nsecurities Subtotal\\n\\n20,529\\n\\n162,873\\n\\n171\\n\\n1,742\\n\\n(124)\\n\\n(1,197)\\n\\n20,576\\n\\n163,418\\n\\n—\\n\\n8,027\\n\\n775\\n\\n27,514\\n\\nTotal\\n\\n(3)\\n\\n$ 189,961 $\\n\\n1,753 $\\n\\n(1,198) $ 190,516 $\\n\\n34,940 $\\n\\n27,699 $\\n\\n2020\\n\\nCash\\n\\nLevel 1 Level 2\\n\\n(1)\\n\\n: Money market funds (2) :\\n\\n$\\n\\nAdjusted Cost 17,773 $ 2,171\\n\\nUnrealized Gains\\n\\n— $ —\\n\\nUnrealized Losses\\n\\n— $ —\\n\\nFair Value\\n\\n17,773 $ 2,171\\n\\nCash and Cash Equivalents\\n\\n17,773 $ 2,171\\n\\nCurrent Marketable Securities\\n\\n— $ —\\n\\nU.S. Treasury securities U.S. agency securities Non-U.S. government securities Certificates of deposit and time\\n\\n28,439 8,604 19,361\\n\\n331 8 275\\n\\n— — (186)\\n\\n28,770 8,612 19,450\\n\\n8,580 2,009 255\\n\\n11,972 3,078 3,329\\n\\ndeposits\\n\\nCommercial paper Corporate debt securities Municipal securities Mortgage- and asset-backed\\n\\n10,399 11,226 76,937 1,001\\n\\n— — 1,834 22', metadata={'id': 'chunk:AAPL-2021-10K.pdf-644770a9-d787-4226-b124-b4ed6c0e99cc', 'chunk_id': 'AAPL-2021-10K.pdf-644770a9-d787-4226-b124-b4ed6c0e99cc', 'source_doc': 'AAPL-2021-10K.pdf', 'doc_type': '10K', 'ticker': 'AAPL', 'company_name': 'APPLE INC', 'sector': 'Information Technology', 'asset_class': 'Equity', 'location': 'United States', 'exchange': 'NASDAQ', 'currency': 'USD', 'market_value': '559365151.11', 'weight': '5.16', 'notional_value': '559365151.11', 'shares': '4305127', 'price': '129.93'})]}\n",
      "'\\n---\\n'\n",
      "--- QUERY Analysis ---\n",
      "---QUERY rewrite---question_analysis={'question_class': '10K', 'new_question': 'What is the deferred revenue reported by AAPL in their 2022 annual report?', 'question_type': 'numeric', 'question_relevancy': 'relevant'}\n",
      "---Question Class: Question is Related to 10K---\n",
      "---Question Analysis: alternate_question is What is the deferred revenue reported by AAPL in their 2022 annual report?---\n",
      "\"Output from node 'query_understanding_node':\"\n",
      "'---'\n",
      "{ 'alternate_question': 'What is the deferred revenue reported by AAPL in '\n",
      "                        'their 2022 annual report?',\n",
      "  'filters': '@doc_type:{10K} AND (@ticker:{AAPL})',\n",
      "  'question_class': '10K',\n",
      "  'question_note': None,\n",
      "  'question_relevancy': 'relevant',\n",
      "  'question_type': 'numeric',\n",
      "  'rewrite_num': 2}\n",
      "'\\n---\\n'\n",
      "---RETRIEVE FROM REDIS---\n",
      "\t---RETRIEVE FROM REDIS= query=What was the deferred revenue of aapl in 2022? alternate_question=What is the deferred revenue reported by AAPL in their 2022 annual report?- retries=2\n",
      "---GRADE: DOCUMENT RELEVANT---\n",
      "---GRADE: DOCUMENT RELEVANT---\n",
      "---GRADE: DOCUMENT NOT RELEVANT---\n",
      "---GRADE: DOCUMENT NOT RELEVANT---\n",
      "\"Output from node 'redis_retriever_node':\"\n",
      "'---'\n",
      "{ 'documents': [ Document(page_content='The Company’s proportion of net sales by disaggregated revenue source was generally consistent for each reportable segment in Note 11, “Segment Information and Geographic Data” for 2022, 2021 and 2020, except in Greater China, where iPhone revenue represented a moderately higher proportion of net sales in 2022 and 2021.\\n\\nAs of September 24, 2022 and September 25, 2021, the Company had total deferred revenue of $12.4 billion and $11.9 billion, respectively. As of September 24, 2022, the Company expects 64% of total deferred revenue to be realized in less than a year, 27% within one-to-two years, 7% within two-to-three years and 2% in greater than three years.\\n\\nApple Inc. | 2022 Form 10-K | 37\\n\\n2020\\n\\n137,781 28,622 23,724 30,620 53,768 274,515\\n\\nNote 3 – Financial Instruments\\n\\nCash, Cash Equivalents and Marketable Securities\\n\\nThe following tables show the Company’s cash, cash equivalents and marketable securities by significant investment category as of September 24, 2022 and September 25, 2021 (in millions):\\n\\n2022\\n\\nAdjusted Cost\\n\\nUnrealized Gains\\n\\nUnrealized Losses\\n\\nFair Value\\n\\nCash and Cash Equivalents\\n\\nCurrent Marketable Securities\\n\\nCash\\n\\n$\\n\\n18,546 $\\n\\n— $\\n\\n— $\\n\\n18,546 $\\n\\n18,546 $\\n\\n— $\\n\\nLevel 1\\n\\n(1) :\\n\\nMoney market funds Mutual funds Subtotal (2) :\\n\\nLevel 2\\n\\n2,929 274\\n\\n3,203\\n\\n— —\\n\\n—\\n\\n— (47)\\n\\n(47)\\n\\n2,929 227\\n\\n3,156\\n\\n2,929 —\\n\\n2,929\\n\\n— 227\\n\\n227\\n\\nU.S. Treasury securities U.S. agency securities Non-U.S. government securities Certificates of deposit and time\\n\\n25,134 5,823 16,948\\n\\n— — 2\\n\\n(1,725) (655) (1,201)\\n\\n23,409 5,168 15,749\\n\\n338 — —\\n\\n5,091 240 8,806\\n\\ndeposits\\n\\nCommercial paper Corporate debt securities Municipal securities Mortgage- and asset-backed\\n\\n2,067 718 87,148 921\\n\\n— — 9 —\\n\\n— — (7,707) (35)\\n\\n2,067 718 79,450 886\\n\\n1,805 28 — —\\n\\n262 690 9,023 266\\n\\nsecurities Subtotal\\n\\n22,553\\n\\n161,312\\n\\n—\\n\\n11\\n\\n(2,593)\\n\\n(13,916)\\n\\n19,960\\n\\n147,407\\n\\n—\\n\\n2,171\\n\\n53\\n\\n24,431\\n\\nTotal\\n\\n(3)\\n\\n$ 183,061 $\\n\\n11 $\\n\\n(13,963) $ 169,109 $\\n\\n23,646 $\\n\\n24,658 $\\n\\n2021\\n\\nCash\\n\\n$\\n\\nAdjusted Cost 17,305 $\\n\\nUnrealized Gains\\n\\n— $\\n\\nUnrealized Losses\\n\\n— $\\n\\nFair Value\\n\\n17,305 $\\n\\nCash and Cash Equivalents\\n\\n17,305 $\\n\\nCurrent Marketable Securities\\n\\n— $\\n\\nLevel 1\\n\\n(1) :\\n\\nMoney market funds Mutual funds Subtotal (2) : Equity securities U.S. Treasury securities U.S. agency securities Non-U.S. government securities Certificates of deposit and time\\n\\nLevel 2\\n\\n9,608 175\\n\\n9,783\\n\\n1,527 22,878 8,949 20,201\\n\\n— 11\\n\\n11\\n\\n— 102 2 211\\n\\n— (1)\\n\\n(1)\\n\\n(564) (77) (64) (101)\\n\\n9,608 185\\n\\n9,793\\n\\n963 22,903 8,887 20,311\\n\\n9,608 —', metadata={'id': 'chunk:AAPL-2022-10K.pdf-625372c7-2d11-4723-a3b3-27e3b2dd5f73', 'chunk_id': 'AAPL-2022-10K.pdf-625372c7-2d11-4723-a3b3-27e3b2dd5f73', 'source_doc': 'AAPL-2022-10K.pdf', 'doc_type': '10K', 'ticker': 'AAPL', 'company_name': 'APPLE INC', 'sector': 'Information Technology', 'asset_class': 'Equity', 'location': 'United States', 'exchange': 'NASDAQ', 'currency': 'USD', 'market_value': '559365151.11', 'weight': '5.16', 'notional_value': '559365151.11', 'shares': '4305127', 'price': '129.93'}),\n",
      "                 Document(page_content='As of September 30, 2023 and September 24, 2022, the Company had total deferred revenue of $12.1 billion and $12.4 billion, respectively. As of September 30, 2023, the Company expects 67% of total deferred revenue to be realized in less than a year, 25% within one-to-two years, 7% within two-to-three years and 1% in greater than three years.\\n\\nNote 3 – Earnings Per Share\\n\\nThe following table shows the computation of basic and diluted earnings per share for 2023, 2022 and 2021 (net income in millions and shares in thousands):\\n\\n2023\\n\\n2022\\n\\n2021\\n\\nNumerator:\\n\\nNet income\\n\\n$\\n\\n96,995 $\\n\\n99,803 $\\n\\n94,680\\n\\nDenominator:\\n\\nWeighted-average basic shares outstanding Eﬀect of dilutive share-based awards Weighted-average diluted shares\\n\\n15,744,231 68,316 15,812,547\\n\\n16,215,963 109,856 16,325,819\\n\\n16,701,272 163,647 16,864,919\\n\\nBasic earnings per share Diluted earnings per share\\n\\n$ $\\n\\n6.16 $ 6.13 $\\n\\n6.15 $ 6.11 $\\n\\n5.67 5.61\\n\\nApproximately 24 million restricted stock units (“RSUs”) were excluded from the computation of diluted earnings per share for 2023 because their eﬀect would have been antidilutive.\\n\\nApple Inc. | 2023 Form 10-K | 35\\n\\nNote 4 – Financial Instruments\\n\\nCash, Cash Equivalents and Marketable Securities\\n\\nThe following tables show the Company’s cash, cash equivalents and marketable securities by signiﬁcant investment category as of September 30, 2023 and September 24, 2022 (in millions):\\n\\n2023\\n\\nCash Level 1:\\n\\nAdjusted Cost\\n\\n$ 28,359 $\\n\\nUnrealized Gains\\n\\nUnrealized Losses\\n\\nFair Value — $ 28,359 $\\n\\n— $\\n\\nCash and Cash Equivalents\\n\\nCurrent Marketable Securities\\n\\nNon-Current Marketable Securities\\n\\n28,359 $\\n\\n— $\\n\\n—\\n\\nMoney market funds Mutual funds and equity securities\\n\\n481\\n\\n442\\n\\n—\\n\\n12\\n\\n—\\n\\n(26)\\n\\n481\\n\\n428\\n\\n481\\n\\n—\\n\\n—\\n\\n428\\n\\n—\\n\\n—\\n\\nSubtotal (1)\\n\\nLevel 2\\n\\n:\\n\\n923\\n\\n12\\n\\n(26)\\n\\n909\\n\\n481\\n\\n428\\n\\n—\\n\\nU.S. Treasury securities U.S. agency securities Non-U.S. government securities Certiﬁcates of deposit and time deposits Commercial paper Corporate debt securities Municipal securities Mortgage- and asset-backed securities\\n\\n19,406 5,736\\n\\n17,533\\n\\n1,354 608 76,840 628\\n\\n— —\\n\\n6\\n\\n— — 6 —\\n\\n(1,292) (600)\\n\\n(1,048)\\n\\n— — (5,956) (26)\\n\\n18,114 5,136\\n\\n16,491\\n\\n1,354 608 70,890 602\\n\\n35 36\\n\\n—\\n\\n1,034 — 20 —\\n\\n5,468 271\\n\\n11,332\\n\\n320 608 12,627 192\\n\\n12,611 4,829\\n\\n5,159\\n\\n— — 58,243 410\\n\\n22,365\\n\\n6\\n\\n(2,735)\\n\\n19,636\\n\\n—\\n\\n344\\n\\n19,292\\n\\nSubtotal\\n\\nTotal\\n\\n(2)\\n\\n144,470 $ 173,752 $\\n\\n18 30 $ (11,683) $ 162,099 $\\n\\n(11,657)\\n\\n132,831\\n\\n1,125\\n\\n29,965 $\\n\\n31,162 31,590 $\\n\\n100,544 100,544\\n\\n2022\\n\\nAdjusted Cost\\n\\nUnrealized Gains', metadata={'id': 'chunk:AAPL-2023-10K.pdf-b381cf43-979b-4ecd-8f67-73e6f8a37112', 'chunk_id': 'AAPL-2023-10K.pdf-b381cf43-979b-4ecd-8f67-73e6f8a37112', 'source_doc': 'AAPL-2023-10K.pdf', 'doc_type': '10K', 'ticker': 'AAPL', 'company_name': 'APPLE INC', 'sector': 'Information Technology', 'asset_class': 'Equity', 'location': 'United States', 'exchange': 'NASDAQ', 'currency': 'USD', 'market_value': '559365151.11', 'weight': '5.16', 'notional_value': '559365151.11', 'shares': '4305127', 'price': '129.93'}),\n",
      "                 Document(page_content='Includes $6.7 billion of revenue recognized in 2021 that was included in deferred revenue as of September 26, 2020, $5.0 billion of revenue recognized in 2020 that was included in deferred revenue as of September 28, 2019, and $5.9 billion of revenue recognized in 2019 that was included in deferred revenue as of September 29, 2018.\\n\\nThe Company’s proportion of net sales by disaggregated revenue source was generally consistent for each reportable segment in Note 11, “Segment Information and Geographic Data” for 2021, 2020 and 2019.\\n\\nApple Inc. | 2021 Form 10-K | 37\\n\\n2019\\n\\n142,381 25,740 21,280 24,482 46,291 260,174\\n\\nNote 3 – Financial Instruments\\n\\nCash, Cash Equivalents and Marketable Securities\\n\\nThe following tables show the Company’s cash, cash equivalents and marketable securities by significant investment category as of September 25, 2021 and September 26, 2020 (in millions):\\n\\n2021\\n\\nAdjusted Cost\\n\\nUnrealized Gains\\n\\nUnrealized Losses\\n\\nFair Value\\n\\nCash and Cash Equivalents\\n\\nCurrent Marketable Securities\\n\\nCash\\n\\n$\\n\\n17,305 $\\n\\n— $\\n\\n— $\\n\\n17,305 $\\n\\n17,305 $\\n\\n— $\\n\\nLevel 1\\n\\n(1) :\\n\\nMoney market funds Mutual funds Subtotal (2) : Equity securities U.S. Treasury securities U.S. agency securities Non-U.S. government securities Certificates of deposit and time\\n\\nLevel 2\\n\\n9,608 175\\n\\n9,783\\n\\n1,527 22,878 8,949 20,201\\n\\n— 11\\n\\n11\\n\\n— 102 2 211\\n\\n— (1)\\n\\n(1)\\n\\n(564) (77) (64) (101)\\n\\n9,608 185\\n\\n9,793\\n\\n963 22,903 8,887 20,311\\n\\n9,608 —\\n\\n9,608\\n\\n— 3,596 1,775 390\\n\\n— 185\\n\\n185\\n\\n963 6,625 1,930 3,091\\n\\ndeposits\\n\\nCommercial paper Corporate debt securities Municipal securities Mortgage- and asset-backed\\n\\n1,300 2,639 83,883 967\\n\\n— — 1,242 14\\n\\n— — (267) —\\n\\n1,300 2,639 84,858 981\\n\\n490 1,776 — —\\n\\n810 863 12,327 130\\n\\nsecurities Subtotal\\n\\n20,529\\n\\n162,873\\n\\n171\\n\\n1,742\\n\\n(124)\\n\\n(1,197)\\n\\n20,576\\n\\n163,418\\n\\n—\\n\\n8,027\\n\\n775\\n\\n27,514\\n\\nTotal\\n\\n(3)\\n\\n$ 189,961 $\\n\\n1,753 $\\n\\n(1,198) $ 190,516 $\\n\\n34,940 $\\n\\n27,699 $\\n\\n2020\\n\\nCash\\n\\nLevel 1 Level 2\\n\\n(1)\\n\\n: Money market funds (2) :\\n\\n$\\n\\nAdjusted Cost 17,773 $ 2,171\\n\\nUnrealized Gains\\n\\n— $ —\\n\\nUnrealized Losses\\n\\n— $ —\\n\\nFair Value\\n\\n17,773 $ 2,171\\n\\nCash and Cash Equivalents\\n\\n17,773 $ 2,171\\n\\nCurrent Marketable Securities\\n\\n— $ —\\n\\nU.S. Treasury securities U.S. agency securities Non-U.S. government securities Certificates of deposit and time\\n\\n28,439 8,604 19,361\\n\\n331 8 275\\n\\n— — (186)\\n\\n28,770 8,612 19,450\\n\\n8,580 2,009 255\\n\\n11,972 3,078 3,329\\n\\ndeposits\\n\\nCommercial paper Corporate debt securities Municipal securities Mortgage- and asset-backed\\n\\n10,399 11,226 76,937 1,001\\n\\n— — 1,834 22', metadata={'id': 'chunk:AAPL-2021-10K.pdf-644770a9-d787-4226-b124-b4ed6c0e99cc', 'chunk_id': 'AAPL-2021-10K.pdf-644770a9-d787-4226-b124-b4ed6c0e99cc', 'source_doc': 'AAPL-2021-10K.pdf', 'doc_type': '10K', 'ticker': 'AAPL', 'company_name': 'APPLE INC', 'sector': 'Information Technology', 'asset_class': 'Equity', 'location': 'United States', 'exchange': 'NASDAQ', 'currency': 'USD', 'market_value': '559365151.11', 'weight': '5.16', 'notional_value': '559365151.11', 'shares': '4305127', 'price': '129.93'}),\n",
      "                 Document(page_content='Research and Development\\n\\nThe year-over-year growth in R&D expense in 2022 was driven primarily by increases in headcount-related expenses and engineering program costs.\\n\\nSelling, General and Administrative\\n\\nThe year-over-year growth in selling, general and administrative expense in 2022 was driven primarily by increases in headcount- related expenses, advertising and professional services.\\n\\nApple Inc. | 2022 Form 10-K | 23\\n\\n2020\\n\\n69,461 35,495 104,956\\n\\n31.5 % 66.0 % 38.2 %\\n\\n2020 18,752\\n\\n7 %\\n\\n19,916\\n\\n7 %\\n\\n38,668\\n\\n14 %\\n\\nOther Income/(Expense), Net\\n\\nOther income/(expense), net (“OI&E”) for 2022, 2021 and 2020 was as follows (dollars in millions):\\n\\n2022\\n\\nChange\\n\\n2021\\n\\nChange\\n\\nInterest and dividend income Interest expense Other income/(expense), net\\n\\nTotal other income/(expense), net\\n\\n$\\n\\n$\\n\\n2,825 (2,931) (228) (334)\\n\\n$\\n\\n(229)% $\\n\\n2,843 (2,645) 60 258\\n\\n$\\n\\n(68)% $\\n\\nThe decrease in OI&E during 2022 compared to 2021 was due primarily to higher realized losses on debt securities, unfavorable fair value adjustments on equity securities and higher interest expense, partially offset by higher foreign exchange gains.\\n\\nProvision for Income Taxes\\n\\nProvision for income taxes, effective tax rate and statutory federal income tax rate for 2022, 2021 and 2020 were as follows (dollars in millions):\\n\\n2022\\n\\n2021\\n\\nProvision for income taxes Effective tax rate Statutory federal income tax rate\\n\\n$\\n\\n19,300\\n\\n16.2 % 21 %\\n\\n$\\n\\n14,527\\n\\n13.3 % 21 %\\n\\n$\\n\\nThe Company’s effective tax rate for 2022 was lower than the statutory federal income tax rate due primarily to a lower effective tax rate on foreign earnings, tax benefits from share-based compensation and the impact of the U.S. federal R&D credit, partially offset by state income taxes. The Company’s effective tax rate for 2021 was lower than the statutory federal income tax rate due primarily to a lower effective tax rate on foreign earnings, tax benefits from share-based compensation and foreign-derived intangible income deductions.\\n\\nThe Company’s effective tax rate for 2022 was higher compared to 2021 due primarily to a higher effective tax rate on foreign earnings, including the impact to U.S. foreign tax credits as a result of regulatory guidance issued by the U.S. Department of the Treasury in 2022, and lower tax benefits from foreign-derived intangible income deductions and share-based compensation.\\n\\nLiquidity and Capital Resources', metadata={'id': 'chunk:AAPL-2022-10K.pdf-03d39297-9068-43a2-8894-77c18164d6ed', 'chunk_id': 'AAPL-2022-10K.pdf-03d39297-9068-43a2-8894-77c18164d6ed', 'source_doc': 'AAPL-2022-10K.pdf', 'doc_type': '10K', 'ticker': 'AAPL', 'company_name': 'APPLE INC', 'sector': 'Information Technology', 'asset_class': 'Equity', 'location': 'United States', 'exchange': 'NASDAQ', 'currency': 'USD', 'market_value': '559365151.11', 'weight': '5.16', 'notional_value': '559365151.11', 'shares': '4305127', 'price': '129.93'})]}\n",
      "'\\n---\\n'\n",
      "---GENERATE---\n",
      "DEBUG:GENERATE === question=What was the deferred revenue of aapl in 2022?\n",
      "DEBUG:GENERATE === context=The Company’s proportion of net sales by disaggregated revenue source was generally consistent for each reportable segment in Note 11, “Segment Information and Geographic Data” for 2022, 2021 and 2020, except in Greater China, where iPhone revenue represented a moderately higher proportion of net sales in 2022 and 2021.  As of September 24, 2022 and September 25, 2021, the Company had total deferred revenue of $12.4 billion and $11.9 billion, respectively. As of September 24, 2022, the Company expects 64% of total deferred revenue to be realized in less than a year, 27% within one-to-two years, 7% within two-to-three years and 2% in greater than three years.  Apple Inc. | 2022 Form 10-K | 37  2020  137,781 28,622 23,724 30,620 53,768 274,515  Note 3 – Financial Instruments  Cash, Cash Equivalents and Marketable Securities  The following tables show the Company’s cash, cash equivalents and marketable securities by significant investment category as of September 24, 2022 and September 25\n",
      "RFD-DEBUG:GENERATE=== generation=According to the provided context, Apple Inc.'s deferred revenue as of September 24, 2022 was $12.4 billion.\n",
      "\"Output from node 'generate_node':\"\n",
      "'---'\n",
      "{ 'generation': \"According to the provided context, Apple Inc.'s deferred \"\n",
      "                'revenue as of September 24, 2022 was $12.4 billion.'}\n",
      "'\\n---\\n'\n"
     ]
    }
   ],
   "execution_count": 63
  },
  {
   "metadata": {
    "ExecuteTime": {
     "end_time": "2024-06-17T19:28:13.974034Z",
     "start_time": "2024-06-17T19:27:51.925269Z"
    }
   },
   "cell_type": "code",
   "source": [
    "import pprint\n",
    "\n",
    "inputs2 = {\n",
    "    \"input\":\"Why colorless green ideas are furiously sleeping?\"\n",
    "}\n",
    "\n",
    "for output2 in graphapp.stream(inputs2):\n",
    "    for key2, value2 in output2.items():\n",
    "        pprint.pprint(f\"Output from node '{key2}':\")\n",
    "        pprint.pprint(\"---\")\n",
    "        pprint.pprint(value2, indent=2, width=80, depth=None)\n",
    "    pprint.pprint(\"\\n---\\n\")"
   ],
   "id": "34f4fb3c09949739",
   "outputs": [
    {
     "name": "stdout",
     "output_type": "stream",
     "text": [
      "--- QUERY Analysis ---\n",
      "---QUERY rewrite---question_analysis={'question_class': 'None', 'new_question': 'None', 'question_type': 'explain', 'question_relevancy': 'not_relevant', 'note': 'This question is not related to finance and does not have a clear answer. It appears to be a philosophical or linguistic puzzle.'}\n",
      "\"Output from node 'query_understanding_node':\"\n",
      "'---'\n",
      "{ 'alternate_question': None,\n",
      "  'filters': '@doc_type:{10K}',\n",
      "  'question_class': 'None',\n",
      "  'question_note': 'This question is not related to finance and does not have '\n",
      "                   'a clear answer. It appears to be a philosophical or '\n",
      "                   'linguistic puzzle.',\n",
      "  'question_relevancy': 'not_relevant',\n",
      "  'question_type': 'explain',\n",
      "  'rewrite_num': 1}\n",
      "'\\n---\\n'\n",
      "---GENERATE---\n",
      "DEBUG:GENERATE === question=Why colorless green ideas are furiously sleeping?\n",
      "DEBUG:GENERATE === context=Your question does not seem to be relevant to finance. Please only ask questions that are relevant to financials of companies that are usually reported in 10K or earning calls.\n",
      "\n",
      "This question is not related to finance and does not have a clear answer. It appears to be a philosophical or linguistic puzzle.\n",
      "RFD-DEBUG:GENERATE=== generation=I don't know the answer to this question as it's not related to finance and doesn't have a clear answer. The phrase \"colorless green ideas\" is actually a famous example of a sentence that is grammatically correct but semantically nonsensical, created by linguist Noam Chomsky. It's not meant to be taken literally or answered in the context of financials.\n",
      "\"Output from node 'generate_node':\"\n",
      "'---'\n",
      "{ 'generation': \"I don't know the answer to this question as it's not related \"\n",
      "                \"to finance and doesn't have a clear answer. The phrase \"\n",
      "                '\"colorless green ideas\" is actually a famous example of a '\n",
      "                'sentence that is grammatically correct but semantically '\n",
      "                \"nonsensical, created by linguist Noam Chomsky. It's not meant \"\n",
      "                'to be taken literally or answered in the context of '\n",
      "                'financials.'}\n",
      "'\\n---\\n'\n"
     ]
    }
   ],
   "execution_count": 64
  },
  {
   "metadata": {},
   "cell_type": "markdown",
   "source": "![furiously_sleeping](chomsky_sleeping.png)",
   "id": "a3d85443ffb20f9"
  },
  {
   "metadata": {
    "ExecuteTime": {
     "end_time": "2024-06-17T19:28:58.235446Z",
     "start_time": "2024-06-17T19:28:22.589995Z"
    }
   },
   "cell_type": "code",
   "source": [
    "inputs2 = {\n",
    "    \"input\":\"What was the summary of aapl financial data presented in july 2020 earning calls?\"\n",
    "}\n",
    "\n",
    "for output2 in graphapp.stream(inputs2):\n",
    "    for key2, value2 in output2.items():\n",
    "        pprint.pprint(f\"Output from node '{key2}':\")\n",
    "        pprint.pprint(\"---\")\n",
    "        pprint.pprint(value2, indent=2, width=80, depth=None)\n",
    "    pprint.pprint(\"\\n---\\n\")"
   ],
   "id": "aa74afdcc4245394",
   "outputs": [
    {
     "name": "stdout",
     "output_type": "stream",
     "text": [
      "--- QUERY Analysis ---\n",
      "---QUERY rewrite---question_analysis={'question_class': 'earning_call', 'new_question': \"What were the key takeaways from Apple's July 2020 earnings call?\", 'question_type': 'explain', 'question_relevancy': 'relevant'}\n",
      "---Question Class: Question is Related to earning_call---\n",
      "---Question Analysis: alternate_question is What were the key takeaways from Apple's July 2020 earnings call?---\n",
      "\"Output from node 'query_understanding_node':\"\n",
      "'---'\n",
      "{ 'alternate_question': \"What were the key takeaways from Apple's July 2020 \"\n",
      "                        'earnings call?',\n",
      "  'filters': '@doc_type:{earning_call} AND (@ticker:{AAPL})',\n",
      "  'question_class': 'earning_call',\n",
      "  'question_note': None,\n",
      "  'question_relevancy': 'relevant',\n",
      "  'question_type': 'explain',\n",
      "  'rewrite_num': 1}\n",
      "'\\n---\\n'\n",
      "---RETRIEVE FROM REDIS---\n",
      "\t---RETRIEVE FROM REDIS= query=What was the summary of aapl financial data presented in july 2020 earning calls? alternate_question=What were the key takeaways from Apple's July 2020 earnings call?- retries=1\n",
      "---GRADE: DOCUMENT NOT RELEVANT---\n",
      "---GRADE: DOCUMENT NOT RELEVANT---\n",
      "---GRADE: DOCUMENT NOT RELEVANT---\n",
      "---GRADE: DOCUMENT NOT RELEVANT---\n",
      "\"Output from node 'redis_retriever_node':\"\n",
      "'---'\n",
      "{ 'documents': [ Document(page_content='Thank you, Tim. Good afternoon, everyone. We are extremely pleased to report record results for our September quarter, which capped a tremendously successful fiscal 2018, a year in which we saw double-digit revenue growth in every geographic segment and established new revenue and earnings records in every single quarter. Revenue in the fourth quarter was $62.9 billion, up 20% and more than $10 billion over last year with strong double-digit growth in each of our geographic segments and record Q4 revenue in the Americas, in Europe, Japan and rest of Asia Pacific. In fact, we set new revenue records in almost every market we track with especially strong growth in Germany, Italy, Sweden, Switzerland, Japan and Korea, all major markets where revenue growth was 25% or higher. We also set new fourth quarter revenue records for iPhone and Wearables and new all-time records for Services and Mac. Gross margin was 38.3%, flat sequentially in line with our expectations as leverage from higher revenue offset seasonal transition costs. We set new September quarter records for net income, EPS and cash flow from operations. Net income was $14.1 billion, up $3.4 billion or 32% over last year. Diluted earnings per share were $2.91, up 41%. Cash flow from operations was $19.5 billion, up $3.8 billion from a year ago. iPhone revenue grew 29% with growth of more than 20% in every geographic segment.', metadata={'id': 'chunk:2018-Nov-01-AAPL.txt-80d17b31-078d-4b6c-a036-c089e25aa8d0', 'chunk_id': '2018-Nov-01-AAPL.txt-80d17b31-078d-4b6c-a036-c089e25aa8d0', 'source_doc': '2018-Nov-01-AAPL.txt', 'doc_type': 'earning_call', 'ticker': 'AAPL', 'company_name': 'APPLE INC', 'sector': 'Information Technology', 'asset_class': 'Equity', 'location': 'United States', 'exchange': 'NASDAQ', 'currency': 'USD', 'market_value': '559365151.11', 'weight': '5.16', 'notional_value': '559365151.11', 'shares': '4305127', 'price': '129.93'}),\n",
      "                 Document(page_content=\"Thank you, Nancy. Good afternoon, everyone, and thanks for joining us. I just got back from Brooklyn, where we marked our fourth major launch at the end of the year. In addition to being a great time, it put an exclamation point at the end of a remarkable fiscal 2018. This year, we shipped our 2 billionth iOS device, celebrated the 10th anniversary of the App Store and achieved the strongest revenue and earnings in Apple's history. In fiscal year '18, our revenue grew by $36.4 billion. That's the equivalent of a Fortune 100 company in a single year. And we're capping all that off with our best September quarter ever. Revenue was $62.9 billion, ahead of our expectations. That's an increase of 20% over last year and our highest growth rate in 3 years. We also generated record Q4 earnings with 41% year-over-year growth in EPS. Record results from iPhone, Services and Wearables drove our momentum, and we produced strong double-digit revenue growth in all of our geographic segments. It was a big year and a big quarter for iPhone. Q4 revenue was up 29% over last year, an increase of over $8 billion to a new September quarter record, fueled by continued momentum for iPhone 8, 8 Plus and X and the very successful launch of iPhone Xs and iPhone Xs Max. These latest devices are our most advanced iPhones ever with the industry's first 7-nanometer A12 Bionic chip with an Apple-designed 8-core Neural Engine capable of executing an astounding 5 trillion operations per second.\", metadata={'id': 'chunk:2018-Nov-01-AAPL.txt-3b8bee46-8881-40aa-9a83-28a75ef51844', 'chunk_id': '2018-Nov-01-AAPL.txt-3b8bee46-8881-40aa-9a83-28a75ef51844', 'source_doc': '2018-Nov-01-AAPL.txt', 'doc_type': 'earning_call', 'ticker': 'AAPL', 'company_name': 'APPLE INC', 'sector': 'Information Technology', 'asset_class': 'Equity', 'location': 'United States', 'exchange': 'NASDAQ', 'currency': 'USD', 'market_value': '559365151.11', 'weight': '5.16', 'notional_value': '559365151.11', 'shares': '4305127', 'price': '129.93'}),\n",
      "                 Document(page_content=\"Generated almost $34b in earnings in six month; bullish on Co.'s future. 12. Has best pipeline of products and services Co. ever had. 1. Has huge installed base of active devices that is growing across all products. 1. Has highest customer loyalty and satisfaction in industry. 13. Services business is growing dramatically. 14. Balance sheet and cash flow generation are strong. 1. Allows Co. to invest significantly in product roadmap and still return meaningful amount of capital to shareholders. 15. Recent corporate tax reform enables Co. to deploy global cash more efficiently. 1. In US, expects direct investment in economy to exceed $350b over next five years, including $30b in CapEx and Co. expects to create over 20,000 US jobs at AAPL over that time frame. 16. Narrowing site selection for new US campus. 2. Capital Return Program: 1. Tax reform makes it possible for Co. to execute program more efficiently through share repurchases and payment of dividend to tens of millions of investors, who own AAPL stock either directly or indirectly from large pension funds to individuals with retirement account. 2. Given strong confidence in Co.'s future, announcing significant update to capital return program. 1. Board of Directors approved a new $100b share repurchase authorization and 16% increase in quarterly dividend, effective with next dividend payable later this month.\\n\\n-------------------------------------------------------------------------------\\n\\nII. 2Q18 Financials (L.M.)\\n\\n--------------------------------------------------------------------------------\", metadata={'id': 'chunk:2018-May-01-AAPL.txt-99b94bfa-1d2b-4e66-97cb-ce1bff7b1b98', 'chunk_id': '2018-May-01-AAPL.txt-99b94bfa-1d2b-4e66-97cb-ce1bff7b1b98', 'source_doc': '2018-May-01-AAPL.txt', 'doc_type': 'earning_call', 'ticker': 'AAPL', 'company_name': 'APPLE INC', 'sector': 'Information Technology', 'asset_class': 'Equity', 'location': 'United States', 'exchange': 'NASDAQ', 'currency': 'USD', 'market_value': '559365151.11', 'weight': '5.16', 'notional_value': '559365151.11', 'shares': '4305127', 'price': '129.93'}),\n",
      "                 Document(page_content=\"1. Overview: 1. Revenue $58.3b. 1. All-time record for Services. 2. Quarterly record for Wearables, Home and Accessories. 3. Quarterly revenue record for Retail, powered by growth in online store. 2. Amid the most challenging global environment in which Co. has ever operated its business, AAPL grew during qtr. 2. COVID-19 Response: 1. Contending with COVID-19 since Jan. 2. Before COVID-19 was on the horizon, Co. anticipated that 2Q20 was going to be prolific and energetic period for AAPL. 1. When pandemic did strike, teams succeeded in growing the business in introducing powerful new products and in meeting customers' needs, and they rose to the occasion in terms of meeting broader obligations to communities. 3. At the same time that they were leaving no stone unturned to get Co.'s latest generation of devices manufactured and into customers' hands, worldwide network of supply chain partners, logistics and operations folks in every part of AAPL were also sourcing more than 30m masks for frontline medical workers, ensuring they're donated to places of greatest need in every region worldwide. 4. While product teams were preparing to launch new iPad Pro, Magic Keyboard, MacBook Air and new iPhone SE, they were also working with suppliers to design, test, manufacture and distribute more than 7.5m face shields. 1. Continues to ship more than 1m of these every week to doctors, nurses and medical personnel on frontlines. 5. In a qtr.\", metadata={'id': 'chunk:2020-Apr-30-AAPL.txt-a4b92d95-b2eb-48f0-931e-29f5e8862ed9', 'chunk_id': '2020-Apr-30-AAPL.txt-a4b92d95-b2eb-48f0-931e-29f5e8862ed9', 'source_doc': '2020-Apr-30-AAPL.txt', 'doc_type': 'earning_call', 'ticker': 'AAPL', 'company_name': 'APPLE INC', 'sector': 'Information Technology', 'asset_class': 'Equity', 'location': 'United States', 'exchange': 'NASDAQ', 'currency': 'USD', 'market_value': '559365151.11', 'weight': '5.16', 'notional_value': '559365151.11', 'shares': '4305127', 'price': '129.93'})]}\n",
      "'\\n---\\n'\n",
      "---GENERATE---\n",
      "DEBUG:GENERATE === question=What was the summary of aapl financial data presented in july 2020 earning calls?\n",
      "DEBUG:GENERATE === context=Thank you, Tim. Good afternoon, everyone. We are extremely pleased to report record results for our September quarter, which capped a tremendously successful fiscal 2018, a year in which we saw double-digit revenue growth in every geographic segment and established new revenue and earnings records in every single quarter. Revenue in the fourth quarter was $62.9 billion, up 20% and more than $10 billion over last year with strong double-digit growth in each of our geographic segments and record Q4 revenue in the Americas, in Europe, Japan and rest of Asia Pacific. In fact, we set new revenue records in almost every market we track with especially strong growth in Germany, Italy, Sweden, Switzerland, Japan and Korea, all major markets where revenue growth was 25% or higher. We also set new fourth quarter revenue records for iPhone and Wearables and new all-time records for Services and Mac. Gross margin was 38.3%, flat sequentially in line with our expectations as leverage from higher re\n",
      "RFD-DEBUG:GENERATE=== generation=I don't know the summary of AAPL's financial data presented in July 2020 earning calls, as this context only mentions a report on September quarter results for fiscal 2018.\n",
      "\"Output from node 'generate_node':\"\n",
      "'---'\n",
      "{ 'generation': \"I don't know the summary of AAPL's financial data presented \"\n",
      "                'in July 2020 earning calls, as this context only mentions a '\n",
      "                'report on September quarter results for fiscal 2018.'}\n",
      "'\\n---\\n'\n"
     ]
    }
   ],
   "execution_count": 65
  },
  {
   "metadata": {},
   "cell_type": "markdown",
   "source": "We have certainly indexed this data but failed to retrieve. A date NER and `source_year` filter translation will fix this!   ",
   "id": "13de001bd05628fc"
  },
  {
   "metadata": {},
   "cell_type": "markdown",
   "source": [
    "## Next Steps\n",
    "Implement\n",
    "- Multiple index routing scenarios where based on the detected `query_class` we run retrieval queries on different Redis indices.\n",
    "- Implement a Caching strategy using powerful and superfast Redis features, including `SemanticCache`.\n",
    "- Replace the `RelevancyGrader` by a proper reranking model and node.   "
   ],
   "id": "4b59f853531650fd"
  },
  {
   "metadata": {},
   "cell_type": "markdown",
   "source": [
    "## Conclusion\n",
    "The problem of search is still an old problem, and it is about representation of your information, storing it in your representation format and getting back what you search for via a retrieval method. In the new `RAG` paradigm, information representation is the vector representation. So the more you can capture the nuances of your data using better and better embedding models, the better the `Retrieval`. However, as demonstrated above, we still need to take advantage of our metadata to increase the accuracy and `Augment` the query and also augment the context that we present to the `Generation` component. And most recently, LLMs do a good job of generating proper answers in the target natural languages. The quality of LLMs and their awareness of the domain language increase the quality of generated response.   "
   ],
   "id": "6c18e5f6c0f3b7fe"
  },
  {
   "metadata": {},
   "cell_type": "code",
   "source": "",
   "id": "d0aaded7fca1c11",
   "outputs": [],
   "execution_count": null
  }
 ],
 "metadata": {
  "kernelspec": {
   "display_name": "Python 3 (ipykernel)",
   "language": "python",
   "name": "python3"
  },
  "language_info": {
   "codemirror_mode": {
    "name": "ipython",
    "version": 3
   },
   "file_extension": ".py",
   "mimetype": "text/x-python",
   "name": "python",
   "nbconvert_exporter": "python",
   "pygments_lexer": "ipython3",
   "version": "3.11.2"
  }
 },
 "nbformat": 4,
 "nbformat_minor": 5
}
