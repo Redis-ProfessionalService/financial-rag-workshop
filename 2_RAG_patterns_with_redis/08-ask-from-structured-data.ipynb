{
 "cells": [
  {
   "metadata": {},
   "cell_type": "markdown",
   "source": "",
   "id": "23d23269d48e1a8f"
  },
  {
   "metadata": {},
   "cell_type": "markdown",
   "source": [
    "<div align=\"center\">\n",
    "    <div><img src=\"../assets/redis_logo.svg\" style=\"width: 130px\"> </div>\n",
    "    <div style=\"display: inline-block; text-align: center; margin-bottom: 10px;\">\n",
    "        <span style=\"font-size: 36px;\"><b>Ask From Your Structured Data </b></span>\n",
    "        <br />\n",
    "    </div>\n",
    "    <br />\n",
    "</div>\n",
    "\n"
   ],
   "id": "4f5e73c37f2be598"
  },
  {
   "metadata": {},
   "cell_type": "markdown",
   "source": "Most of the data in finance are actually structured. However, traditionally extracting the right information from tables and other structured forms of representations meant writing the right query in a query language like SQL or Redis Query language. Building chatbots and Q&A systems does involve getting the right relevant data from multiple sources and some of those sources are indeed structured data stores. Now if user asks about her/his financial information using a natural language this task comes down to the right translation from natural language - such as English - to a query language like SQL or Redis Query language. People used to train Seq2Seq models or other methods for tasks such as Text2SQL. With the advent of LLM and now code-LLMs we can ask the LLM to do this translation for us. Once we form the right translation and retrieved the right data, we can ask another LLM to create a proper response for the user or we can create a larger context and prompt (possibly from information retrieved from regular RAG scenarios) and answer user's question. In the following first we represent a case where we get the right data from Redis and represent it in a proper JSON object and leverage LangChain's Json agent to answer user's question. Then we showcase Redis copilot and propose alternate path for natural language translation to Redis Query Language.     ",
   "id": "3de59ea72c0da4e8"
  },
  {
   "metadata": {},
   "cell_type": "markdown",
   "source": "## Environment Setup",
   "id": "c54f1e55f5310c1b"
  },
  {
   "metadata": {
    "ExecuteTime": {
     "end_time": "2024-07-24T19:53:12.739745Z",
     "start_time": "2024-07-24T19:53:11.511726Z"
    }
   },
   "cell_type": "code",
   "source": "%pip install python-dotenv",
   "id": "aa7fdd37f0036d45",
   "outputs": [
    {
     "name": "stdout",
     "output_type": "stream",
     "text": [
      "Requirement already satisfied: python-dotenv in /Library/Frameworks/Python.framework/Versions/3.12/lib/python3.12/site-packages (1.0.1)\r\n",
      "\r\n",
      "\u001B[1m[\u001B[0m\u001B[34;49mnotice\u001B[0m\u001B[1;39;49m]\u001B[0m\u001B[39;49m A new release of pip is available: \u001B[0m\u001B[31;49m24.0\u001B[0m\u001B[39;49m -> \u001B[0m\u001B[32;49m24.1.2\u001B[0m\r\n",
      "\u001B[1m[\u001B[0m\u001B[34;49mnotice\u001B[0m\u001B[1;39;49m]\u001B[0m\u001B[39;49m To update, run: \u001B[0m\u001B[32;49m/usr/local/bin/python3.12 -m pip install --upgrade pip\u001B[0m\r\n",
      "Note: you may need to restart the kernel to use updated packages.\n"
     ]
    }
   ],
   "execution_count": 1
  },
  {
   "cell_type": "code",
   "id": "e4958a8c",
   "metadata": {
    "ExecuteTime": {
     "end_time": "2024-07-24T19:53:12.750007Z",
     "start_time": "2024-07-24T19:53:12.741043Z"
    }
   },
   "source": [
    "import sys\n",
    "import os\n",
    "import warnings\n",
    "import dotenv\n",
    "# load env vars from .env file\n",
    "dotenv.load_dotenv()\n",
    "\n",
    "warnings.filterwarnings('ignore')\n",
    "dir_path = os.getcwd()\n",
    "parent_directory = os.path.dirname(dir_path)\n",
    "sys.path.insert(0, f'{parent_directory}/helpers')\n",
    "os.environ[\"ROOT_DIR\"] = parent_directory\n",
    "REDIS_URL = os.getenv(\"REDIS_URL\")\n",
    "\n",
    "print(\"========== ENVIRONMENT VARIABLES ==========\")\n",
    "print(f\"Current Directory={dir_path}\")\n",
    "print(f\"Parent Directory={parent_directory}\")\n",
    "print(f\"System path={sys.path}\")\n",
    "print(\"---------------------------------\")\n",
    "print(f'LLM Engine: {os.getenv(\"LOCAL_LLM_ENGINE\")}')\n",
    "print(f'LOCAL_VLLM_MODEL: {os.getenv(\"LOCAL_VLLM_MODEL\")}')\n",
    "print(f'LOCAL_OLLAMA_MODEL: {os.getenv(\"LOCAL_OLLAMA_MODEL\")}')\n",
    "print(f'VLLM_URL: {os.getenv(\"VLLM_URL\")}')\n",
    "print(\"---------------------------------\")\n",
    "print(f\"NLTK_DATA={os.getenv('NLTK_DATA')}\")\n"
   ],
   "outputs": [
    {
     "name": "stdout",
     "output_type": "stream",
     "text": [
      "========== ENVIRONMENT VARIABLES ==========\n",
      "Current Directory=/Users/rouzbeh.farahmand/PycharmProjects/boa-financial-rag-workshop/2_RAG_patterns_with_redis\n",
      "Parent Directory=/Users/rouzbeh.farahmand/PycharmProjects/boa-financial-rag-workshop\n",
      "System path=['/Users/rouzbeh.farahmand/PycharmProjects/boa-financial-rag-workshop/helpers', '/Users/rouzbeh.farahmand/PycharmProjects/boa-financial-rag-workshop', '/Library/Frameworks/Python.framework/Versions/3.12/lib/python312.zip', '/Library/Frameworks/Python.framework/Versions/3.12/lib/python3.12', '/Library/Frameworks/Python.framework/Versions/3.12/lib/python3.12/lib-dynload', '', '/Library/Frameworks/Python.framework/Versions/3.12/lib/python3.12/site-packages']\n",
      "---------------------------------\n",
      "LLM Engine: ollama\n",
      "LOCAL_VLLM_MODEL: meta-llama/Meta-Llama-3-8B-Instruct\n",
      "LOCAL_OLLAMA_MODEL: llama3:8b\n",
      "VLLM_URL: http://localhost:8000/v1\n",
      "---------------------------------\n",
      "NLTK_DATA=\n"
     ]
    }
   ],
   "execution_count": 2
  },
  {
   "metadata": {},
   "cell_type": "markdown",
   "source": "### Install Python Dependencies",
   "id": "2c22327a44dd1c4d"
  },
  {
   "metadata": {
    "ExecuteTime": {
     "end_time": "2024-07-24T19:53:15.078545Z",
     "start_time": "2024-07-24T19:53:12.750598Z"
    }
   },
   "cell_type": "code",
   "source": [
    "%%capture\n",
    "%pip install -r $ROOT_DIR/requirements.txt"
   ],
   "id": "fe27d19af62e7bc5",
   "outputs": [],
   "execution_count": 3
  },
  {
   "metadata": {
    "ExecuteTime": {
     "end_time": "2024-07-24T19:53:19.718404Z",
     "start_time": "2024-07-24T19:53:15.079556Z"
    }
   },
   "cell_type": "code",
   "source": [
    "from utils import *\n",
    "from ingestion import *\n",
    "from custom_ners import *"
   ],
   "id": "2dc6b74f5a93fb61",
   "outputs": [
    {
     "name": "stdout",
     "output_type": "stream",
     "text": [
      " ✅ Loaded doc info for  111 tickers...\n"
     ]
    }
   ],
   "execution_count": 4
  },
  {
   "metadata": {},
   "cell_type": "markdown",
   "source": [
    "### SentenceTransformerEmbeddings Models Cache folder\n",
    "We are using `SentenceTransformerEmbeddings` in this demo and here we specify the cache folder. If you already downloaded the models in a local file system, set this folder here, otherwise the library tries to download the models in this folder if is not locally available.\n",
    "\n",
    "In particular, this models will be downloaded if not present in the cache folder:\n",
    "\n",
    "models/models--sentence-transformers--all-MiniLM-L6-v2"
   ],
   "id": "9ba8eaf10e92f692"
  },
  {
   "metadata": {
    "ExecuteTime": {
     "end_time": "2024-07-24T19:53:19.721317Z",
     "start_time": "2024-07-24T19:53:19.719809Z"
    }
   },
   "cell_type": "code",
   "source": [
    "#setting the local downloaded sentence transformer models folder\n",
    "os.environ[\"TRANSFORMERS_CACHE\"] = f\"{parent_directory}/models\""
   ],
   "id": "c405bdf9381db835",
   "outputs": [],
   "execution_count": 5
  },
  {
   "metadata": {
    "ExecuteTime": {
     "end_time": "2024-07-24T19:53:21.754519Z",
     "start_time": "2024-07-24T19:53:19.721720Z"
    }
   },
   "cell_type": "code",
   "source": [
    "from langchain.embeddings.sentence_transformer import SentenceTransformerEmbeddings\n",
    "\n",
    "embeddings = SentenceTransformerEmbeddings(model_name=\"sentence-transformers/all-MiniLM-L6-v2\",\n",
    "                                           cache_folder=os.getenv(\"TRANSFORMERS_CACHE\", f\"{parent_directory}/models\"))"
   ],
   "id": "11190e3ee0b4ab1d",
   "outputs": [],
   "execution_count": 6
  },
  {
   "metadata": {},
   "cell_type": "markdown",
   "source": [
    "### Build your Redis index \n",
    "Skip this section if you have already built your index in previous notebook.\n"
   ],
   "id": "30bd69c8360baaa0"
  },
  {
   "metadata": {
    "ExecuteTime": {
     "end_time": "2024-07-24T19:53:21.831173Z",
     "start_time": "2024-07-24T19:53:21.755952Z"
    }
   },
   "cell_type": "code",
   "source": [
    "from redisvl.index import SearchIndex\n",
    "from redisvl.schema import IndexSchema\n",
    "from redis import Redis\n",
    "index_name = 'russell-3000'\n",
    "prefix = 'russell'\n",
    "schema = IndexSchema.from_yaml('russell_index.yaml')\n",
    "client = Redis.from_url(REDIS_URL)\n",
    "# create an index from schema and the client\n",
    "index = SearchIndex(schema, client)\n",
    "index.delete(index_name)\n",
    "index.create(overwrite=True, drop=True)"
   ],
   "id": "78bbc21dd49fb15f",
   "outputs": [],
   "execution_count": 7
  },
  {
   "metadata": {
    "ExecuteTime": {
     "end_time": "2024-07-24T19:53:21.838133Z",
     "start_time": "2024-07-24T19:53:21.831902Z"
    }
   },
   "cell_type": "code",
   "source": [
    "# Skip if you have already done populated your index.\n",
    "sec_data = get_sec_data()"
   ],
   "id": "c1ab8cbe7cdea875",
   "outputs": [
    {
     "name": "stdout",
     "output_type": "stream",
     "text": [
      " ✅ Loaded doc info for  111 tickers...\n"
     ]
    }
   ],
   "execution_count": 8
  },
  {
   "metadata": {
    "ExecuteTime": {
     "end_time": "2024-07-24T19:53:21.842622Z",
     "start_time": "2024-07-24T19:53:21.838917Z"
    }
   },
   "cell_type": "code",
   "source": [
    "def redis_upload_json(data_dict, index, tickers=None):\n",
    "    if tickers is None:\n",
    "        tickers = list(data_dict.keys())\n",
    "    counter = 1\n",
    "    objs_to_load =[]\n",
    "    for ticker in tickers:\n",
    "        if len(data_dict[ticker][\"metadata_file\"]) > 0:\n",
    "            shared_metadata = load_json_metadata(data_dict[ticker][\"metadata_file\"][0])\n",
    "            obj_to_load = shared_metadata.copy()\n",
    "            obj_to_load['doc_id'] = f\"{ticker}\"\n",
    "            objs_to_load.append(obj_to_load)\n",
    "            counter = counter + 1\n",
    "    keys = index.load(objs_to_load, id_field=\"doc_id\")\n",
    "    print(\n",
    "        f\"✅✅✅Loaded a total of {len(keys)} documents for {len(tickers)} tickers in <{index.name}> index\")"
   ],
   "id": "418ca5ca063e182b",
   "outputs": [],
   "execution_count": 9
  },
  {
   "metadata": {
    "ExecuteTime": {
     "end_time": "2024-07-24T19:53:21.858257Z",
     "start_time": "2024-07-24T19:53:21.843554Z"
    }
   },
   "cell_type": "code",
   "source": "redis_upload_json(sec_data, index)",
   "id": "5b87b9c94d496bc5",
   "outputs": [
    {
     "name": "stdout",
     "output_type": "stream",
     "text": [
      "✅✅✅Loaded a total of 108 documents for 111 tickers in <russell-3000> index\n"
     ]
    }
   ],
   "execution_count": 10
  },
  {
   "metadata": {
    "ExecuteTime": {
     "end_time": "2024-07-24T19:53:21.863776Z",
     "start_time": "2024-07-24T19:53:21.859527Z"
    }
   },
   "cell_type": "code",
   "source": [
    "from redisvl.query.filter import Num\n",
    "from redisvl.query import FilterQuery\n",
    "import json\n",
    "from redisvl.query.filter import Tag\n",
    "numeric_filter = Num(\"market_value\") > 150000\n",
    "results = index.search(FilterQuery(filter_expression=numeric_filter).query.sort_by(\"market_value\", asc=False))\n",
    "companies = []\n",
    "for doc in results.docs:\n",
    "    companies.append(json.loads(doc.__dict__['json']))\n",
    "\n",
    "data = {\n",
    "    \"companies\": companies\n",
    "}    \n",
    "\n",
    "print(data)"
   ],
   "id": "fbc15fac0742e447",
   "outputs": [
    {
     "name": "stdout",
     "output_type": "stream",
     "text": [
      "{'companies': [{'ticker': 'AAPL', 'company_name': 'APPLE INC', 'sector': 'Information Technology', 'asset_class': 'Equity', 'market_value': 559365151.11, 'weight': 5.16, 'notional_value': 559365151.11, 'shares': 4305127.0, 'location': 'United States', 'price': 129.93, 'exchange': 'NASDAQ', 'currency': 'USD', 'fx_rate': 1.0, 'market_currency': 'USD', 'accrual_date': '-', 'doc_id': 'AAPL'}, {'ticker': 'MSFT', 'company_name': 'MICROSOFT CORP', 'sector': 'Information Technology', 'asset_class': 'Equity', 'market_value': 513917712.42, 'weight': 4.74, 'notional_value': 513917712.42, 'shares': 2142931.0, 'location': 'United States', 'price': 239.82, 'exchange': 'NASDAQ', 'currency': 'USD', 'fx_rate': 1.0, 'market_currency': 'USD', 'accrual_date': '-', 'doc_id': 'MSFT'}, {'ticker': 'AMZN', 'company_name': 'AMAZON COM INC', 'sector': 'Consumer Discretionary', 'asset_class': 'Equity', 'market_value': 213823596.0, 'weight': 1.97, 'notional_value': 213823596.0, 'shares': 2545519.0, 'location': 'United States', 'price': 84.0, 'exchange': 'NASDAQ', 'currency': 'USD', 'fx_rate': 1.0, 'market_currency': 'USD', 'accrual_date': '-', 'doc_id': 'AMZN'}, {'ticker': 'BRKB', 'company_name': 'BERKSHIRE HATHAWAY INC CLASS B', 'sector': 'Financials', 'asset_class': 'Equity', 'market_value': 159603687.6, 'weight': 1.47, 'notional_value': 159603687.6, 'shares': 516684.0, 'location': 'United States', 'price': 308.9, 'exchange': 'New York Stock Exchange Inc.', 'currency': 'USD', 'fx_rate': 1.0, 'market_currency': 'USD', 'accrual_date': '-', 'doc_id': 'BRKB'}, {'ticker': 'GOOGL', 'company_name': 'ALPHABET INC CLASS A', 'sector': 'Communication', 'asset_class': 'Equity', 'market_value': 151996026.75, 'weight': 1.4, 'notional_value': 151996026.75, 'shares': 1722725.0, 'location': 'United States', 'price': 88.23, 'exchange': 'NASDAQ', 'currency': 'USD', 'fx_rate': 1.0, 'market_currency': 'USD', 'accrual_date': '-', 'doc_id': 'GOOGL'}, {'ticker': 'UNH', 'company_name': 'UNITEDHEALTH GROUP INC', 'sector': 'Health Care', 'asset_class': 'Equity', 'market_value': 142028859.84, 'weight': 1.31, 'notional_value': 142028859.84, 'shares': 267888.0, 'location': 'United States', 'price': 530.18, 'exchange': 'New York Stock Exchange Inc.', 'currency': 'USD', 'fx_rate': 1.0, 'market_currency': 'USD', 'accrual_date': '-', 'doc_id': 'UNH'}, {'ticker': 'GOOG', 'company_name': 'ALPHABET INC CLASS C', 'sector': 'Communication', 'asset_class': 'Equity', 'market_value': 135557878.61, 'weight': 1.25, 'notional_value': 135557878.61, 'shares': 1527757.0, 'location': 'United States', 'price': 88.73, 'exchange': 'NASDAQ', 'currency': 'USD', 'fx_rate': 1.0, 'market_currency': 'USD', 'accrual_date': '-', 'doc_id': 'GOOG'}, {'ticker': 'JNJ', 'company_name': 'JOHNSON & JOHNSON', 'sector': 'Health Care', 'asset_class': 'Equity', 'market_value': 133147817.7, 'weight': 1.23, 'notional_value': 133147817.7, 'shares': 753738.0, 'location': 'United States', 'price': 176.65, 'exchange': 'New York Stock Exchange Inc.', 'currency': 'USD', 'fx_rate': 1.0, 'market_currency': 'USD', 'accrual_date': '-', 'doc_id': 'JNJ'}, {'ticker': 'XOM', 'company_name': 'EXXON MOBIL CORP', 'sector': 'Energy', 'asset_class': 'Equity', 'market_value': 130179148.4, 'weight': 1.2, 'notional_value': 130179148.4, 'shares': 1180228.0, 'location': 'United States', 'price': 110.3, 'exchange': 'New York Stock Exchange Inc.', 'currency': 'USD', 'fx_rate': 1.0, 'market_currency': 'USD', 'accrual_date': '-', 'doc_id': 'XOM'}, {'ticker': 'JPM', 'company_name': 'JPMORGAN CHASE & CO', 'sector': 'Financials', 'asset_class': 'Equity', 'market_value': 112022178.3, 'weight': 1.03, 'notional_value': 112022178.3, 'shares': 835363.0, 'location': 'United States', 'price': 134.1, 'exchange': 'New York Stock Exchange Inc.', 'currency': 'USD', 'fx_rate': 1.0, 'market_currency': 'USD', 'accrual_date': '-', 'doc_id': 'JPM'}]}\n"
     ]
    }
   ],
   "execution_count": 11
  },
  {
   "metadata": {
    "ExecuteTime": {
     "end_time": "2024-07-24T19:53:21.871822Z",
     "start_time": "2024-07-24T19:53:21.864373Z"
    }
   },
   "cell_type": "code",
   "source": [
    "from langchain_community.agent_toolkits import JsonToolkit, create_json_agent\n",
    "from langchain_community.tools.json.tool import JsonSpec\n",
    "from langchain_openai import OpenAI"
   ],
   "id": "f692ea7d26ac9a4c",
   "outputs": [],
   "execution_count": 12
  },
  {
   "metadata": {
    "ExecuteTime": {
     "end_time": "2024-07-24T19:53:21.899637Z",
     "start_time": "2024-07-24T19:53:21.872389Z"
    }
   },
   "cell_type": "code",
   "source": [
    "json_llm = get_chat_llm( \n",
    "        local_llm_engine=os.getenv(\"LOCAL_LLM_ENGINE\"),\n",
    "        vllm_url=os.getenv(\"VLLM_URL\"),\n",
    "        vllm_model=os.getenv(\"LOCAL_VLLM_MODEL\"),\n",
    "        ollama_model=os.getenv(\"LOCAL_OLLAMA_MODEL\"),\n",
    "        temperature=0)\n",
    "openai_json =OpenAI(temperature=0)"
   ],
   "id": "613ff09372b7bd6c",
   "outputs": [
    {
     "name": "stdout",
     "output_type": "stream",
     "text": [
      "Created ChatOllama using llama3:8b served locally\n"
     ]
    }
   ],
   "execution_count": 13
  },
  {
   "metadata": {
    "ExecuteTime": {
     "end_time": "2024-07-24T19:53:22.053688Z",
     "start_time": "2024-07-24T19:53:21.901499Z"
    }
   },
   "cell_type": "code",
   "source": [
    "json_spec = JsonSpec(dict_=data, max_value_length=4000)\n",
    "json_toolkit = JsonToolkit(spec=json_spec)\n",
    "\n",
    "json_agent_executor = create_json_agent(\n",
    "    llm=openai_json, toolkit=json_toolkit, verbose=True\n",
    ")\n",
    "json_agent_executor.to_json()"
   ],
   "id": "c7ad1502da44277a",
   "outputs": [
    {
     "data": {
      "text/plain": [
       "{'lc': 1,\n",
       " 'type': 'not_implemented',\n",
       " 'id': ['langchain', 'agents', 'agent', 'AgentExecutor'],\n",
       " 'repr': 'AgentExecutor(verbose=True, agent=ZeroShotAgent(llm_chain=LLMChain(prompt=PromptTemplate(input_variables=[\\'agent_scratchpad\\', \\'input\\'], template=\\'You are an agent designed to interact with JSON.\\\\nYour goal is to return a final answer by interacting with the JSON.\\\\nYou have access to the following tools which help you learn more about the JSON you are interacting with.\\\\nOnly use the below tools. Only use the information returned by the below tools to construct your final answer.\\\\nDo not make up any information that is not contained in the JSON.\\\\nYour input to the tools should be in the form of `data[\"key\"][0]` where `data` is the JSON blob you are interacting with, and the syntax used is Python. \\\\nYou should only use keys that you know for a fact exist. You must validate that a key exists by seeing it previously when calling `json_spec_list_keys`. \\\\nIf you have not seen a key in one of those responses, you cannot use it.\\\\nYou should only add one key at a time to the path. You cannot add multiple keys at once.\\\\nIf you encounter a \"KeyError\", go back to the previous key, look at the available keys, and try again.\\\\n\\\\nIf the question does not seem to be related to the JSON, just return \"I don\\\\\\'t know\" as the answer.\\\\nAlways begin your interaction with the `json_spec_list_keys` tool with input \"data\" to see what keys exist in the JSON.\\\\n\\\\nNote that sometimes the value at a given path is large. In this case, you will get an error \"Value is a large dictionary, should explore its keys directly\".\\\\nIn this case, you should ALWAYS follow up by using the `json_spec_list_keys` tool to see what keys exist at that path.\\\\nDo not simply refer the user to the JSON or a section of the JSON, as this is not a valid answer. Keep digging until you find the answer and explicitly return it.\\\\n\\\\n\\\\njson_spec_list_keys - \\\\n    Can be used to list all keys at a given path. \\\\n    Before calling this you should be SURE that the path to this exists.\\\\n    The input is a text representation of the path to the dict in Python syntax (e.g. data[\"key1\"][0][\"key2\"]).\\\\n    \\\\njson_spec_get_value - \\\\n    Can be used to see value in string format at a given path.\\\\n    Before calling this you should be SURE that the path to this exists.\\\\n    The input is a text representation of the path to the dict in Python syntax (e.g. data[\"key1\"][0][\"key2\"]).\\\\n    \\\\n\\\\nUse the following format:\\\\n\\\\nQuestion: the input question you must answer\\\\nThought: you should always think about what to do\\\\nAction: the action to take, should be one of [json_spec_list_keys, json_spec_get_value]\\\\nAction Input: the input to the action\\\\nObservation: the result of the action\\\\n... (this Thought/Action/Action Input/Observation can repeat N times)\\\\nThought: I now know the final answer\\\\nFinal Answer: the final answer to the original input question\\\\n\\\\nBegin!\"\\\\n\\\\nQuestion: {input}\\\\nThought: I should look at the keys that exist in data to see what I have access to\\\\n{agent_scratchpad}\\'), llm=OpenAI(client=<openai.resources.completions.Completions object at 0x2e484f890>, async_client=<openai.resources.completions.AsyncCompletions object at 0x2e488cc80>, temperature=0.0, openai_api_key=SecretStr(\\'**********\\'), openai_proxy=\\'\\')), output_parser=MRKLOutputParser(), allowed_tools=[\\'json_spec_list_keys\\', \\'json_spec_get_value\\']), tools=[JsonListKeysTool(spec=JsonSpec(dict_={\\'companies\\': [{\\'ticker\\': \\'AAPL\\', \\'company_name\\': \\'APPLE INC\\', \\'sector\\': \\'Information Technology\\', \\'asset_class\\': \\'Equity\\', \\'market_value\\': 559365151.11, \\'weight\\': 5.16, \\'notional_value\\': 559365151.11, \\'shares\\': 4305127.0, \\'location\\': \\'United States\\', \\'price\\': 129.93, \\'exchange\\': \\'NASDAQ\\', \\'currency\\': \\'USD\\', \\'fx_rate\\': 1.0, \\'market_currency\\': \\'USD\\', \\'accrual_date\\': \\'-\\', \\'doc_id\\': \\'AAPL\\'}, {\\'ticker\\': \\'MSFT\\', \\'company_name\\': \\'MICROSOFT CORP\\', \\'sector\\': \\'Information Technology\\', \\'asset_class\\': \\'Equity\\', \\'market_value\\': 513917712.42, \\'weight\\': 4.74, \\'notional_value\\': 513917712.42, \\'shares\\': 2142931.0, \\'location\\': \\'United States\\', \\'price\\': 239.82, \\'exchange\\': \\'NASDAQ\\', \\'currency\\': \\'USD\\', \\'fx_rate\\': 1.0, \\'market_currency\\': \\'USD\\', \\'accrual_date\\': \\'-\\', \\'doc_id\\': \\'MSFT\\'}, {\\'ticker\\': \\'AMZN\\', \\'company_name\\': \\'AMAZON COM INC\\', \\'sector\\': \\'Consumer Discretionary\\', \\'asset_class\\': \\'Equity\\', \\'market_value\\': 213823596.0, \\'weight\\': 1.97, \\'notional_value\\': 213823596.0, \\'shares\\': 2545519.0, \\'location\\': \\'United States\\', \\'price\\': 84.0, \\'exchange\\': \\'NASDAQ\\', \\'currency\\': \\'USD\\', \\'fx_rate\\': 1.0, \\'market_currency\\': \\'USD\\', \\'accrual_date\\': \\'-\\', \\'doc_id\\': \\'AMZN\\'}, {\\'ticker\\': \\'BRKB\\', \\'company_name\\': \\'BERKSHIRE HATHAWAY INC CLASS B\\', \\'sector\\': \\'Financials\\', \\'asset_class\\': \\'Equity\\', \\'market_value\\': 159603687.6, \\'weight\\': 1.47, \\'notional_value\\': 159603687.6, \\'shares\\': 516684.0, \\'location\\': \\'United States\\', \\'price\\': 308.9, \\'exchange\\': \\'New York Stock Exchange Inc.\\', \\'currency\\': \\'USD\\', \\'fx_rate\\': 1.0, \\'market_currency\\': \\'USD\\', \\'accrual_date\\': \\'-\\', \\'doc_id\\': \\'BRKB\\'}, {\\'ticker\\': \\'GOOGL\\', \\'company_name\\': \\'ALPHABET INC CLASS A\\', \\'sector\\': \\'Communication\\', \\'asset_class\\': \\'Equity\\', \\'market_value\\': 151996026.75, \\'weight\\': 1.4, \\'notional_value\\': 151996026.75, \\'shares\\': 1722725.0, \\'location\\': \\'United States\\', \\'price\\': 88.23, \\'exchange\\': \\'NASDAQ\\', \\'currency\\': \\'USD\\', \\'fx_rate\\': 1.0, \\'market_currency\\': \\'USD\\', \\'accrual_date\\': \\'-\\', \\'doc_id\\': \\'GOOGL\\'}, {\\'ticker\\': \\'UNH\\', \\'company_name\\': \\'UNITEDHEALTH GROUP INC\\', \\'sector\\': \\'Health Care\\', \\'asset_class\\': \\'Equity\\', \\'market_value\\': 142028859.84, \\'weight\\': 1.31, \\'notional_value\\': 142028859.84, \\'shares\\': 267888.0, \\'location\\': \\'United States\\', \\'price\\': 530.18, \\'exchange\\': \\'New York Stock Exchange Inc.\\', \\'currency\\': \\'USD\\', \\'fx_rate\\': 1.0, \\'market_currency\\': \\'USD\\', \\'accrual_date\\': \\'-\\', \\'doc_id\\': \\'UNH\\'}, {\\'ticker\\': \\'GOOG\\', \\'company_name\\': \\'ALPHABET INC CLASS C\\', \\'sector\\': \\'Communication\\', \\'asset_class\\': \\'Equity\\', \\'market_value\\': 135557878.61, \\'weight\\': 1.25, \\'notional_value\\': 135557878.61, \\'shares\\': 1527757.0, \\'location\\': \\'United States\\', \\'price\\': 88.73, \\'exchange\\': \\'NASDAQ\\', \\'currency\\': \\'USD\\', \\'fx_rate\\': 1.0, \\'market_currency\\': \\'USD\\', \\'accrual_date\\': \\'-\\', \\'doc_id\\': \\'GOOG\\'}, {\\'ticker\\': \\'JNJ\\', \\'company_name\\': \\'JOHNSON & JOHNSON\\', \\'sector\\': \\'Health Care\\', \\'asset_class\\': \\'Equity\\', \\'market_value\\': 133147817.7, \\'weight\\': 1.23, \\'notional_value\\': 133147817.7, \\'shares\\': 753738.0, \\'location\\': \\'United States\\', \\'price\\': 176.65, \\'exchange\\': \\'New York Stock Exchange Inc.\\', \\'currency\\': \\'USD\\', \\'fx_rate\\': 1.0, \\'market_currency\\': \\'USD\\', \\'accrual_date\\': \\'-\\', \\'doc_id\\': \\'JNJ\\'}, {\\'ticker\\': \\'XOM\\', \\'company_name\\': \\'EXXON MOBIL CORP\\', \\'sector\\': \\'Energy\\', \\'asset_class\\': \\'Equity\\', \\'market_value\\': 130179148.4, \\'weight\\': 1.2, \\'notional_value\\': 130179148.4, \\'shares\\': 1180228.0, \\'location\\': \\'United States\\', \\'price\\': 110.3, \\'exchange\\': \\'New York Stock Exchange Inc.\\', \\'currency\\': \\'USD\\', \\'fx_rate\\': 1.0, \\'market_currency\\': \\'USD\\', \\'accrual_date\\': \\'-\\', \\'doc_id\\': \\'XOM\\'}, {\\'ticker\\': \\'JPM\\', \\'company_name\\': \\'JPMORGAN CHASE & CO\\', \\'sector\\': \\'Financials\\', \\'asset_class\\': \\'Equity\\', \\'market_value\\': 112022178.3, \\'weight\\': 1.03, \\'notional_value\\': 112022178.3, \\'shares\\': 835363.0, \\'location\\': \\'United States\\', \\'price\\': 134.1, \\'exchange\\': \\'New York Stock Exchange Inc.\\', \\'currency\\': \\'USD\\', \\'fx_rate\\': 1.0, \\'market_currency\\': \\'USD\\', \\'accrual_date\\': \\'-\\', \\'doc_id\\': \\'JPM\\'}]}, max_value_length=4000)), JsonGetValueTool(spec=JsonSpec(dict_={\\'companies\\': [{\\'ticker\\': \\'AAPL\\', \\'company_name\\': \\'APPLE INC\\', \\'sector\\': \\'Information Technology\\', \\'asset_class\\': \\'Equity\\', \\'market_value\\': 559365151.11, \\'weight\\': 5.16, \\'notional_value\\': 559365151.11, \\'shares\\': 4305127.0, \\'location\\': \\'United States\\', \\'price\\': 129.93, \\'exchange\\': \\'NASDAQ\\', \\'currency\\': \\'USD\\', \\'fx_rate\\': 1.0, \\'market_currency\\': \\'USD\\', \\'accrual_date\\': \\'-\\', \\'doc_id\\': \\'AAPL\\'}, {\\'ticker\\': \\'MSFT\\', \\'company_name\\': \\'MICROSOFT CORP\\', \\'sector\\': \\'Information Technology\\', \\'asset_class\\': \\'Equity\\', \\'market_value\\': 513917712.42, \\'weight\\': 4.74, \\'notional_value\\': 513917712.42, \\'shares\\': 2142931.0, \\'location\\': \\'United States\\', \\'price\\': 239.82, \\'exchange\\': \\'NASDAQ\\', \\'currency\\': \\'USD\\', \\'fx_rate\\': 1.0, \\'market_currency\\': \\'USD\\', \\'accrual_date\\': \\'-\\', \\'doc_id\\': \\'MSFT\\'}, {\\'ticker\\': \\'AMZN\\', \\'company_name\\': \\'AMAZON COM INC\\', \\'sector\\': \\'Consumer Discretionary\\', \\'asset_class\\': \\'Equity\\', \\'market_value\\': 213823596.0, \\'weight\\': 1.97, \\'notional_value\\': 213823596.0, \\'shares\\': 2545519.0, \\'location\\': \\'United States\\', \\'price\\': 84.0, \\'exchange\\': \\'NASDAQ\\', \\'currency\\': \\'USD\\', \\'fx_rate\\': 1.0, \\'market_currency\\': \\'USD\\', \\'accrual_date\\': \\'-\\', \\'doc_id\\': \\'AMZN\\'}, {\\'ticker\\': \\'BRKB\\', \\'company_name\\': \\'BERKSHIRE HATHAWAY INC CLASS B\\', \\'sector\\': \\'Financials\\', \\'asset_class\\': \\'Equity\\', \\'market_value\\': 159603687.6, \\'weight\\': 1.47, \\'notional_value\\': 159603687.6, \\'shares\\': 516684.0, \\'location\\': \\'United States\\', \\'price\\': 308.9, \\'exchange\\': \\'New York Stock Exchange Inc.\\', \\'currency\\': \\'USD\\', \\'fx_rate\\': 1.0, \\'market_currency\\': \\'USD\\', \\'accrual_date\\': \\'-\\', \\'doc_id\\': \\'BRKB\\'}, {\\'ticker\\': \\'GOOGL\\', \\'company_name\\': \\'ALPHABET INC CLASS A\\', \\'sector\\': \\'Communication\\', \\'asset_class\\': \\'Equity\\', \\'market_value\\': 151996026.75, \\'weight\\': 1.4, \\'notional_value\\': 151996026.75, \\'shares\\': 1722725.0, \\'location\\': \\'United States\\', \\'price\\': 88.23, \\'exchange\\': \\'NASDAQ\\', \\'currency\\': \\'USD\\', \\'fx_rate\\': 1.0, \\'market_currency\\': \\'USD\\', \\'accrual_date\\': \\'-\\', \\'doc_id\\': \\'GOOGL\\'}, {\\'ticker\\': \\'UNH\\', \\'company_name\\': \\'UNITEDHEALTH GROUP INC\\', \\'sector\\': \\'Health Care\\', \\'asset_class\\': \\'Equity\\', \\'market_value\\': 142028859.84, \\'weight\\': 1.31, \\'notional_value\\': 142028859.84, \\'shares\\': 267888.0, \\'location\\': \\'United States\\', \\'price\\': 530.18, \\'exchange\\': \\'New York Stock Exchange Inc.\\', \\'currency\\': \\'USD\\', \\'fx_rate\\': 1.0, \\'market_currency\\': \\'USD\\', \\'accrual_date\\': \\'-\\', \\'doc_id\\': \\'UNH\\'}, {\\'ticker\\': \\'GOOG\\', \\'company_name\\': \\'ALPHABET INC CLASS C\\', \\'sector\\': \\'Communication\\', \\'asset_class\\': \\'Equity\\', \\'market_value\\': 135557878.61, \\'weight\\': 1.25, \\'notional_value\\': 135557878.61, \\'shares\\': 1527757.0, \\'location\\': \\'United States\\', \\'price\\': 88.73, \\'exchange\\': \\'NASDAQ\\', \\'currency\\': \\'USD\\', \\'fx_rate\\': 1.0, \\'market_currency\\': \\'USD\\', \\'accrual_date\\': \\'-\\', \\'doc_id\\': \\'GOOG\\'}, {\\'ticker\\': \\'JNJ\\', \\'company_name\\': \\'JOHNSON & JOHNSON\\', \\'sector\\': \\'Health Care\\', \\'asset_class\\': \\'Equity\\', \\'market_value\\': 133147817.7, \\'weight\\': 1.23, \\'notional_value\\': 133147817.7, \\'shares\\': 753738.0, \\'location\\': \\'United States\\', \\'price\\': 176.65, \\'exchange\\': \\'New York Stock Exchange Inc.\\', \\'currency\\': \\'USD\\', \\'fx_rate\\': 1.0, \\'market_currency\\': \\'USD\\', \\'accrual_date\\': \\'-\\', \\'doc_id\\': \\'JNJ\\'}, {\\'ticker\\': \\'XOM\\', \\'company_name\\': \\'EXXON MOBIL CORP\\', \\'sector\\': \\'Energy\\', \\'asset_class\\': \\'Equity\\', \\'market_value\\': 130179148.4, \\'weight\\': 1.2, \\'notional_value\\': 130179148.4, \\'shares\\': 1180228.0, \\'location\\': \\'United States\\', \\'price\\': 110.3, \\'exchange\\': \\'New York Stock Exchange Inc.\\', \\'currency\\': \\'USD\\', \\'fx_rate\\': 1.0, \\'market_currency\\': \\'USD\\', \\'accrual_date\\': \\'-\\', \\'doc_id\\': \\'XOM\\'}, {\\'ticker\\': \\'JPM\\', \\'company_name\\': \\'JPMORGAN CHASE & CO\\', \\'sector\\': \\'Financials\\', \\'asset_class\\': \\'Equity\\', \\'market_value\\': 112022178.3, \\'weight\\': 1.03, \\'notional_value\\': 112022178.3, \\'shares\\': 835363.0, \\'location\\': \\'United States\\', \\'price\\': 134.1, \\'exchange\\': \\'New York Stock Exchange Inc.\\', \\'currency\\': \\'USD\\', \\'fx_rate\\': 1.0, \\'market_currency\\': \\'USD\\', \\'accrual_date\\': \\'-\\', \\'doc_id\\': \\'JPM\\'}]}, max_value_length=4000))])',\n",
       " 'name': 'AgentExecutor',\n",
       " 'graph': {'nodes': [{'id': 0, 'type': 'schema', 'data': 'ChainInput'},\n",
       "   {'id': 1,\n",
       "    'type': 'runnable',\n",
       "    'data': {'id': ['langchain', 'agents', 'agent', 'AgentExecutor'],\n",
       "     'name': 'AgentExecutor'}},\n",
       "   {'id': 2, 'type': 'schema', 'data': 'ChainOutput'}],\n",
       "  'edges': [{'source': 0, 'target': 1}, {'source': 1, 'target': 2}]}}"
      ]
     },
     "execution_count": 14,
     "metadata": {},
     "output_type": "execute_result"
    }
   ],
   "execution_count": 14
  },
  {
   "metadata": {
    "ExecuteTime": {
     "end_time": "2024-07-24T19:54:37.060183Z",
     "start_time": "2024-07-24T19:54:32.434303Z"
    }
   },
   "cell_type": "code",
   "source": [
    "json_agent_executor.run(\n",
    "    \"What is the company name with the highest the market value?\"\n",
    ")"
   ],
   "id": "39ff5b1ae4dadc48",
   "outputs": [
    {
     "name": "stdout",
     "output_type": "stream",
     "text": [
      "\n",
      "\n",
      "\u001B[1m> Entering new AgentExecutor chain...\u001B[0m\n",
      "\u001B[32;1m\u001B[1;3mAction: json_spec_list_keys\n",
      "Action Input: data\u001B[0m\n",
      "Observation: \u001B[36;1m\u001B[1;3m['companies']\u001B[0m\n",
      "Thought:\u001B[32;1m\u001B[1;3m I should look at the keys that exist in data[\"companies\"] to see what I have access to\n",
      "Action: json_spec_list_keys\n",
      "Action Input: data[\"companies\"]\u001B[0m\n",
      "Observation: \u001B[36;1m\u001B[1;3mValueError('Value at path `data[\"companies\"]` is not a dict, get the value directly.')\u001B[0m\n",
      "Thought:\u001B[32;1m\u001B[1;3m I should use json_spec_get_value to see what the value is at data[\"companies\"]\n",
      "Action: json_spec_get_value\n",
      "Action Input: data[\"companies\"]\u001B[0m\n",
      "Observation: \u001B[33;1m\u001B[1;3m[{'ticker': 'AAPL', 'company_name': 'APPLE INC', 'sector': 'Information Technology', 'asset_class': 'Equity', 'market_value': 559365151.11, 'weight': 5.16, 'notional_value': 559365151.11, 'shares': 4305127.0, 'location': 'United States', 'price': 129.93, 'exchange': 'NASDAQ', 'currency': 'USD', 'fx_rate': 1.0, 'market_currency': 'USD', 'accrual_date': '-', 'doc_id': 'AAPL'}, {'ticker': 'MSFT', 'company_name': 'MICROSOFT CORP', 'sector': 'Information Technology', 'asset_class': 'Equity', 'market_value': 513917712.42, 'weight': 4.74, 'notional_value': 513917712.42, 'shares': 2142931.0, 'location': 'United States', 'price': 239.82, 'exchange': 'NASDAQ', 'currency': 'USD', 'fx_rate': 1.0, 'market_currency': 'USD', 'accrual_date': '-', 'doc_id': 'MSFT'}, {'ticker': 'AMZN', 'company_name': 'AMAZON COM INC', 'sector': 'Consumer Discretionary', 'asset_class': 'Equity', 'market_value': 213823596.0, 'weight': 1.97, 'notional_value': 213823596.0, 'shares': 2545519.0, 'location': 'United States', 'price': 84.0, 'exchange': 'NASDAQ', 'currency': 'USD', 'fx_rate': 1.0, 'market_currency': 'USD', 'accrual_date': '-', 'doc_id': 'AMZN'}, {'ticker': 'BRKB', 'company_name': 'BERKSHIRE HATHAWAY INC CLASS B', 'sector': 'Financials', 'asset_class': 'Equity', 'market_value': 159603687.6, 'weight': 1.47, 'notional_value': 159603687.6, 'shares': 516684.0, 'location': 'United States', 'price': 308.9, 'exchange': 'New York Stock Exchange Inc.', 'currency': 'USD', 'fx_rate': 1.0, 'market_currency': 'USD', 'accrual_date': '-', 'doc_id': 'BRKB'}, {'ticker': 'GOOGL', 'company_name': 'ALPHABET INC CLASS A', 'sector': 'Communication', 'asset_class': 'Equity', 'market_value': 151996026.75, 'weight': 1.4, 'notional_value': 151996026.75, 'shares': 1722725.0, 'location': 'United States', 'price': 88.23, 'exchange': 'NASDAQ', 'currency': 'USD', 'fx_rate': 1.0, 'market_currency': 'USD', 'accrual_date': '-', 'doc_id': 'GOOGL'}, {'ticker': 'UNH', 'company_name': 'UNITEDHEALTH GROUP INC', 'sector': 'Health Care', 'asset_class': 'Equity', 'market_value': 142028859.84, 'weight': 1.31, 'notional_value': 142028859.84, 'shares': 267888.0, 'location': 'United States', 'price': 530.18, 'exchange': 'New York Stock Exchange Inc.', 'currency': 'USD', 'fx_rate': 1.0, 'market_currency': 'USD', 'accrual_date': '-', 'doc_id': 'UNH'}, {'ticker': 'GOOG', 'company_name': 'ALPHABET INC CLASS C', 'sector': 'Communication', 'asset_class': 'Equity', 'market_value': 135557878.61, 'weight': 1.25, 'notional_value': 135557878.61, 'shares': 1527757.0, 'location': 'United States', 'price': 88.73, 'exchange': 'NASDAQ', 'currency': 'USD', 'fx_rate': 1.0, 'market_currency': 'USD', 'accrual_date': '-', 'doc_id': 'GOOG'}, {'ticker': 'JNJ', 'company_name': 'JOHNSON & JOHNSON', 'sector': 'Health Care', 'asset_class': 'Equity', 'market_value': 133147817.7, 'weight': 1.23, 'notional_value': 133147817.7, 'shares': 753738.0, 'location': 'United States', 'price': 176.65, 'exchange': 'New York Stock Exchange Inc.', 'currency': 'USD', 'fx_rate': 1.0, 'market_currency': 'USD', 'accrual_date': '-', 'doc_id': 'JNJ'}, {'ticker': 'XOM', 'company_name': 'EXXON MOBIL CORP', 'sector': 'Energy', 'asset_class': 'Equity', 'market_value': 130179148.4, 'weight': 1.2, 'notional_value': 130179148.4, 'shares': 1180228.0, 'location': 'United States', 'price': 110.3, 'exchange': 'New York Stock Exchange Inc.', 'currency': 'USD', 'fx_rate': 1.0, 'market_currency': 'USD', 'accrual_date': '-', 'doc_id': 'XOM'}, {'ticker': 'JPM', 'company_name': 'JPMORGAN CHASE & CO', 'sector': 'Financials', 'asset_class': 'Equity', 'market_value': 112022178.3, 'weight': 1.03, 'notional_value': 112022178.3, 'shares': 835363.0, 'location': 'United States', 'price': 134.1, 'exchange': 'New York Stock Exchange Inc.', 'currency': 'USD', 'fx_rate': 1.0, 'market_currency': 'USD', 'accrual_date': '-', 'doc_id': 'JPM'}]\u001B[0m\n",
      "Thought:\u001B[32;1m\u001B[1;3m I should use json_spec_get_value to see what the value is at data[\"companies\"][0]\n",
      "Action: json_spec_get_value\n",
      "Action Input: data[\"companies\"][0]\u001B[0m\n",
      "Observation: \u001B[33;1m\u001B[1;3m{'ticker': 'AAPL', 'company_name': 'APPLE INC', 'sector': 'Information Technology', 'asset_class': 'Equity', 'market_value': 559365151.11, 'weight': 5.16, 'notional_value': 559365151.11, 'shares': 4305127.0, 'location': 'United States', 'price': 129.93, 'exchange': 'NASDAQ', 'currency': 'USD', 'fx_rate': 1.0, 'market_currency': 'USD', 'accrual_date': '-', 'doc_id': 'AAPL'}\u001B[0m\n",
      "Thought:\u001B[32;1m\u001B[1;3m I should use json_spec_get_value to see what the value is at data[\"companies\"][0][\"company_name\"]\n",
      "Action: json_spec_get_value\n",
      "Action Input: data[\"companies\"][0][\"company_name\"]\u001B[0m\n",
      "Observation: \u001B[33;1m\u001B[1;3mAPPLE INC\u001B[0m\n",
      "Thought:\u001B[32;1m\u001B[1;3m I now know the final answer\n",
      "Final Answer: APPLE INC\u001B[0m\n",
      "\n",
      "\u001B[1m> Finished chain.\u001B[0m\n"
     ]
    },
    {
     "data": {
      "text/plain": [
       "'APPLE INC'"
      ]
     },
     "execution_count": 17,
     "metadata": {},
     "output_type": "execute_result"
    }
   ],
   "execution_count": 17
  },
  {
   "metadata": {
    "ExecuteTime": {
     "end_time": "2024-07-24T19:53:34.604021Z",
     "start_time": "2024-07-24T19:53:34.600777Z"
    }
   },
   "cell_type": "code",
   "source": "",
   "id": "eb29fdc75ff7fcb1",
   "outputs": [],
   "execution_count": 15
  }
 ],
 "metadata": {
  "kernelspec": {
   "display_name": "Python 3 (ipykernel)",
   "language": "python",
   "name": "python3"
  },
  "language_info": {
   "codemirror_mode": {
    "name": "ipython",
    "version": 3
   },
   "file_extension": ".py",
   "mimetype": "text/x-python",
   "name": "python",
   "nbconvert_exporter": "python",
   "pygments_lexer": "ipython3",
   "version": "3.11.2"
  }
 },
 "nbformat": 4,
 "nbformat_minor": 5
}
